{
 "cells": [
  {
   "cell_type": "markdown",
   "id": "cdd6101d",
   "metadata": {},
   "source": [
    "# Queue\n",
    "\n"
   ]
  },
  {
   "cell_type": "markdown",
   "id": "7f9e997d",
   "metadata": {},
   "source": [
    "###### Implementing Queue in python"
   ]
  },
  {
   "cell_type": "code",
   "execution_count": 6,
   "id": "f4211974",
   "metadata": {},
   "outputs": [
    {
     "name": "stdout",
     "output_type": "stream",
     "text": [
      "10\n",
      "False\n",
      "2\n"
     ]
    }
   ],
   "source": [
    "# 1.Using List(Basic Implementation)\n",
    "\n",
    "class Queue:\n",
    "    def __init__(self):\n",
    "        self.queue = []\n",
    "        \n",
    "    def enqueue(self, item):\n",
    "        self.queue.append(item)  # Add element to the queue\n",
    "        \n",
    "    def dequeue(self):\n",
    "        if not self.is_empty():\n",
    "            return self.queue.pop(0)  # Remove and return the front element\n",
    "        return \"Queue is empty\"  # Handle underflow case\n",
    "    \n",
    "    def is_empty(self):\n",
    "        return len(self.queue) == 0  # Check if queue is empty\n",
    "    \n",
    "    def size(self):\n",
    "        return len(self.queue)  # Return size of queue\n",
    "\n",
    "# Example Usage\n",
    "q = Queue()\n",
    "q.enqueue(10)\n",
    "q.enqueue(20)\n",
    "q.enqueue(30)\n",
    "print(q.dequeue())  # Output: 10 (First element removed)\n",
    "print(q.is_empty())  # Output: False (Queue is not empty)\n",
    "print(q.size())  # Output: 2 (Remaining elements: 20, 30)"
   ]
  },
  {
   "cell_type": "code",
   "execution_count": 10,
   "id": "4a6bbe13",
   "metadata": {},
   "outputs": [
    {
     "name": "stdout",
     "output_type": "stream",
     "text": [
      "5\n",
      "10\n",
      "Queue is empty\n"
     ]
    }
   ],
   "source": [
    "# 2.Using Collection.dequeue (Recommended)\n",
    "\n",
    "from collections import deque\n",
    "\n",
    "class Queue:\n",
    "    def __init__(self):\n",
    "        self.queue = deque()\n",
    "        \n",
    "    def enqueue(self,item):\n",
    "        self.queue.append(item)\n",
    "        \n",
    "    def dequeue(self):\n",
    "        if self.queue:\n",
    "            return self.queue.popleft()\n",
    "        return \"Queue is empty\"\n",
    "    \n",
    "    def front(self):\n",
    "        if self.queue:\n",
    "            return self.queue[0]\n",
    "        return \"Queue is empty\"\n",
    "    \n",
    "    def is_empty(self):\n",
    "        return not self.queue\n",
    "    \n",
    "    def size(self):\n",
    "        return len(self.queue)\n",
    "    \n",
    "q = Queue()\n",
    "q.enqueue(5)\n",
    "q.enqueue(10)\n",
    "print(q.dequeue())  \n",
    "print(q.dequeue())  \n",
    "print(q.dequeue())  "
   ]
  },
  {
   "cell_type": "code",
   "execution_count": 11,
   "id": "91570caa",
   "metadata": {},
   "outputs": [
    {
     "name": "stdout",
     "output_type": "stream",
     "text": [
      "1\n",
      "2\n"
     ]
    }
   ],
   "source": [
    "# 3. Using queue.Queue (Thread - safe)\n",
    "\n",
    "from queue import Queue\n",
    "q = Queue(maxsize = 10)\n",
    "q.put(1)\n",
    "q.put(2)\n",
    "q.put(3)\n",
    "print(q.get())\n",
    "print(q.qsize())"
   ]
  },
  {
   "cell_type": "code",
   "execution_count": 12,
   "id": "c66d3850",
   "metadata": {},
   "outputs": [
    {
     "name": "stdout",
     "output_type": "stream",
     "text": [
      "Added job: Document1.pdf\n",
      "Added job: Image.png\n",
      "Added job: Report.docx\n",
      "Print queue: ['Document1.pdf', 'Image.png', 'Report.docx']\n",
      "Printing: Document1.pdf\n",
      "Print queue: ['Image.png', 'Report.docx']\n"
     ]
    }
   ],
   "source": [
    "# Example 1: Printing Tasks in a Queue\n",
    "\n",
    "from collections import deque\n",
    "\n",
    "class PrinterQueue:\n",
    "    def __init__(self):\n",
    "        self.queue = deque()\n",
    "\n",
    "    def add_job(self, job_name):\n",
    "        self.queue.append(job_name)\n",
    "        print(f\"Added job: {job_name}\")\n",
    "\n",
    "    def process_job(self):\n",
    "        if self.queue:\n",
    "            print(f\"Printing: {self.queue.popleft()}\")\n",
    "        else:\n",
    "            print(\"No jobs in queue.\")\n",
    "\n",
    "    def display_queue(self):\n",
    "        if self.queue:\n",
    "            print(\"Print queue:\", list(self.queue))\n",
    "        else:\n",
    "            print(\"The queue is empty.\")\n",
    "\n",
    "# Example Usage\n",
    "printer = PrinterQueue()\n",
    "printer.add_job(\"Document1.pdf\")\n",
    "printer.add_job(\"Image.png\")\n",
    "printer.add_job(\"Report.docx\")\n",
    "\n",
    "printer.display_queue()  # ['Document1.pdf', 'Image.png', 'Report.docx']\n",
    "printer.process_job()    # Printing: Document1.pdf\n",
    "printer.display_queue()  # ['Image.png', 'Report.docx']"
   ]
  },
  {
   "cell_type": "code",
   "execution_count": 13,
   "id": "78df9f98",
   "metadata": {},
   "outputs": [
    {
     "name": "stdout",
     "output_type": "stream",
     "text": [
      "Complaint received from Alice: Internet not working\n",
      "Complaint received from Bob: Billing issue\n",
      "Pending complaints: [('Alice', 'Internet not working'), ('Bob', 'Billing issue')]\n",
      "Resolved complaint of Alice: Internet not working\n",
      "Pending complaints: [('Bob', 'Billing issue')]\n"
     ]
    }
   ],
   "source": [
    "# Example 2: Customer Support Ticket System\n",
    "\n",
    "from collections import deque\n",
    "\n",
    "class SupportQueue:\n",
    "    def __init__(self):\n",
    "        self.queue = deque()\n",
    "\n",
    "    def submit_complaint(self, customer_name, issue):\n",
    "        self.queue.append((customer_name, issue))\n",
    "        print(f\"Complaint received from {customer_name}: {issue}\")\n",
    "\n",
    "    def resolve_complaint(self):\n",
    "        if self.queue:\n",
    "            customer, issue = self.queue.popleft()\n",
    "            print(f\"Resolved complaint of {customer}: {issue}\")\n",
    "        else:\n",
    "            print(\"No pending complaints.\")\n",
    "\n",
    "    def display_queue(self):\n",
    "        if self.queue:\n",
    "            print(\"Pending complaints:\", list(self.queue))\n",
    "        else:\n",
    "            print(\"No complaints in queue.\")\n",
    "\n",
    "# Example Usage\n",
    "support = SupportQueue()\n",
    "support.submit_complaint(\"Alice\", \"Internet not working\")\n",
    "support.submit_complaint(\"Bob\", \"Billing issue\")\n",
    "support.display_queue()\n",
    "\n",
    "support.resolve_complaint()  # Resolving Alice's issue\n",
    "support.display_queue()      # Remaining complaints\n"
   ]
  },
  {
   "cell_type": "code",
   "execution_count": 14,
   "id": "9b1e8ccc",
   "metadata": {},
   "outputs": [
    {
     "name": "stdout",
     "output_type": "stream",
     "text": [
      "John joined the queue.\n",
      "Emma joined the queue.\n",
      "Liam joined the queue.\n",
      "Customers in queue: ['John', 'Emma', 'Liam']\n",
      "Serving John.\n",
      "Customers in queue: ['Emma', 'Liam']\n"
     ]
    }
   ],
   "source": [
    "# Example 3: Simulation of a Bank Queue\n",
    "\n",
    "from collections import deque\n",
    "\n",
    "class BankQueue:\n",
    "    def __init__(self):\n",
    "        self.queue = deque()\n",
    "\n",
    "    def join_queue(self, customer_name):\n",
    "        self.queue.append(customer_name)\n",
    "        print(f\"{customer_name} joined the queue.\")\n",
    "\n",
    "    def serve_customer(self):\n",
    "        if self.queue:\n",
    "            print(f\"Serving {self.queue.popleft()}.\")\n",
    "        else:\n",
    "            print(\"No customers in queue.\")\n",
    "\n",
    "    def display_queue(self):\n",
    "        if self.queue:\n",
    "            print(\"Customers in queue:\", list(self.queue))\n",
    "        else:\n",
    "            print(\"The queue is empty.\")\n",
    "\n",
    "# Example Usage\n",
    "bank = BankQueue()\n",
    "bank.join_queue(\"John\")\n",
    "bank.join_queue(\"Emma\")\n",
    "bank.join_queue(\"Liam\")\n",
    "\n",
    "bank.display_queue()  # ['John', 'Emma', 'Liam']\n",
    "bank.serve_customer() # Serving John\n",
    "bank.display_queue()  # ['Emma', 'Liam']"
   ]
  },
  {
   "cell_type": "code",
   "execution_count": 15,
   "id": "ef0fd521",
   "metadata": {},
   "outputs": [
    {
     "name": "stdout",
     "output_type": "stream",
     "text": [
      "Enqueued 10\n",
      "Enqueued 20\n",
      "Enqueued 30\n",
      "Enqueued 40\n",
      "Enqueued 50\n",
      "Circular Queue: 10 20 30 40 50\n",
      "Dequeued 10\n",
      "Enqueued 60\n",
      "Circular Queue: 20 30 40 50 60\n"
     ]
    }
   ],
   "source": [
    "# Example 4: Circular Queue Implementation\n",
    "\n",
    "class CircularQueue:\n",
    "    def __init__(self, size):\n",
    "        self.queue = [None] * size\n",
    "        self.size = size\n",
    "        self.front = self.rear = -1\n",
    "\n",
    "    def enqueue(self, item):\n",
    "        if (self.rear + 1) % self.size == self.front:\n",
    "            print(\"Queue is full!\")\n",
    "            return\n",
    "        \n",
    "        if self.front == -1:  # First element\n",
    "            self.front = 0\n",
    "        self.rear = (self.rear + 1) % self.size\n",
    "        self.queue[self.rear] = item\n",
    "        print(f\"Enqueued {item}\")\n",
    "\n",
    "    def dequeue(self):\n",
    "        if self.front == -1:\n",
    "            print(\"Queue is empty!\")\n",
    "            return\n",
    "        \n",
    "        print(f\"Dequeued {self.queue[self.front]}\")\n",
    "        if self.front == self.rear:  # Last element removed\n",
    "            self.front = self.rear = -1\n",
    "        else:\n",
    "            self.front = (self.front + 1) % self.size\n",
    "\n",
    "    def display(self):\n",
    "        if self.front == -1:\n",
    "            print(\"Queue is empty!\")\n",
    "            return\n",
    "        \n",
    "        index = self.front\n",
    "        print(\"Circular Queue:\", end=\" \")\n",
    "        while index != self.rear:\n",
    "            print(self.queue[index], end=\" \")\n",
    "            index = (index + 1) % self.size\n",
    "        print(self.queue[index])  # Print the last element\n",
    "\n",
    "# Example Usage\n",
    "cq = CircularQueue(5)\n",
    "cq.enqueue(10)\n",
    "cq.enqueue(20)\n",
    "cq.enqueue(30)\n",
    "cq.enqueue(40)\n",
    "cq.enqueue(50)  # Queue full after this\n",
    "\n",
    "cq.display()  # Show queue\n",
    "\n",
    "cq.dequeue()  # Remove front element\n",
    "cq.enqueue(60)  # Add another element\n",
    "\n",
    "cq.display()  # Show updated queue\n"
   ]
  },
  {
   "cell_type": "code",
   "execution_count": null,
   "id": "87e43871",
   "metadata": {},
   "outputs": [],
   "source": []
  }
 ],
 "metadata": {
  "kernelspec": {
   "display_name": "Python 3 (ipykernel)",
   "language": "python",
   "name": "python3"
  },
  "language_info": {
   "codemirror_mode": {
    "name": "ipython",
    "version": 3
   },
   "file_extension": ".py",
   "mimetype": "text/x-python",
   "name": "python",
   "nbconvert_exporter": "python",
   "pygments_lexer": "ipython3",
   "version": "3.11.3"
  }
 },
 "nbformat": 4,
 "nbformat_minor": 5
}
