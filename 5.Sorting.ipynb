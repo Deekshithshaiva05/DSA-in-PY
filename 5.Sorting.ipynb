{
 "cells": [
  {
   "cell_type": "markdown",
   "id": "54f1137d",
   "metadata": {},
   "source": [
    "# 1. Selection Sort"
   ]
  },
  {
   "cell_type": "code",
   "execution_count": 1,
   "id": "3ffa1e6e",
   "metadata": {},
   "outputs": [
    {
     "name": "stdout",
     "output_type": "stream",
     "text": [
      "Sorted array: [11, 12, 22, 25, 64]\n"
     ]
    }
   ],
   "source": [
    "# https://takeuforward.org/sorting/selection-sort-algorithm/\n",
    "\n",
    "def selection_sort(arr):\n",
    "    n = len(arr)\n",
    "    for i in range(n-1):\n",
    "        min_idx = i\n",
    "        for j in range(i+1, n):\n",
    "            if arr[j] < arr[min_idx]:\n",
    "                min_idx = j\n",
    "        arr[i], arr[min_idx] = arr[min_idx], arr[i]\n",
    "\n",
    "arr = [64, 25, 12, 22, 11]\n",
    "selection_sort(arr)\n",
    "print(\"Sorted array:\", arr)"
   ]
  },
  {
   "cell_type": "markdown",
   "id": "f6b80827",
   "metadata": {},
   "source": [
    "# 2. Bubble Sort"
   ]
  },
  {
   "cell_type": "code",
   "execution_count": 4,
   "id": "ecd3ee54",
   "metadata": {},
   "outputs": [
    {
     "name": "stdout",
     "output_type": "stream",
     "text": [
      "Sorted array is: [11, 12, 22, 25, 34, 64, 90]\n"
     ]
    }
   ],
   "source": [
    "def Bubble_sort(arr):\n",
    "    n = len(arr)\n",
    "    for i in range(n):\n",
    "        swapped = False\n",
    "        for j in range(0,n-i-1):\n",
    "            if arr[j] > arr[j+1]:\n",
    "                arr[j] , arr[j+1] = arr[j+1] , arr[j]\n",
    "                swapped = True\n",
    "        if not swapped:\n",
    "                break\n",
    "    \n",
    "arr = [64, 34, 25, 12, 22, 11, 90]\n",
    "Bubble_sort(arr)\n",
    "print(\"Sorted array is:\", arr)"
   ]
  },
  {
   "cell_type": "markdown",
   "id": "1a0c64c6",
   "metadata": {},
   "source": [
    "# 3. insertion sort "
   ]
  },
  {
   "cell_type": "code",
   "execution_count": 8,
   "id": "ff5b381a",
   "metadata": {},
   "outputs": [
    {
     "name": "stdout",
     "output_type": "stream",
     "text": [
      "Before Using insertion Sort: [13, 46, 24, 52, 20, 9]\n",
      "After Using insertion Sort: [9, 13, 20, 24, 46, 52]\n"
     ]
    }
   ],
   "source": [
    "def insertion_sort(arr):\n",
    "    n = len(arr)\n",
    "    for i in range(n):\n",
    "        j = i\n",
    "        while j > 0 and arr[j-1] > arr[j]:\n",
    "            arr[j-1] , arr[j] = arr[j] , arr[j-1]\n",
    "            j -= 1\n",
    "\n",
    "if __name__ == \"__main__\":\n",
    "    arr = [13, 46, 24, 52, 20, 9]\n",
    "    print(\"Before Using insertion Sort:\",arr)\n",
    "    insertion_sort(arr)\n",
    "    print(\"After Using insertion Sort:\",arr)"
   ]
  },
  {
   "cell_type": "markdown",
   "id": "259a95bc",
   "metadata": {},
   "source": [
    "# 4.Merge Sort"
   ]
  },
  {
   "cell_type": "code",
   "execution_count": 2,
   "id": "c58c1add",
   "metadata": {},
   "outputs": [
    {
     "name": "stdout",
     "output_type": "stream",
     "text": [
      "[1, 1, 2, 3, 5, 6, 6, 6, 9]\n"
     ]
    }
   ],
   "source": [
    "def mergesort(arr, low, high):\n",
    "    if low >= high:\n",
    "        return\n",
    "    mid = (low + high) // 2                \n",
    "    mergesort(arr, low, mid)\n",
    "    mergesort(arr, mid + 1, high)\n",
    "    merge(arr, low, mid, high)\n",
    "    \n",
    "def merge(arr, low, mid, high):\n",
    "    left = arr[low:mid + 1]                 \n",
    "    right = arr[mid + 1:high + 1]           \n",
    "    \n",
    "    i = 0     \n",
    "    j = 0     \n",
    "    k = low  \n",
    "    \n",
    "    while i < len(left) and j < len(right):\n",
    "        if left[i] <= right[j]:\n",
    "            arr[k] = left[i]\n",
    "            i += 1\n",
    "        else:\n",
    "            arr[k] = right[j]\n",
    "            j += 1\n",
    "        k += 1\n",
    "    \n",
    "    while i < len(left):\n",
    "        arr[k] = left[i]\n",
    "        i += 1\n",
    "        k += 1\n",
    "    \n",
    "    while j < len(right):\n",
    "        arr[k] = right[j]\n",
    "        j += 1\n",
    "        k += 1\n",
    "        \n",
    "arr = [2,6,3,1,6,9,5,1,6]\n",
    "mergesort(arr, 0, len(arr) - 1)\n",
    "print(arr)"
   ]
  },
  {
   "cell_type": "markdown",
   "id": "c893ecdc",
   "metadata": {},
   "source": [
    "# 5. QUICK SORT"
   ]
  },
  {
   "cell_type": "code",
   "execution_count": 1,
   "id": "452f7efd",
   "metadata": {},
   "outputs": [
    {
     "name": "stdout",
     "output_type": "stream",
     "text": [
      "Unsorted: [10, 7, 8, 9, 1, 5]\n",
      "Sorted: [1, 5, 7, 8, 9, 10]\n"
     ]
    }
   ],
   "source": [
    "def partition(arr, low, high):\n",
    "    pivot = arr[high]\n",
    "    i = low - 1\n",
    "\n",
    "    for j in range(low, high):\n",
    "        if arr[j] <= pivot:\n",
    "            i += 1\n",
    "            arr[i], arr[j] = arr[j], arr[i]\n",
    "\n",
    "    arr[i + 1], arr[high] = arr[high], arr[i + 1]\n",
    "    return i + 1\n",
    "\n",
    "def quicksort(arr, low, high):\n",
    "    if low < high:\n",
    "        pi = partition(arr, low, high)\n",
    "        quicksort(arr, low, pi - 1)\n",
    "        quicksort(arr, pi + 1, high)\n",
    "\n",
    "if __name__ == \"__main__\":\n",
    "    arr = [10, 7, 8, 9, 1, 5]\n",
    "    print(\"Unsorted:\", arr)\n",
    "    quicksort(arr, 0, len(arr) - 1)\n",
    "    print(\"Sorted:\", arr)\n"
   ]
  },
  {
   "cell_type": "markdown",
   "id": "dc001b0d",
   "metadata": {},
   "source": [
    "# 6.Recursive Bubble Sort"
   ]
  },
  {
   "cell_type": "code",
   "execution_count": 2,
   "id": "3a19877f",
   "metadata": {},
   "outputs": [
    {
     "name": "stdout",
     "output_type": "stream",
     "text": [
      "Unsorted: [5, 1, 4, 2, 8]\n",
      "Sorted: [1, 2, 4, 5, 8]\n"
     ]
    }
   ],
   "source": [
    "def recursive_bubble_sort(arr, n=None):\n",
    "    if n is None:\n",
    "        n = len(arr)\n",
    "    # Base case: If array size is 1, do nothing\n",
    "    if n == 1:\n",
    "        return\n",
    "\n",
    "    # Perform one pass to move the largest element to the end\n",
    "    for i in range(n - 1):\n",
    "        if arr[i] > arr[i + 1]:\n",
    "            arr[i], arr[i + 1] = arr[i + 1], arr[i]\n",
    "\n",
    "    # Recursively sort the rest\n",
    "    recursive_bubble_sort(arr, n - 1)\n",
    "\n",
    "# Example usage\n",
    "arr = [5, 1, 4, 2, 8]\n",
    "print(\"Unsorted:\", arr)\n",
    "recursive_bubble_sort(arr)\n",
    "print(\"Sorted:\", arr)"
   ]
  },
  {
   "cell_type": "markdown",
   "id": "3aa8a9c3",
   "metadata": {},
   "source": [
    "# 7. Recursive Insertion Sort "
   ]
  },
  {
   "cell_type": "code",
   "execution_count": 4,
   "id": "cf59d32a",
   "metadata": {},
   "outputs": [
    {
     "name": "stdout",
     "output_type": "stream",
     "text": [
      "Unsorted: [12, 11, 13, 5, 6]\n",
      "Sorted: [5, 6, 11, 12, 13]\n"
     ]
    }
   ],
   "source": [
    "def recursive_insertion_sort(arr,n=None):\n",
    "    if n is None:\n",
    "        n = len(arr)\n",
    "        \n",
    "    if n <= 1:\n",
    "        return\n",
    "    \n",
    "    recursive_insertion_sort(arr,n-1)\n",
    "    \n",
    "    last = arr[n-1]\n",
    "    j = n-2\n",
    "    \n",
    "    while j >= 0 and arr[j] > last:\n",
    "        arr[j+1] = arr[j]\n",
    "        j -= 1\n",
    "        \n",
    "    arr[j+1] = last\n",
    "    \n",
    "arr = [12, 11, 13, 5, 6]\n",
    "print(\"Unsorted:\", arr)\n",
    "recursive_insertion_sort(arr)\n",
    "print(\"Sorted:\", arr)"
   ]
  },
  {
   "cell_type": "code",
   "execution_count": null,
   "id": "109a44fb",
   "metadata": {},
   "outputs": [],
   "source": []
  }
 ],
 "metadata": {
  "kernelspec": {
   "display_name": "Python 3 (ipykernel)",
   "language": "python",
   "name": "python3"
  },
  "language_info": {
   "codemirror_mode": {
    "name": "ipython",
    "version": 3
   },
   "file_extension": ".py",
   "mimetype": "text/x-python",
   "name": "python",
   "nbconvert_exporter": "python",
   "pygments_lexer": "ipython3",
   "version": "3.11.3"
  }
 },
 "nbformat": 4,
 "nbformat_minor": 5
}
