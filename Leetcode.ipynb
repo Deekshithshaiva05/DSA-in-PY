{
 "cells": [
  {
   "cell_type": "markdown",
   "id": "6acefe6b",
   "metadata": {},
   "source": [
    "# Leetcode problem solving"
   ]
  },
  {
   "cell_type": "markdown",
   "id": "aa022ed3",
   "metadata": {},
   "source": [
    "# 1. Maximum Swap"
   ]
  },
  {
   "cell_type": "code",
   "execution_count": 3,
   "id": "f396d668",
   "metadata": {},
   "outputs": [
    {
     "name": "stdout",
     "output_type": "stream",
     "text": [
      "Enter a number: 3567\n",
      "7563\n"
     ]
    }
   ],
   "source": [
    "#You are given an integer num. You can swap two digits at most once to get the maximum valued number.\n",
    "\n",
    "#Return the maximum valued number you can get.\n",
    "\n",
    "\n",
    "\n",
    "class Solution:\n",
    "    def maximumSwap(self, num):\n",
    "        # Convert the number to a list of characters for easy manipulation\n",
    "        num_list = list(str(num))\n",
    "        \n",
    "        # Track the last occurrence of each digit (0-9)\n",
    "        last = {int(d): i for i, d in enumerate(num_list)}\n",
    "        \n",
    "        # Traverse the number from left to right\n",
    "        for i, digit in enumerate(num_list):\n",
    "            # Check for a larger digit to swap\n",
    "            for d in range(9, int(digit), -1):\n",
    "                if last.get(d, -1) > i:\n",
    "                    # Swap and return the new number\n",
    "                    num_list[i], num_list[last[d]] = num_list[last[d]], num_list[i]\n",
    "                    return int(''.join(num_list))\n",
    "        \n",
    "        # If no swap occurred, return the original number\n",
    "        return num\n",
    "    \n",
    "    \n",
    "user_input = int(input(\"Enter a number: \"))\n",
    "sol = Solution()\n",
    "output = sol.maximumSwap(user_input)\n",
    "print(output)\n"
   ]
  },
  {
   "cell_type": "markdown",
   "id": "063ae178",
   "metadata": {},
   "source": [
    "# 2.Find Second Smallest and Second Largest Element in an array"
   ]
  },
  {
   "cell_type": "code",
   "execution_count": 8,
   "id": "d01ddb69",
   "metadata": {},
   "outputs": [
    {
     "name": "stdout",
     "output_type": "stream",
     "text": [
      "Enter the number of elements:5\n",
      "Enter the array element 1:7\n",
      "Enter the array element 2:3\n",
      "Enter the array element 3:0\n",
      "Enter the array element 4:5\n",
      "Enter the array element 5:3\n",
      "[0, 3, 3, 5, 7]\n",
      "The largest array is 3 and sortest array is 5\n"
     ]
    }
   ],
   "source": [
    "'''Solution 1: (Brute Force) [this approach only works if there are no duplicates]\n",
    "Intuition:\n",
    "What do we do to find the largest or the smallest element present in an array? \n",
    "\n",
    "We ideally sort them and the first element would be the smallest of all while the last element would be the largest. \n",
    "Can we find the second-smallest and second-largest using a similar approach?\n",
    "\n",
    "Approach:\n",
    "Sort the array in ascending order\n",
    "The element present at the second index is the second smallest element\n",
    "The element present at the second index from the end is the second largest element'''\n",
    "\n",
    "\n",
    "def sec_large_small():\n",
    "    input1 = int(input(\"Enter the number of elements:\"))\n",
    "    arr = []\n",
    "    \n",
    "    for i in range(input1):\n",
    "        input2 = int(input(f\"Enter the array element {i+1}:\"))\n",
    "        arr.append(input2)\n",
    "        \n",
    "    arr.sort()\n",
    "    print(arr)\n",
    "    \n",
    "    print(f\"The second largest array is {arr[1]} and second sortest array is {arr[-2]}\")\n",
    "\n",
    "sec_large_small()"
   ]
  },
  {
   "cell_type": "markdown",
   "id": "e33c7f06",
   "metadata": {},
   "source": [
    "###                                                                                OR "
   ]
  },
  {
   "cell_type": "code",
   "execution_count": 12,
   "id": "ad808d26",
   "metadata": {},
   "outputs": [
    {
     "name": "stdout",
     "output_type": "stream",
     "text": [
      "Second smallest is 1\n",
      "Second largest is 6\n"
     ]
    }
   ],
   "source": [
    "def getElements(arr, n):\n",
    "    if n == 0 or n == 1:\n",
    "        print(-1, -1)\n",
    "    arr.sort()\n",
    "    small = arr[1]\n",
    "    large = arr[n-2]\n",
    "    print(\"Second smallest is\", small)\n",
    "    print(\"Second largest is\", large)\n",
    "\n",
    "\n",
    "\n",
    "\n",
    "if __name__ == '__main__':\n",
    "    arr = [1,1, 2, 4, 6, 7, 5]\n",
    "    n = len(arr)\n",
    "    getElements(arr, n)\n",
    "    \n",
    "    \n",
    "# Complexity Analysis :   Time Complexity: O(NlogN), For sorting the array.    Space Complexity: O(1)"
   ]
  },
  {
   "cell_type": "code",
   "execution_count": 11,
   "id": "e3b5e10b",
   "metadata": {},
   "outputs": [
    {
     "name": "stdout",
     "output_type": "stream",
     "text": [
      "Second smallest is 2\n",
      "Second largest is 6\n"
     ]
    }
   ],
   "source": [
    "'''Solution 2(Better Approach)\n",
    "Intuition:\n",
    "Even though we want to have just the second smallest and largest elements, \n",
    "we are still sorting the entire array for that and thus increasing the time complexity. \n",
    "Can we somehow try to not sort the array and still get our answer?\n",
    "\n",
    "Approach:\n",
    "Find the smallest and largest element in the array in a single traversal\n",
    "After this, we once again traverse the array and find an element that is just greater than the smallest element we just found.\n",
    "Similarly, we would find the largest element which is just smaller than the largest element we just found\n",
    "Indeed, this is our second smallest and second largest element.'''\n",
    "\n",
    "\n",
    "def getElements(arr, n):\n",
    "    if n == 0 or n == 1:\n",
    "        print(-1, -1)  # edge case when only one element is present in array\n",
    "    small = float('inf')\n",
    "    second_small = float('inf')\n",
    "    large = float('-inf')\n",
    "    second_large = float('-inf')\n",
    "    for i in range(n):\n",
    "        small = min(small, arr[i])\n",
    "        large = max(large, arr[i])\n",
    "    for i in range(n):\n",
    "        if arr[i] < second_small and arr[i] != small:\n",
    "            second_small = arr[i]\n",
    "        if arr[i] > second_large and arr[i] != large:\n",
    "            second_large = arr[i]\n",
    "    print(\"Second smallest is\", second_small)\n",
    "    print(\"Second largest is\", second_large)\n",
    "\n",
    "\n",
    "\n",
    "\n",
    "if __name__ == '__main__':\n",
    "    arr = [1, 1 , 2, 4, 6, 7, 5]\n",
    "    n = len(arr)\n",
    "    getElements(arr, n)\n",
    "    \n",
    "# Complexity Analysis :   Time Complexity: O(N), We do two linear traversals in our array.   Space Complexity: O(1)"
   ]
  },
  {
   "cell_type": "code",
   "execution_count": 13,
   "id": "0a0480ce",
   "metadata": {},
   "outputs": [
    {
     "name": "stdout",
     "output_type": "stream",
     "text": [
      "Second smallest is 2\n",
      "Second largest is 5\n"
     ]
    }
   ],
   "source": [
    "'''Solution 3(Best Solution)(Optimal Approach)\n",
    "Intuition:\n",
    "In the previous solution, even though we were able to bring down the time complexity to O(N), we still needed to do two traversals to find our answer. Can we do this in a single traversal by using smart comparisons on the go?\n",
    "\n",
    "Approach:\n",
    "We would require four variables: small,second_small, large, and second_large. Variable small and second_small are initialized to INT_MAX while large and second_large are initialized to INT_MIN.\n",
    "\n",
    "Second Smallest Algo:\n",
    "\n",
    "If the current element is smaller than ‘small’, then we update second_small and small variables\n",
    "Else if the current element is smaller than ‘second_small’ then we update the variable ‘second_small’\n",
    "Once we traverse the entire array, we would find the second smallest element in the variable second_small.\n",
    "Here’s a quick demonstration of the same.\n",
    "Second Largest Algo:\n",
    "\n",
    "If the current element is larger than ‘large’ then update second_large and large variables\n",
    "Else if the current element is larger than ‘second_large’ then we update the variable second_large.\n",
    "Once we traverse the entire array, we would find the second largest element in the variable second_large.\n",
    "Here’s a quick demonstration of the same.'''\n",
    "\n",
    "\n",
    "def secondSmallest(arr, n):\n",
    "    if (n < 2):\n",
    "        return -1\n",
    "    small = float('inf')\n",
    "    second_small = float('inf')\n",
    "    for i in range(n):\n",
    "        if (arr[i] < small):\n",
    "            second_small = small\n",
    "            small = arr[i]\n",
    "        elif (arr[i] < second_small and arr[i] != small):\n",
    "            second_small = arr[i]\n",
    "    return second_small\n",
    "\n",
    "\n",
    "\n",
    "\n",
    "def secondLargest(arr, n):\n",
    "    if (n < 2):\n",
    "        return -1\n",
    "    large = float('-inf')\n",
    "    second_large = float('-inf')\n",
    "    for i in range(n):\n",
    "        if (arr[i] > large):\n",
    "            second_large = large\n",
    "            large = arr[i]\n",
    "        elif (arr[i] > second_large and arr[i] != large):\n",
    "            second_large = arr[i]\n",
    "    return second_large\n",
    "\n",
    "\n",
    "\n",
    "\n",
    "if __name__ == \"__main__\":\n",
    "    arr = [1, 2, 4, 7, 7, 5]\n",
    "    n = len(arr)\n",
    "    sS = secondSmallest(arr, n)\n",
    "    sL = secondLargest(arr, n)\n",
    "    print(\"Second smallest is\", sS)\n",
    "    print(\"Second largest is\", sL)\n",
    "    \n",
    "# Complexity Analysis: Time Complexity: O(N), Single-pass solution.   Space Complexity: O(1)"
   ]
  },
  {
   "cell_type": "markdown",
   "id": "c2b1f277",
   "metadata": {},
   "source": [
    "# 3. Check if an Array is Sorted"
   ]
  },
  {
   "cell_type": "code",
   "execution_count": 7,
   "id": "b881102b",
   "metadata": {},
   "outputs": [
    {
     "name": "stdout",
     "output_type": "stream",
     "text": [
      "True\n"
     ]
    }
   ],
   "source": [
    "'''Problem Statement: Given an array of size n, write a program to check if the given array is sorted in \n",
    "(ascending / Increasing / Non-decreasing) order or not. If the array is sorted then return True, Else return False.\n",
    "\n",
    "Note: Two consecutive equal values are considered to be sorted.'''\n",
    "\n",
    "\n",
    "'''Solution:1 --  Approach: Brute Force apporach\n",
    "The idea is pretty simple here, We will start with the element at the 0th index, and will compare it with all of its \n",
    "future elements that are present in the array.\n",
    "If the picked element is smaller than or equal to all of its future values then we will move to the next Index/element \n",
    "until the whole array is traversed.\n",
    "If any of the picked elements is greater than its future elements, Then simply we will return False.\n",
    "If the size of the array is Zero or One i.e ( N = 0 or N = 1 ) or the entire array is traversed successfully then we will \n",
    "simply return True.'''\n",
    "\n",
    "\n",
    "\n",
    "def is_sorted(arr,n):\n",
    "    for i in range(n):\n",
    "        for j in range(i+1 ,n):\n",
    "            if arr[i] > arr[j]:\n",
    "                return False\n",
    "            \n",
    "        \n",
    "    return True\n",
    "\n",
    "if __name__ == \"__main__\":\n",
    "    arr = [3,4,5,6,7,9]\n",
    "    n = len(arr)\n",
    "    ans = is_sorted(arr,n)\n",
    "    if ans:\n",
    "        print(\"True\")\n",
    "    else:\n",
    "        print(\"False\")\n",
    "        \n",
    "\n",
    "        \n",
    "# Complexity Analysis:   Time Complexity: O(N^2)    Space Complexity: O(1)"
   ]
  },
  {
   "cell_type": "code",
   "execution_count": 8,
   "id": "fcde5f66",
   "metadata": {},
   "outputs": [
    {
     "name": "stdout",
     "output_type": "stream",
     "text": [
      "False\n"
     ]
    }
   ],
   "source": [
    "''' Solution 2 : ---  Approach: Efficient (Single traversal)\n",
    "As we know that for a sorted array the previous of every element is smaller than or equal to its current element.\n",
    "So, Through this, we can conclude that if the previous element is smaller than or equal to the current element then. \n",
    "Then we can say that the two elements are sorted. If the condition is true for the entire array then the array is sorted.\n",
    "We will check every element with its previous element if the previous element is smaller than or equal to the current \n",
    "element then we will move to the next index.\n",
    "If the whole array is traversed successfully or the size of the given array is zero or one (i.e N = 0 or N = 1). \n",
    "Then we will return True else return False.'''\n",
    "\n",
    "\n",
    "def is_sorted(arr,n):\n",
    "    for i in range(1,n):\n",
    "        if arr[i] < arr[i-1]:\n",
    "            return False\n",
    "    return True\n",
    "\n",
    "if __name__ == \"__main__\":\n",
    "    arr = [1,8,4,9,0]\n",
    "    n = len(arr)\n",
    "    print(\"True\" if is_sorted(arr,n) else \"False\")\n",
    "    \n",
    "# Complexity Analysis.  Time Complexity: O(N)    Space Complexity: O(1)"
   ]
  },
  {
   "cell_type": "markdown",
   "id": "724f2192",
   "metadata": {},
   "source": [
    "# Pattern Problems:"
   ]
  },
  {
   "cell_type": "code",
   "execution_count": 3,
   "id": "80913b0d",
   "metadata": {},
   "outputs": [
    {
     "name": "stdout",
     "output_type": "stream",
     "text": [
      "Enter the number:5\n",
      "* * * * * \n",
      "* * * * * \n",
      "* * * * * \n",
      "* * * * * \n",
      "* * * * * \n"
     ]
    }
   ],
   "source": [
    "input1 = int(input(\"Enter the number:\"))\n",
    "for i in range(input1):\n",
    "    for j in range(input1):\n",
    "        print(\"*\",end=\" \")\n",
    "    print()"
   ]
  },
  {
   "cell_type": "code",
   "execution_count": 4,
   "id": "7d031e35",
   "metadata": {},
   "outputs": [
    {
     "name": "stdout",
     "output_type": "stream",
     "text": [
      "Enter the number:4\n",
      "\n",
      "* \n",
      "* * \n",
      "* * * \n",
      "* * * * \n"
     ]
    }
   ],
   "source": [
    "input1 = int(input(\"Enter the number:\"))\n",
    "for i in range(input1+1):\n",
    "    for j in range(1,i+1):\n",
    "        print(\"*\",end=\" \")\n",
    "    print()"
   ]
  },
  {
   "cell_type": "code",
   "execution_count": 12,
   "id": "6eac50b2",
   "metadata": {},
   "outputs": [
    {
     "name": "stdout",
     "output_type": "stream",
     "text": [
      "Enter the number: 6\n",
      "1 \n",
      "1 2 \n",
      "1 2 3 \n",
      "1 2 3 4 \n",
      "1 2 3 4 5 \n",
      "1 2 3 4 5 6 \n"
     ]
    }
   ],
   "source": [
    "input1 = int(input(\"Enter the number: \"))\n",
    "for i in range(1, input1 + 1):\n",
    "    for j in range(1, i + 1):\n",
    "        print(j, end=\" \")\n",
    "    print() \n"
   ]
  },
  {
   "cell_type": "code",
   "execution_count": 15,
   "id": "29c31545",
   "metadata": {},
   "outputs": [
    {
     "name": "stdout",
     "output_type": "stream",
     "text": [
      "Enter the number: 7\n",
      "1 \n",
      "2 2 \n",
      "3 3 3 \n",
      "4 4 4 4 \n",
      "5 5 5 5 5 \n",
      "6 6 6 6 6 6 \n",
      "7 7 7 7 7 7 7 \n"
     ]
    }
   ],
   "source": [
    "input1 = int(input(\"Enter the number: \"))\n",
    "for i in range(1, input1 + 1):\n",
    "    for j in range(i):\n",
    "        print(i, end=\" \")\n",
    "    print() \n"
   ]
  },
  {
   "cell_type": "code",
   "execution_count": 1,
   "id": "054e228b",
   "metadata": {},
   "outputs": [
    {
     "name": "stdout",
     "output_type": "stream",
     "text": [
      "Enter the number of rows: 4\n",
      "* * * * \n",
      "* * * \n",
      "* * \n",
      "* \n"
     ]
    }
   ],
   "source": [
    "n = int(input(\"Enter the number of rows: \"))\n",
    "for i in range(n, 0, -1):\n",
    "    print(\"* \" * i)"
   ]
  },
  {
   "cell_type": "code",
   "execution_count": 2,
   "id": "95ef3ced",
   "metadata": {},
   "outputs": [
    {
     "name": "stdout",
     "output_type": "stream",
     "text": [
      "Enter the number of rows:4\n",
      "* * * * \n",
      "* * * \n",
      "* * \n",
      "* \n"
     ]
    }
   ],
   "source": [
    "n = int(input(\"Enter the number of rows:\"))\n",
    "for i in range(n,0,-1):\n",
    "    for j in range(i):\n",
    "        print(\"*\",end=\" \")\n",
    "    print()"
   ]
  },
  {
   "cell_type": "code",
   "execution_count": 2,
   "id": "e85fc18d",
   "metadata": {},
   "outputs": [
    {
     "name": "stdout",
     "output_type": "stream",
     "text": [
      "Enter the number of rows: 7\n",
      "      * \n",
      "     * * \n",
      "    * * * \n",
      "   * * * * \n",
      "  * * * * * \n",
      " * * * * * * \n",
      "* * * * * * * \n"
     ]
    }
   ],
   "source": [
    "n = int(input(\"Enter the number of rows: \"))\n",
    "for i in range(1, n+1):\n",
    "    print(\" \" * (n - i), end=\"\")\n",
    "    # Print asterisks with spaces in between\n",
    "    print(\"* \" * i)\n"
   ]
  },
  {
   "cell_type": "code",
   "execution_count": 11,
   "id": "bc2f1cfe",
   "metadata": {},
   "outputs": [
    {
     "name": "stdout",
     "output_type": "stream",
     "text": [
      "Enter the number of rows: 7\n",
      "      * \n",
      "     * * \n",
      "    * * * \n",
      "   * * * * \n",
      "  * * * * * \n",
      " * * * * * * \n",
      "* * * * * * * \n"
     ]
    }
   ],
   "source": [
    "n = int(input(\"Enter the number of rows: \"))\n",
    "for i in range(1, n + 1):  # Loop over each row\n",
    "    # Print leading spaces\n",
    "    for j in range(n - i):\n",
    "        print(\" \", end=\"\")\n",
    "    # Print asterisks with spaces\n",
    "    for j in range(i):\n",
    "        print(\"* \", end=\"\")\n",
    "    # Move to the next line after each row\n",
    "    print()"
   ]
  },
  {
   "cell_type": "code",
   "execution_count": 37,
   "id": "1e5873d3",
   "metadata": {},
   "outputs": [
    {
     "name": "stdout",
     "output_type": "stream",
     "text": [
      "Enter the number of rows:6\n",
      "* * * * * * \n",
      " * * * * * \n",
      "  * * * * \n",
      "   * * * \n",
      "    * * \n",
      "     * \n"
     ]
    }
   ],
   "source": [
    "n = int(input(\"Enter the number of rows:\"))\n",
    "for i in range(n):\n",
    "    for j in range(i):\n",
    "        print(\" \",end=\"\")\n",
    "    for j in range(n-i):\n",
    "        print(\"* \",end=\"\")\n",
    "    print()"
   ]
  },
  {
   "cell_type": "code",
   "execution_count": 38,
   "id": "05be45e1",
   "metadata": {},
   "outputs": [
    {
     "name": "stdout",
     "output_type": "stream",
     "text": [
      "Enter the number of rows: 4\n",
      "   * \n",
      "  * * \n",
      " * * * \n",
      "* * * * \n",
      "* * * * \n",
      " * * * \n",
      "  * * \n",
      "   * \n"
     ]
    }
   ],
   "source": [
    "n = int(input(\"Enter the number of rows: \"))\n",
    "for i in range(1, n + 1):  # Loop over each row\n",
    "    # Print leading spaces\n",
    "    for j in range(n - i):\n",
    "        print(\" \", end=\"\")\n",
    "    # Print asterisks with spaces\n",
    "    for j in range(i):\n",
    "        print(\"* \", end=\"\")\n",
    "    # Move to the next line after each row\n",
    "    print()\n",
    "for i in range(n):\n",
    "    for j in range(i):\n",
    "        print(\" \",end=\"\")\n",
    "    for j in range(n-i):\n",
    "        print(\"* \",end=\"\")\n",
    "    print()"
   ]
  },
  {
   "cell_type": "code",
   "execution_count": 58,
   "id": "621db01e",
   "metadata": {},
   "outputs": [
    {
     "name": "stdout",
     "output_type": "stream",
     "text": [
      "Enter the number:7\n",
      "\n",
      "* \n",
      "* * \n",
      "* * * \n",
      "* * * * \n",
      "* * * * * \n",
      "* * * * * * \n",
      "* * * * * * * \n",
      "* * * * * * \n",
      "* * * * * \n",
      "* * * * \n",
      "* * * \n",
      "* * \n",
      "* \n"
     ]
    }
   ],
   "source": [
    "n = int(input(\"Enter the number:\"))\n",
    "for i in range(n):\n",
    "    for j in range(i):\n",
    "        print(\"*\",end=\" \")\n",
    "    print()\n",
    "for i in range(n,0,-1):\n",
    "    for j in range(i):\n",
    "        print(\"*\",end=\" \")\n",
    "    print()\n"
   ]
  },
  {
   "cell_type": "code",
   "execution_count": 57,
   "id": "bfb0b864",
   "metadata": {},
   "outputs": [
    {
     "name": "stdout",
     "output_type": "stream",
     "text": [
      "* * * * * \n",
      "* * * * \n",
      "* * * \n",
      "* * \n",
      "* \n"
     ]
    }
   ],
   "source": [
    "\n",
    "for i in range(n,0,-1):\n",
    "    for j in range(i):\n",
    "        print(\"*\",end=\" \")\n",
    "    print()"
   ]
  },
  {
   "cell_type": "markdown",
   "id": "223ecb00",
   "metadata": {},
   "source": [
    "# 1957. Delete Characters to Make Fancy String"
   ]
  },
  {
   "cell_type": "code",
   "execution_count": 3,
   "id": "28d64237",
   "metadata": {},
   "outputs": [
    {
     "name": "stdout",
     "output_type": "stream",
     "text": [
      "Deekshith\n"
     ]
    }
   ],
   "source": [
    "'''  -> A fancy string is a string where no three consecutive characters are equal.\n",
    "\n",
    "     -> Given a string s, delete the minimum possible number of characters from s to make it fancy.\n",
    "\n",
    "     -> Return the final string after the deletion. It can be shown that the answer will always be unique.\n",
    "\n",
    " \n",
    "\n",
    "Example 1:\n",
    "\n",
    "Input: s = \"leeetcode\"\n",
    "Output: \"leetcode\"\n",
    "Explanation:\n",
    "Remove an 'e' from the first group of 'e's to create \"leetcode\".\n",
    "No three consecutive characters are equal, so return \"leetcode\".\n",
    "Example 2:\n",
    "\n",
    "Input: s = \"aaabaaaa\"\n",
    "Output: \"aabaa\"\n",
    "Explanation:\n",
    "Remove an 'a' from the first group of 'a's to create \"aabaaaa\".\n",
    "Remove two 'a's from the second group of 'a's to create \"aabaa\".\n",
    "No three consecutive characters are equal, so return \"aabaa\".\n",
    "Example 3:\n",
    "\n",
    "Input: s = \"aab\"\n",
    "Output: \"aab\"\n",
    "Explanation: No three consecutive characters are equal, so return \"aab\".  '''\n",
    "\n",
    "\n",
    "class Solution:\n",
    "    def makeFancyString(self, s):\n",
    "        streak, res = 0, s[0] if s else \"\"\n",
    "        \n",
    "        for i in range(1, len(s)):\n",
    "            if s[i] == s[i - 1]:\n",
    "                streak += 1\n",
    "            else:\n",
    "                streak = 1\n",
    "            \n",
    "            if streak < 3:\n",
    "                res += s[i]\n",
    "\n",
    "        return res\n",
    "\n",
    "# Example usage\n",
    "if __name__ == \"__main__\":\n",
    "    solution = Solution()\n",
    "    s = \"Deeekshith\"\n",
    "    print(solution.makeFancyString(s))  # Expected output: \"aabaa\"\n"
   ]
  },
  {
   "cell_type": "markdown",
   "id": "4ef85e2a",
   "metadata": {},
   "source": [
    "# 2490. Circular Sentence"
   ]
  },
  {
   "cell_type": "code",
   "execution_count": 1,
   "id": "d1b5be86",
   "metadata": {},
   "outputs": [
    {
     "name": "stdout",
     "output_type": "stream",
     "text": [
      "Enter a sentence: leetcode exercises sound delightful\n",
      "The sentence is circular.\n"
     ]
    }
   ],
   "source": [
    "'''A sentence is a list of words that are separated by a single space with no leading or trailing spaces.\n",
    "\n",
    "For example, \"Hello World\", \"HELLO\", \"hello world hello world\" are all sentences.\n",
    "Words consist of only uppercase and lowercase English letters. Uppercase and lowercase English letters are considered different.\n",
    "\n",
    "A sentence is circular if:\n",
    "\n",
    "The last character of a word is equal to the first character of the next word.\n",
    "The last character of the last word is equal to the first character of the first word.\n",
    "For example, \"leetcode exercises sound delightful\", \"eetcode\", \"leetcode eats soul\" are all circular sentences. However, \"Leetcode is cool\", \"happy Leetcode\", \"Leetcode\" and \"I like Leetcode\" are not circular sentences.\n",
    "\n",
    "Given a string sentence, return true if it is circular. Otherwise, return false.\n",
    "\n",
    " \n",
    "\n",
    "Example 1:\n",
    "\n",
    "Input: sentence = \"leetcode exercises sound delightful\"\n",
    "Output: true\n",
    "Explanation: The words in sentence are [\"leetcode\", \"exercises\", \"sound\", \"delightful\"].\n",
    "- leetcode's last character is equal to exercises's first character.\n",
    "- exercises's last character is equal to sound's first character.\n",
    "- sound's last character is equal to delightful's first character.\n",
    "- delightful's last character is equal to leetcode's first character.\n",
    "The sentence is circular.\n",
    "\n",
    "Example 2:\n",
    "\n",
    "Input: sentence = \"eetcode\"\n",
    "Output: true\n",
    "Explanation: The words in sentence are [\"eetcode\"].\n",
    "- eetcode's last character is equal to eetcode's first character.\n",
    "The sentence is circular.\n",
    "\n",
    "Example 3:\n",
    "\n",
    "Input: sentence = \"Leetcode is cool\"\n",
    "Output: false\n",
    "Explanation: The words in sentence are [\"Leetcode\", \"is\", \"cool\"].\n",
    "- Leetcode's last character is not equal to is's first character.\n",
    "The sentence is not circular.'''\n",
    "\n",
    "class Solution:\n",
    "    def isCircularSentence(self, sentence):\n",
    "        words = sentence.split()\n",
    "        n = len(words)\n",
    "        for i in range(n):\n",
    "            if words[i][-1] != words[(i + 1) % n][0]:\n",
    "                return False\n",
    "        return True\n",
    "\n",
    "sentence = input(\"Enter a sentence: \")\n",
    "solution = Solution()\n",
    "if solution.isCircularSentence(sentence):\n",
    "    print(\"The sentence is circular.\")\n",
    "else:\n",
    "    print(\"The sentence is not circular.\")\n"
   ]
  },
  {
   "cell_type": "markdown",
   "id": "e990ca43",
   "metadata": {},
   "source": [
    "# 796. Rotate String"
   ]
  },
  {
   "cell_type": "code",
   "execution_count": 4,
   "id": "6c42b71d",
   "metadata": {},
   "outputs": [
    {
     "name": "stdout",
     "output_type": "stream",
     "text": [
      "Enter the string s: aeiou\n",
      "Enter the string goal: iouae\n",
      "True\n",
      "aeiouaeiou\n"
     ]
    }
   ],
   "source": [
    "'''Given two strings s and goal, return true if and only if s can become goal after some number of shifts on s.\n",
    "\n",
    "A shift on s consists of moving the leftmost character of s to the rightmost position.\n",
    "\n",
    "For example, if s = \"abcde\", then it will be \"bcdea\" after one shift.\n",
    " \n",
    "\n",
    "Example 1:\n",
    "\n",
    "Input: s = \"abcde\", goal = \"cdeab\"\n",
    "Output: true\n",
    "Example 2:\n",
    "\n",
    "Input: s = \"abcde\", goal = \"abced\"\n",
    "Output: false\n",
    " '''\n",
    "\n",
    "class Solution:\n",
    "    def rotateString(self, s, goal):\n",
    "        if len(s) != len(goal):\n",
    "            return False\n",
    "        if goal in (s + s):\n",
    "            return True\n",
    "\n",
    "# Example usage\n",
    "s = input(\"Enter the string s: \")\n",
    "goal = input(\"Enter the string goal: \")\n",
    "solution = Solution()\n",
    "print(solution.rotateString(s, goal))\n",
    "\n",
    "print(s+s)"
   ]
  },
  {
   "cell_type": "markdown",
   "id": "004d025e",
   "metadata": {},
   "source": [
    "# 2914. Minimum Number of Changes to Make Binary String Beautiful"
   ]
  },
  {
   "cell_type": "code",
   "execution_count": 7,
   "id": "b2fd0cd0",
   "metadata": {
    "collapsed": true
   },
   "outputs": [
    {
     "ename": "TypeError",
     "evalue": "object of type 'int' has no len()",
     "output_type": "error",
     "traceback": [
      "\u001b[1;31m---------------------------------------------------------------------------\u001b[0m",
      "\u001b[1;31mTypeError\u001b[0m                                 Traceback (most recent call last)",
      "Cell \u001b[1;32mIn[7], line 45\u001b[0m\n\u001b[0;32m     42\u001b[0m         \u001b[38;5;28;01mreturn\u001b[39;00m count\n\u001b[0;32m     44\u001b[0m solution \u001b[38;5;241m=\u001b[39m Solution()\n\u001b[1;32m---> 45\u001b[0m \u001b[38;5;28mprint\u001b[39m(solution\u001b[38;5;241m.\u001b[39mminChanges(\u001b[38;5;241m1001\u001b[39m))\n",
      "Cell \u001b[1;32mIn[7], line 38\u001b[0m, in \u001b[0;36mSolution.minChanges\u001b[1;34m(self, s)\u001b[0m\n\u001b[0;32m     36\u001b[0m count \u001b[38;5;241m=\u001b[39m \u001b[38;5;241m0\u001b[39m\n\u001b[0;32m     37\u001b[0m i \u001b[38;5;241m=\u001b[39m \u001b[38;5;241m0\u001b[39m\n\u001b[1;32m---> 38\u001b[0m \u001b[38;5;28;01mwhile\u001b[39;00m i \u001b[38;5;241m<\u001b[39m \u001b[38;5;28mlen\u001b[39m(s) \u001b[38;5;241m-\u001b[39m \u001b[38;5;241m1\u001b[39m:\n\u001b[0;32m     39\u001b[0m     \u001b[38;5;28;01mif\u001b[39;00m s[i] \u001b[38;5;241m==\u001b[39m s[i \u001b[38;5;241m+\u001b[39m \u001b[38;5;241m1\u001b[39m]:\n\u001b[0;32m     40\u001b[0m         count \u001b[38;5;241m+\u001b[39m\u001b[38;5;241m=\u001b[39m \u001b[38;5;241m1\u001b[39m\n",
      "\u001b[1;31mTypeError\u001b[0m: object of type 'int' has no len()"
     ]
    }
   ],
   "source": [
    "'''You are given a 0-indexed binary string s having an even length.\n",
    "\n",
    "A string is beautiful if it's possible to partition it into one or more substrings such that:\n",
    "\n",
    "Each substring has an even length.\n",
    "Each substring contains only 1's or only 0's.\n",
    "You can change any character in s to 0 or 1.\n",
    "\n",
    "Return the minimum number of changes required to make the string s beautiful.\n",
    "\n",
    " \n",
    "\n",
    "Example 1:\n",
    "\n",
    "Input: s = \"1001\"\n",
    "Output: 2\n",
    "Explanation: We change s[1] to 1 and s[3] to 0 to get string \"1100\".\n",
    "It can be seen that the string \"1100\" is beautiful because we can partition it into \"11|00\".\n",
    "It can be proven that 2 is the minimum number of changes needed to make the string beautiful.\n",
    "Example 2:\n",
    "\n",
    "Input: s = \"10\"\n",
    "Output: 1\n",
    "Explanation: We change s[1] to 1 to get string \"11\".\n",
    "It can be seen that the string \"11\" is beautiful because we can partition it into \"11\".\n",
    "It can be proven that 1 is the minimum number of changes needed to make the string beautiful.\n",
    "Example 3:\n",
    "\n",
    "Input: s = \"0000\"\n",
    "Output: 0\n",
    "Explanation: We don't need to make any changes as the string \"0000\" is beautiful already.'''\n",
    "\n",
    "\n",
    "class Solution(object):\n",
    "    def minChanges(self, s):\n",
    "        count = 0\n",
    "        i = 0\n",
    "        while i < len(s) - 1:\n",
    "            if s[i] == s[i + 1]:\n",
    "                count += 1\n",
    "            i += 2\n",
    "        return count\n",
    "\n",
    "solution = Solution()\n",
    "print(solution.minChanges(1001))\n"
   ]
  },
  {
   "cell_type": "code",
   "execution_count": null,
   "id": "fc6964ef",
   "metadata": {},
   "outputs": [],
   "source": [
    "'''3\n",
    "Krishna 67 68 69\n",
    "Arjun 70 98 63\n",
    "Malika 52 56 60\n",
    "Malika'''\n",
    "\n",
    "\n",
    "n = int(input(\"\")) \n",
    "for i in range(n):\n",
    "    name = str(input(\"\"))\n",
    "    for j in range(n):\n",
    "        sc = int(input(\"\"))\n",
    "\n",
    "sel = str(input(\"\"))\n",
    "if sel == name:\n",
    "    print(sum(sc[i]/3))"
   ]
  },
  {
   "cell_type": "code",
   "execution_count": null,
   "id": "8b0e160e",
   "metadata": {},
   "outputs": [],
   "source": [
    "# Number of students\n",
    "n = int(input(\"\"))\n",
    "\n",
    "# Dictionary to store scores for each student\n",
    "student_scores = {}\n",
    "\n",
    "# Input student names and their scores\n",
    "for _ in range(n):\n",
    "    # Split input into name and scores\n",
    "    data = input().split()\n",
    "    name = data[0]\n",
    "    scores = list(map(int, data[1:]))  # Convert scores to integers\n",
    "    student_scores[name] = scores\n",
    "\n",
    "# Name of the student to query\n",
    "sel = input(\"\")\n",
    "\n",
    "# Calculate and print the average score for the selected student\n",
    "if sel in student_scores:\n",
    "    average_score = sum(student_scores[sel]) / len(student_scores[sel])\n",
    "    print(f\"{average_score:.2f}\")  # Format to 2 decimal places\n",
    "else:\n",
    "    print(\"Student not found.\")\n"
   ]
  },
  {
   "cell_type": "markdown",
   "id": "53d5499a",
   "metadata": {},
   "source": [
    "# 3011. Find if Array Can Be Sorted"
   ]
  },
  {
   "cell_type": "markdown",
   "id": "eb5d48f7",
   "metadata": {},
   "source": [
    "https://leetcode.com/problems/find-if-array-can-be-sorted/description/"
   ]
  },
  {
   "cell_type": "code",
   "execution_count": 1,
   "id": "98dcd7fe",
   "metadata": {},
   "outputs": [
    {
     "name": "stdout",
     "output_type": "stream",
     "text": [
      "True\n"
     ]
    }
   ],
   "source": [
    "class Solution(object):\n",
    "    def canSortArray(self, nums):\n",
    "        pmax = cmin = cmax = pcnt = 0\n",
    "        for v in nums:\n",
    "            ccnt = bin(v).count('1')\n",
    "            if pcnt == ccnt:\n",
    "                cmin = min(cmin, v)\n",
    "                cmax = max(cmax, v)\n",
    "            elif cmin < pmax:\n",
    "                return False\n",
    "            else:\n",
    "                pmax = cmax\n",
    "                cmin = cmax = v\n",
    "                pcnt = ccnt\n",
    "        return cmin >= pmax\n",
    "\n",
    "nums = [8,4,2,30,15]\n",
    "Solution = Solution()\n",
    "print(Solution.canSortArray(nums))"
   ]
  },
  {
   "cell_type": "markdown",
   "id": "3f6ab2a7",
   "metadata": {},
   "source": [
    "# 2275. Largest Combination With Bitwise AND Greater Than Zero"
   ]
  },
  {
   "cell_type": "markdown",
   "id": "3dc11e78",
   "metadata": {},
   "source": [
    "https://leetcode.com/problems/largest-combination-with-bitwise-and-greater-than-zero/description/?envType=daily-question&envId=2024-11-07"
   ]
  },
  {
   "cell_type": "code",
   "execution_count": null,
   "id": "1a8e5dc5",
   "metadata": {},
   "outputs": [],
   "source": [
    "class Solution(object):\n",
    "    def largestCombination(self, candidates):\n",
    "        ans = 0\n",
    "        for i in range(32):\n",
    "            cnt = sum(1 for candidate in candidates if candidate & (1 << i))\n",
    "            ans = max(ans,cnt)\n",
    "        return ans\n"
   ]
  },
  {
   "cell_type": "code",
   "execution_count": 1,
   "id": "ed8bd73c",
   "metadata": {},
   "outputs": [
    {
     "name": "stdout",
     "output_type": "stream",
     "text": [
      "The largest combination of candidates with the same bit set is: 4\n"
     ]
    }
   ],
   "source": [
    "class Solution:\n",
    "    def largestCombination(self, candidates):\n",
    "        ans = 0  # Initialize the maximum count of candidates with the same bit set\n",
    "        for i in range(32):  # Check each bit position from 0 to 31\n",
    "            # Count candidates where the ith bit is set to 1\n",
    "            cnt = sum(1 for candidate in candidates if candidate & (1 << i))\n",
    "            # Update the maximum count if this count is higher\n",
    "            ans = max(ans, cnt)\n",
    "        return ans  # Return the maximum count of candidates with the same bit set\n",
    "\n",
    "# Example usage\n",
    "candidates = [16, 17, 71, 62, 12, 24, 14]\n",
    "solution = Solution()\n",
    "result = solution.largestCombination(candidates)\n",
    "print(\"The largest combination of candidates with the same bit set is:\", result)\n"
   ]
  },
  {
   "cell_type": "code",
   "execution_count": null,
   "id": "e4597588",
   "metadata": {},
   "outputs": [],
   "source": [
    "class Solution(object):\n",
    "    def getMaximumXor(self, nums, maximumBit):\n",
    "        n = len(nums)\n",
    "        xor = nums[0]\n",
    "        max_xor = (1 << maximumBit) - 1\n",
    "\n",
    "        for i in range(1,n):\n",
    "            xor ^= nums[i]\n",
    "\n",
    "        ans = []\n",
    "        for i in range(n):\n",
    "            ans.append(xor ^ max_xor)\n",
    "            xor ^= nums[n-1-i]\n",
    "        return ans\n",
    "        "
   ]
  },
  {
   "cell_type": "markdown",
   "id": "2bc206a2",
   "metadata": {},
   "source": [
    "# 705. Design HashSet"
   ]
  },
  {
   "cell_type": "markdown",
   "id": "b3349ead",
   "metadata": {},
   "source": [
    "https://leetcode.com/problems/design-hashset/description/"
   ]
  },
  {
   "cell_type": "markdown",
   "id": "20370e3c",
   "metadata": {},
   "source": [
    "# 706. Design HashMap"
   ]
  },
  {
   "cell_type": "markdown",
   "id": "b515cbeb",
   "metadata": {},
   "source": [
    "https://leetcode.com/problems/design-hashmap/description/"
   ]
  },
  {
   "cell_type": "code",
   "execution_count": 2,
   "id": "bd1eefc9",
   "metadata": {},
   "outputs": [
    {
     "name": "stdout",
     "output_type": "stream",
     "text": [
      "1\n",
      "NULL\n",
      "1\n",
      "-1\n"
     ]
    }
   ],
   "source": [
    "class MyHashMap:\n",
    "    def __init__(self):\n",
    "        # Initialize an array of -1 values to indicate empty slots\n",
    "        self.map = ['NULL'] * (10**6 + 1)\n",
    "\n",
    "    def put(self, key, value):\n",
    "        # Set the value at the index of the key\n",
    "        self.map[key] = value\n",
    "\n",
    "    def get(self, key):\n",
    "        # Return the value at the index of the key\n",
    "        return self.map[key]\n",
    "\n",
    "    def remove(self, key):\n",
    "        # Remove the key by resetting its value to -1\n",
    "        self.map[key] = -1\n",
    "        \n",
    "        \n",
    "# Initialize MyHashMap\n",
    "myHashMap = MyHashMap()\n",
    "\n",
    "# Insert key-value pairs\n",
    "myHashMap.put(1, 1)  # Sets key 1 to value 1\n",
    "myHashMap.put(2, 2)  # Sets key 2 to value 2\n",
    "\n",
    "# Retrieve value for key 1\n",
    "print(myHashMap.get(1))  # Outputs: 1\n",
    "\n",
    "# Retrieve value for a non-existent key 3\n",
    "print(myHashMap.get(3))  # Outputs: -1 (not found)\n",
    "\n",
    "# Update the value for key 2\n",
    "myHashMap.put(2, 1)  # Sets key 2 to value 1\n",
    "\n",
    "# Retrieve updated value for key 2\n",
    "print(myHashMap.get(2))  # Outputs: 1\n",
    "\n",
    "# Remove key 2\n",
    "myHashMap.remove(2)\n",
    "\n",
    "# Try to retrieve value for key 2 after removal\n",
    "print(myHashMap.get(2))  # Outputs: -1 (not found)\n"
   ]
  },
  {
   "cell_type": "code",
   "execution_count": 3,
   "id": "c694d0aa",
   "metadata": {},
   "outputs": [
    {
     "name": "stdout",
     "output_type": "stream",
     "text": [
      "Bucket 0: [90]\n",
      "Bucket 1: []\n",
      "Bucket 2: [92]\n",
      "Bucket 3: [83]\n",
      "Bucket 4: [84, 34]\n",
      "Bucket 5: [45, 25]\n",
      "Bucket 6: []\n",
      "Bucket 7: [67, 37]\n",
      "Bucket 8: []\n",
      "Bucket 9: [89]\n"
     ]
    }
   ],
   "source": [
    "class HashTable:\n",
    "    def __init__(self, size):\n",
    "        self.size = size\n",
    "        self.table = [[] for _ in range(size)]  # Initialize a list of empty lists for each bucket\n",
    "\n",
    "    def insert(self, value):\n",
    "        # Calculate hash index based on value % size\n",
    "        index = value % self.size\n",
    "        # Append the value to the appropriate bucket\n",
    "        self.table[index].append(value)\n",
    "\n",
    "    def display(self):\n",
    "        # Display the hash table\n",
    "        for i, bucket in enumerate(self.table):\n",
    "            print(f\"Bucket {i}: {bucket}\")\n",
    "\n",
    "# Initialize hash table with 10 buckets\n",
    "hash_table = HashTable(10)\n",
    "\n",
    "# Values to insert\n",
    "values = [67, 89, 37, 83, 84, 92, 45, 25, 34, 90]\n",
    "\n",
    "# Insert each value into the hash table\n",
    "for value in values:\n",
    "    hash_table.insert(value)\n",
    "\n",
    "# Display the hash table\n",
    "hash_table.display()\n"
   ]
  },
  {
   "cell_type": "code",
   "execution_count": null,
   "id": "5c7b7ff6",
   "metadata": {},
   "outputs": [],
   "source": [
    "class Solution:\n",
    "    def primeSubOperation(self, nums):\n",
    "        primes = [\n",
    "            2, 3, 5, 7, 11, 13, 17, 19, 23, 29, 31, 37, 41, 43, 47, 53, 59, 61, 67,\n",
    "            71, 73, 79, 83, 89, 97, 101, 103, 107, 109, 113, 127, 131, 137, 139, 149,\n",
    "            151, 157, 163, 167, 173, 179, 181, 191, 193, 197, 199, 211, 223, 227, 229,\n",
    "            233, 239, 241, 251, 257, 263, 269, 271, 277, 281, 283, 293, 307, 311, 313,\n",
    "            317, 331, 337, 347, 349, 353, 359, 367, 373, 379, 383, 389, 397, 401, 409,\n",
    "            419, 421, 431, 433, 439, 443, 449, 457, 461, 463, 467, 479, 487, 491, 499,\n",
    "            503, 509, 521, 523, 541, 547, 557, 563, 569, 571, 577, 587, 593, 599, 601,\n",
    "            607, 613, 617, 619, 631, 641, 643, 647, 653, 659, 661, 673, 677, 683, 691,\n",
    "            701, 709, 719, 727, 733, 739, 743, 751, 757, 761, 769, 773, 787, 797, 809,\n",
    "            811, 821, 823, 827, 829, 839, 853, 857, 859, 863, 877, 881, 883, 887, 907,\n",
    "            911, 919, 929, 937, 941, 947, 953, 967, 971, 977, 983, 991, 997\n",
    "        ]\n",
    "\n",
    "        n = len(nums)\n",
    "        for i in range(n - 2, -1, -1):\n",
    "            if nums[i] >= nums[i + 1]:\n",
    "                l = nums[i] - (nums[i + 1] - 1)\n",
    "                h = nums[i]\n",
    "                p = self.getPrime(primes, l, h)\n",
    "                if p == h:\n",
    "                    return False\n",
    "                else:\n",
    "                    nums[i] -= p\n",
    "\n",
    "        return True\n",
    "\n",
    "    def getPrime(self, primes, l, h):\n",
    "        for prime in primes:\n",
    "            if l <= prime < h:\n",
    "                return prime\n",
    "        return h"
   ]
  },
  {
   "cell_type": "markdown",
   "id": "a603a2c0",
   "metadata": {},
   "source": [
    "### 561. Array Partition --->  https://leetcode.com/problems/array-partition/description/"
   ]
  },
  {
   "cell_type": "code",
   "execution_count": 1,
   "id": "b0d3061d",
   "metadata": {},
   "outputs": [
    {
     "name": "stdout",
     "output_type": "stream",
     "text": [
      "4\n",
      "9\n"
     ]
    }
   ],
   "source": [
    "def arrayPairSum(nums):\n",
    "    nums.sort()  # Step 1: Sort the array\n",
    "    return sum(nums[::2])  # Step 2 & 3: Sum of every alternate element\n",
    "\n",
    "# Example cases\n",
    "print(arrayPairSum([1,4,3,2]))   # Output: 4\n",
    "print(arrayPairSum([6,2,6,5,1,2])) # Output: 9"
   ]
  },
  {
   "cell_type": "markdown",
   "id": "14953adc",
   "metadata": {},
   "source": [
    "Q).Given an array of integers, find the sum of its elements.\n",
    "\n",
    "For example, if the array ar = [1,2,3],1+2+3=6, so return 6 .\n",
    "\n",
    "\n",
    "https://www.hackerrank.com/challenges/simple-array-sum/problem?isFullScreen=true"
   ]
  },
  {
   "cell_type": "code",
   "execution_count": 1,
   "id": "0a69ee19",
   "metadata": {},
   "outputs": [
    {
     "name": "stdout",
     "output_type": "stream",
     "text": [
      "3\n",
      "3 4 5\n",
      "12\n"
     ]
    }
   ],
   "source": [
    "def simple_array_sum(arr):\n",
    "    return sum(arr)\n",
    "\n",
    "# Taking input\n",
    "n = int(input())  # Read the size of the array\n",
    "arr = list(map(int, input().split()))  # Read the array elements\n",
    "\n",
    "# Output the sum\n",
    "print(simple_array_sum(arr))\n"
   ]
  },
  {
   "cell_type": "markdown",
   "id": "f596e0d1",
   "metadata": {},
   "source": []
  },
  {
   "cell_type": "markdown",
   "id": "e8e787d4",
   "metadata": {},
   "source": [
    "# 1. Two Sum  --->  https://leetcode.com/problems/two-sum/description/\n",
    "\n",
    "#### solution --> https://www.youtube.com/watch?v=KLlXCFG5TnA"
   ]
  },
  {
   "cell_type": "markdown",
   "id": "03865c92",
   "metadata": {},
   "source": [
    "## 169. Majority Element -- > https://leetcode.com/problems/majority-element/submissions/1746295423/"
   ]
  },
  {
   "cell_type": "code",
   "execution_count": null,
   "id": "4729b2c5",
   "metadata": {},
   "outputs": [],
   "source": []
  }
 ],
 "metadata": {
  "kernelspec": {
   "display_name": "Python 3 (ipykernel)",
   "language": "python",
   "name": "python3"
  },
  "language_info": {
   "codemirror_mode": {
    "name": "ipython",
    "version": 3
   },
   "file_extension": ".py",
   "mimetype": "text/x-python",
   "name": "python",
   "nbconvert_exporter": "python",
   "pygments_lexer": "ipython3",
   "version": "3.11.3"
  }
 },
 "nbformat": 4,
 "nbformat_minor": 5
}
