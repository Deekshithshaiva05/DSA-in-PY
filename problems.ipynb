{
 "cells": [
  {
   "cell_type": "markdown",
   "id": "7cd0a713",
   "metadata": {},
   "source": [
    "# DSA in Python"
   ]
  },
  {
   "cell_type": "markdown",
   "id": "f3906ecb",
   "metadata": {},
   "source": [
    "## Arrays and Lists:"
   ]
  },
  {
   "cell_type": "code",
   "execution_count": 1,
   "id": "22ec5bb8",
   "metadata": {},
   "outputs": [
    {
     "name": "stdout",
     "output_type": "stream",
     "text": [
      "Max : 8\n",
      "Min : 2\n"
     ]
    }
   ],
   "source": [
    "#problem:find the maximum and minimum element in array?\n",
    "\n",
    "def find_max_min(arr):\n",
    "    max_element = arr[0]\n",
    "    min_element = arr[0]\n",
    "    \n",
    "    for num in arr:\n",
    "        if num > max_element:\n",
    "            max_element = num\n",
    "        elif num < min_element:\n",
    "            min_element = num\n",
    "    return max_element,min_element\n",
    "\n",
    "arr = [3,5,7,2,8]\n",
    "max_val,min_val = find_max_min(arr)\n",
    "print(f\"Max : {max_val}\")\n",
    "print(f\"Min : {min_val}\")"
   ]
  },
  {
   "cell_type": "code",
   "execution_count": 9,
   "id": "1d2025fe",
   "metadata": {},
   "outputs": [
    {
     "name": "stdout",
     "output_type": "stream",
     "text": [
      "Enter the number of elements:3\n",
      "Enter element 1: 3\n",
      "Enter element 2: 4\n",
      "Enter element 3: 5\n",
      "The entered array is :[5, 4, 3]\n",
      "Reversed array: [5, 4, 3]\n"
     ]
    }
   ],
   "source": [
    "# problem : reverse an array inplace \n",
    "\n",
    "n = int(input(\"Enter the number of elements:\"))\n",
    "\n",
    "# Function to reverse the array in place\n",
    "def reverse_array(arr):\n",
    "    start = 0\n",
    "    end = len(arr) - 1\n",
    "    while start < end:\n",
    "        # Swap the elements at start and end\n",
    "        arr[start], arr[end] = arr[end], arr[start]\n",
    "        start += 1\n",
    "        end -= 1  # Decrement end, not increment\n",
    "    return arr  # Return the reversed array after the loop\n",
    "\n",
    "# Initialize the array\n",
    "arr = []\n",
    "\n",
    "# Input the elements of the array\n",
    "for i in range(n):\n",
    "    element = int(input(f\"Enter element {i+1}: \"))\n",
    "    arr.append(element)\n",
    "\n",
    "# Call the reverse function\n",
    "reverse_arr = reverse_array(arr)\n",
    "\n",
    "# Print the reversed array\n",
    "print(\"Reversed array:\", reverse_arr)\n"
   ]
  },
  {
   "cell_type": "code",
   "execution_count": 10,
   "id": "721aaefd",
   "metadata": {},
   "outputs": [
    {
     "name": "stdout",
     "output_type": "stream",
     "text": [
      "True\n"
     ]
    }
   ],
   "source": [
    "# problem : Check if the string is a palindrome:\n",
    "\n",
    "def  is_palindrome(s):\n",
    "    s = s.replace(\" \",\"\").lower()\n",
    "    return s == s[::-1]\n",
    "print(is_palindrome(\"racecar\"))"
   ]
  },
  {
   "cell_type": "code",
   "execution_count": 11,
   "id": "4e1e873a",
   "metadata": {},
   "outputs": [
    {
     "name": "stdout",
     "output_type": "stream",
     "text": [
      "Counter({'l': 2, 'h': 1, 'e': 1, 'o': 1})\n"
     ]
    }
   ],
   "source": [
    "# problem : count the frequency of character in a string:\n",
    "\n",
    "from collections import Counter\n",
    "def char_frequency(s):\n",
    "    return Counter(s)\n",
    "print(char_frequency(\"hello\"))"
   ]
  },
  {
   "cell_type": "code",
   "execution_count": 12,
   "id": "8e5778e0",
   "metadata": {},
   "outputs": [
    {
     "name": "stdout",
     "output_type": "stream",
     "text": [
      "Words Hello\n"
     ]
    }
   ],
   "source": [
    "# problem: Reverse words in a string:\n",
    "\n",
    "def reverse_words(s):\n",
    "    words = s.split()\n",
    "    return \" \".join(words[::-1])\n",
    "print(reverse_words(\"Hello Words\"))"
   ]
  },
  {
   "cell_type": "markdown",
   "id": "56ef0797",
   "metadata": {},
   "source": [
    "# sorting"
   ]
  },
  {
   "cell_type": "markdown",
   "id": "d8e5d894",
   "metadata": {},
   "source": [
    "### Selection sort"
   ]
  },
  {
   "cell_type": "code",
   "execution_count": 13,
   "id": "5eccb9c5",
   "metadata": {},
   "outputs": [
    {
     "name": "stdout",
     "output_type": "stream",
     "text": [
      "[1, 2, 4, 5, 6, 8, 9]\n"
     ]
    }
   ],
   "source": [
    "def selection_sort(arr):\n",
    "    n = len(arr)\n",
    "    for i in range(n - 1):\n",
    "        min_index = i  # Initialize the minimum index\n",
    "        for j in range(i + 1, n):\n",
    "            if arr[j] < arr[min_index]:\n",
    "                min_index = j\n",
    "        # Swap the found minimum element with the element at index i\n",
    "        arr[i], arr[min_index] = arr[min_index], arr[i]\n",
    "                \n",
    "# Test the function\n",
    "arr = [2, 6, 4, 1, 5, 8, 9]\n",
    "selection_sort(arr)\n",
    "print(arr)\n"
   ]
  },
  {
   "cell_type": "markdown",
   "id": "f5fec78e",
   "metadata": {},
   "source": [
    "### Bubble sort"
   ]
  },
  {
   "cell_type": "code",
   "execution_count": 15,
   "id": "a0a42121",
   "metadata": {},
   "outputs": [
    {
     "name": "stdout",
     "output_type": "stream",
     "text": [
      "[1, 2, 3, 4, 5, 6, 9]\n"
     ]
    }
   ],
   "source": [
    "def bubble_sort(arr,n):\n",
    "    for i in range(n):\n",
    "        swapped = False\n",
    "        for j in range(0,n-i-1):\n",
    "            if arr[j] > arr[j+1]:\n",
    "                arr[j],arr[j+1] = arr[j+1],arr[j]\n",
    "                swapped = True\n",
    "        if not swapped:\n",
    "            break\n",
    "\n",
    "arr = [3,4,9,2,1,6,5]\n",
    "n = len(arr)\n",
    "bubble_sort(arr,n)\n",
    "print(arr)"
   ]
  },
  {
   "cell_type": "markdown",
   "id": "c52ec15a",
   "metadata": {},
   "source": [
    "### insertion sort"
   ]
  },
  {
   "cell_type": "code",
   "execution_count": 18,
   "id": "f2976c07",
   "metadata": {},
   "outputs": [
    {
     "name": "stdout",
     "output_type": "stream",
     "text": [
      "[1, 2, 3, 4, 5, 6, 9]\n"
     ]
    }
   ],
   "source": [
    "def insertion_sort(arr, n):\n",
    "    for i in range(1, n):\n",
    "        key = arr[i]\n",
    "        j = i - 1\n",
    "        # Move elements of arr[0..i-1], that are greater than key, to one position ahead\n",
    "        while j >= 0 and key < arr[j]:\n",
    "            arr[j + 1] = arr[j]\n",
    "            j -= 1\n",
    "        # Place key at the correct position\n",
    "        arr[j + 1] = key\n",
    "\n",
    "# Input array\n",
    "arr = [3, 4, 9, 2, 1, 6, 5]\n",
    "n = len(arr)\n",
    "insertion_sort(arr, n)\n",
    "print(arr)\n"
   ]
  },
  {
   "cell_type": "markdown",
   "id": "3cfe7105",
   "metadata": {},
   "source": [
    "### merge sort"
   ]
  },
  {
   "cell_type": "code",
   "execution_count": 6,
   "id": "e17118fb",
   "metadata": {},
   "outputs": [
    {
     "name": "stdout",
     "output_type": "stream",
     "text": [
      "[1, 2, 3, 4, 5, 6]\n"
     ]
    }
   ],
   "source": [
    "def merge_sort(arr):\n",
    "    if len(arr) > 1:\n",
    "        # Step 1: Divide the array into two halves\n",
    "        mid = len(arr) // 2\n",
    "        left = arr[:mid]\n",
    "        right = arr[mid:]\n",
    "        \n",
    "        # Step 2: Recursively apply merge_sort to both halves\n",
    "        merge_sort(left)\n",
    "        merge_sort(right)\n",
    "        \n",
    "        # Step 3: Initialize pointers for left, right, and merged arrays\n",
    "        i = j = k = 0\n",
    "\n",
    "        # Step 4: Merge the sorted halves\n",
    "        while i < len(left) and j < len(right):\n",
    "            if left[i] < right[j]:\n",
    "                arr[k] = left[i]   # Place the smaller element in the merged array\n",
    "                i += 1\n",
    "            else:\n",
    "                arr[k] = right[j]\n",
    "                j += 1\n",
    "            k += 1\n",
    "            \n",
    "        # Step 5: Copy any remaining elements from the left subarray\n",
    "        while i < len(left):\n",
    "            arr[k] = left[i]\n",
    "            i += 1\n",
    "            k += 1\n",
    "            \n",
    "        # Step 6: Copy any remaining elements from the right subarray\n",
    "        while j < len(right):\n",
    "            arr[k] = right[j]\n",
    "            j += 1\n",
    "            k += 1\n"
   ]
  },
  {
   "cell_type": "markdown",
   "id": "9ddb45e1",
   "metadata": {},
   "source": [
    "OR"
   ]
  },
  {
   "cell_type": "code",
   "execution_count": 7,
   "id": "12fa155b",
   "metadata": {},
   "outputs": [
    {
     "name": "stdout",
     "output_type": "stream",
     "text": [
      "[1, 3, 4, 7, 9]\n"
     ]
    }
   ],
   "source": [
    "class Solution:\n",
    "    def mergeSort(self, arr, l, r):\n",
    "        if l < r:\n",
    "            mid = (l + r) // 2\n",
    "            \n",
    "            # Recursively sort first and second halves\n",
    "            self.mergeSort(arr, l, mid)\n",
    "            self.mergeSort(arr, mid + 1, r)\n",
    "            \n",
    "            # Merge the sorted halves\n",
    "            self.merge(arr, l, mid, r)\n",
    "\n",
    "    def merge(self, arr, l, mid, r):\n",
    "        # Create temporary arrays for left and right halves\n",
    "        left = arr[l:mid + 1]\n",
    "        right = arr[mid + 1:r + 1]\n",
    "        \n",
    "        i = j = 0  # Initial indexes for left and right subarrays\n",
    "        k = l      # Initial index of merged subarray\n",
    "        \n",
    "        # Merge left and right arrays into arr\n",
    "        while i < len(left) and j < len(right):\n",
    "            if left[i] <= right[j]:\n",
    "                arr[k] = left[i]\n",
    "                i += 1\n",
    "            else:\n",
    "                arr[k] = right[j]\n",
    "                j += 1\n",
    "            k += 1\n",
    "            \n",
    "        # Copy any remaining elements of left[]\n",
    "        while i < len(left):\n",
    "            arr[k] = left[i]\n",
    "            i += 1\n",
    "            k += 1\n",
    "            \n",
    "        # Copy any remaining elements of right[]\n",
    "        while j < len(right):\n",
    "            arr[k] = right[j]\n",
    "            j += 1\n",
    "            k += 1\n",
    "\n",
    "# Example usage:\n",
    "arr = [4, 1, 3, 9, 7]\n",
    "solution = Solution()\n",
    "solution.mergeSort(arr, 0, len(arr) - 1)\n",
    "print(arr)  # Output should be a sorted array: [1, 3, 4, 7, 9]\n"
   ]
  },
  {
   "cell_type": "markdown",
   "id": "e03b2cb1",
   "metadata": {},
   "source": [
    "### Recursive Bubble sort"
   ]
  },
  {
   "cell_type": "code",
   "execution_count": 1,
   "id": "046d8bae",
   "metadata": {},
   "outputs": [
    {
     "name": "stdout",
     "output_type": "stream",
     "text": [
      "1,3,4,6,7,7,8,"
     ]
    }
   ],
   "source": [
    "def R_B_S(arr,n):\n",
    "    sorted = True\n",
    "    for i in range(0,n-1):\n",
    "        if arr[i] > arr[i+1]:\n",
    "            arr[i],arr[i+1] = arr[i+1],arr[i]\n",
    "            sorted = False\n",
    "    if sorted == False:\n",
    "        R_B_S(arr,n)\n",
    "    \n",
    "if __name__ == '__main__':\n",
    "    arr = [7,8,4,3,7,6,1]\n",
    "    n = len(arr)\n",
    "    R_B_S(arr,n)\n",
    "    for i in range(n):\n",
    "        print(arr[i],end=\",\")"
   ]
  },
  {
   "cell_type": "markdown",
   "id": "aeca8b38",
   "metadata": {},
   "source": [
    "# NESTED LIST"
   ]
  },
  {
   "cell_type": "markdown",
   "id": "6745c342",
   "metadata": {},
   "source": [
    "https://www.hackerrank.com/challenges/nested-list/problem?isFullScreen=true"
   ]
  },
  {
   "cell_type": "markdown",
   "id": "997b6473",
   "metadata": {},
   "source": [
    "There are  students 5 in this class whose names and grades are assembled to build the following list:\n",
    "\n",
    "python students = [['Harry', 37.21], ['Berry', 37.21], ['Tina', 37.2], ['Akriti', 41], ['Harsh', 39]]\n",
    "\n",
    "The lowest grade of  37.2 belongs to Tina. The second lowest grade of  37.21 belongs to both Harry and Berry, so we order their names alphabetically and print each name on a new line."
   ]
  },
  {
   "cell_type": "code",
   "execution_count": 7,
   "id": "a5ecd8bc",
   "metadata": {
    "collapsed": true
   },
   "outputs": [
    {
     "ename": "KeyboardInterrupt",
     "evalue": "Interrupted by user",
     "output_type": "error",
     "traceback": [
      "\u001b[1;31m---------------------------------------------------------------------------\u001b[0m",
      "\u001b[1;31mKeyboardInterrupt\u001b[0m                         Traceback (most recent call last)",
      "Cell \u001b[1;32mIn[7], line 3\u001b[0m\n\u001b[0;32m      1\u001b[0m \u001b[38;5;28;01mif\u001b[39;00m \u001b[38;5;18m__name__\u001b[39m \u001b[38;5;241m==\u001b[39m \u001b[38;5;124m'\u001b[39m\u001b[38;5;124m__main__\u001b[39m\u001b[38;5;124m'\u001b[39m:\n\u001b[0;32m      2\u001b[0m     students \u001b[38;5;241m=\u001b[39m []\n\u001b[1;32m----> 3\u001b[0m     \u001b[38;5;28;01mfor\u001b[39;00m _ \u001b[38;5;129;01min\u001b[39;00m \u001b[38;5;28mrange\u001b[39m(\u001b[38;5;28mint\u001b[39m(\u001b[38;5;28minput\u001b[39m())):\n\u001b[0;32m      4\u001b[0m         name \u001b[38;5;241m=\u001b[39m \u001b[38;5;28minput\u001b[39m()\n\u001b[0;32m      5\u001b[0m         score \u001b[38;5;241m=\u001b[39m \u001b[38;5;28mfloat\u001b[39m(\u001b[38;5;28minput\u001b[39m())\n",
      "File \u001b[1;32mC:\\ProgramData\\anaconda3\\Lib\\site-packages\\ipykernel\\kernelbase.py:1175\u001b[0m, in \u001b[0;36mKernel.raw_input\u001b[1;34m(self, prompt)\u001b[0m\n\u001b[0;32m   1171\u001b[0m \u001b[38;5;28;01mif\u001b[39;00m \u001b[38;5;129;01mnot\u001b[39;00m \u001b[38;5;28mself\u001b[39m\u001b[38;5;241m.\u001b[39m_allow_stdin:\n\u001b[0;32m   1172\u001b[0m     \u001b[38;5;28;01mraise\u001b[39;00m StdinNotImplementedError(\n\u001b[0;32m   1173\u001b[0m         \u001b[38;5;124m\"\u001b[39m\u001b[38;5;124mraw_input was called, but this frontend does not support input requests.\u001b[39m\u001b[38;5;124m\"\u001b[39m\n\u001b[0;32m   1174\u001b[0m     )\n\u001b[1;32m-> 1175\u001b[0m \u001b[38;5;28;01mreturn\u001b[39;00m \u001b[38;5;28mself\u001b[39m\u001b[38;5;241m.\u001b[39m_input_request(\n\u001b[0;32m   1176\u001b[0m     \u001b[38;5;28mstr\u001b[39m(prompt),\n\u001b[0;32m   1177\u001b[0m     \u001b[38;5;28mself\u001b[39m\u001b[38;5;241m.\u001b[39m_parent_ident[\u001b[38;5;124m\"\u001b[39m\u001b[38;5;124mshell\u001b[39m\u001b[38;5;124m\"\u001b[39m],\n\u001b[0;32m   1178\u001b[0m     \u001b[38;5;28mself\u001b[39m\u001b[38;5;241m.\u001b[39mget_parent(\u001b[38;5;124m\"\u001b[39m\u001b[38;5;124mshell\u001b[39m\u001b[38;5;124m\"\u001b[39m),\n\u001b[0;32m   1179\u001b[0m     password\u001b[38;5;241m=\u001b[39m\u001b[38;5;28;01mFalse\u001b[39;00m,\n\u001b[0;32m   1180\u001b[0m )\n",
      "File \u001b[1;32mC:\\ProgramData\\anaconda3\\Lib\\site-packages\\ipykernel\\kernelbase.py:1217\u001b[0m, in \u001b[0;36mKernel._input_request\u001b[1;34m(self, prompt, ident, parent, password)\u001b[0m\n\u001b[0;32m   1214\u001b[0m             \u001b[38;5;28;01mbreak\u001b[39;00m\n\u001b[0;32m   1215\u001b[0m \u001b[38;5;28;01mexcept\u001b[39;00m \u001b[38;5;167;01mKeyboardInterrupt\u001b[39;00m:\n\u001b[0;32m   1216\u001b[0m     \u001b[38;5;66;03m# re-raise KeyboardInterrupt, to truncate traceback\u001b[39;00m\n\u001b[1;32m-> 1217\u001b[0m     \u001b[38;5;28;01mraise\u001b[39;00m \u001b[38;5;167;01mKeyboardInterrupt\u001b[39;00m(\u001b[38;5;124m\"\u001b[39m\u001b[38;5;124mInterrupted by user\u001b[39m\u001b[38;5;124m\"\u001b[39m) \u001b[38;5;28;01mfrom\u001b[39;00m \u001b[38;5;28;01mNone\u001b[39;00m\n\u001b[0;32m   1218\u001b[0m \u001b[38;5;28;01mexcept\u001b[39;00m \u001b[38;5;167;01mException\u001b[39;00m:\n\u001b[0;32m   1219\u001b[0m     \u001b[38;5;28mself\u001b[39m\u001b[38;5;241m.\u001b[39mlog\u001b[38;5;241m.\u001b[39mwarning(\u001b[38;5;124m\"\u001b[39m\u001b[38;5;124mInvalid Message:\u001b[39m\u001b[38;5;124m\"\u001b[39m, exc_info\u001b[38;5;241m=\u001b[39m\u001b[38;5;28;01mTrue\u001b[39;00m)\n",
      "\u001b[1;31mKeyboardInterrupt\u001b[0m: Interrupted by user"
     ]
    }
   ],
   "source": [
    "if __name__ == '__main__':\n",
    "    students = []\n",
    "    for _ in range(int(input())):\n",
    "        name = input()\n",
    "        score = float(input())\n",
    "        students.append([name,score])\n",
    "    grades = sorted({score for name,score in students})\n",
    "    sec_low_grade = grades[1]\n",
    "    sec_low_students = [name for name,score in students if score == sec_low_grade]\n",
    "    sec_low_students.sort()\n",
    "    \n",
    "    for student in sec_low_students:\n",
    "        print(student)\n",
    "    \n",
    "        "
   ]
  },
  {
   "cell_type": "code",
   "execution_count": 8,
   "id": "6b8899ec",
   "metadata": {
    "collapsed": true
   },
   "outputs": [
    {
     "ename": "KeyboardInterrupt",
     "evalue": "Interrupted by user",
     "output_type": "error",
     "traceback": [
      "\u001b[1;31m---------------------------------------------------------------------------\u001b[0m",
      "\u001b[1;31mKeyboardInterrupt\u001b[0m                         Traceback (most recent call last)",
      "Cell \u001b[1;32mIn[8], line 5\u001b[0m\n\u001b[0;32m      2\u001b[0m students \u001b[38;5;241m=\u001b[39m []\n\u001b[0;32m      4\u001b[0m \u001b[38;5;66;03m# Read the number of students\u001b[39;00m\n\u001b[1;32m----> 5\u001b[0m n \u001b[38;5;241m=\u001b[39m \u001b[38;5;28mint\u001b[39m(\u001b[38;5;28minput\u001b[39m())\n\u001b[0;32m      7\u001b[0m \u001b[38;5;66;03m# Collect names and scores for each student\u001b[39;00m\n\u001b[0;32m      8\u001b[0m \u001b[38;5;28;01mfor\u001b[39;00m _ \u001b[38;5;129;01min\u001b[39;00m \u001b[38;5;28mrange\u001b[39m(n):\n",
      "File \u001b[1;32mC:\\ProgramData\\anaconda3\\Lib\\site-packages\\ipykernel\\kernelbase.py:1175\u001b[0m, in \u001b[0;36mKernel.raw_input\u001b[1;34m(self, prompt)\u001b[0m\n\u001b[0;32m   1171\u001b[0m \u001b[38;5;28;01mif\u001b[39;00m \u001b[38;5;129;01mnot\u001b[39;00m \u001b[38;5;28mself\u001b[39m\u001b[38;5;241m.\u001b[39m_allow_stdin:\n\u001b[0;32m   1172\u001b[0m     \u001b[38;5;28;01mraise\u001b[39;00m StdinNotImplementedError(\n\u001b[0;32m   1173\u001b[0m         \u001b[38;5;124m\"\u001b[39m\u001b[38;5;124mraw_input was called, but this frontend does not support input requests.\u001b[39m\u001b[38;5;124m\"\u001b[39m\n\u001b[0;32m   1174\u001b[0m     )\n\u001b[1;32m-> 1175\u001b[0m \u001b[38;5;28;01mreturn\u001b[39;00m \u001b[38;5;28mself\u001b[39m\u001b[38;5;241m.\u001b[39m_input_request(\n\u001b[0;32m   1176\u001b[0m     \u001b[38;5;28mstr\u001b[39m(prompt),\n\u001b[0;32m   1177\u001b[0m     \u001b[38;5;28mself\u001b[39m\u001b[38;5;241m.\u001b[39m_parent_ident[\u001b[38;5;124m\"\u001b[39m\u001b[38;5;124mshell\u001b[39m\u001b[38;5;124m\"\u001b[39m],\n\u001b[0;32m   1178\u001b[0m     \u001b[38;5;28mself\u001b[39m\u001b[38;5;241m.\u001b[39mget_parent(\u001b[38;5;124m\"\u001b[39m\u001b[38;5;124mshell\u001b[39m\u001b[38;5;124m\"\u001b[39m),\n\u001b[0;32m   1179\u001b[0m     password\u001b[38;5;241m=\u001b[39m\u001b[38;5;28;01mFalse\u001b[39;00m,\n\u001b[0;32m   1180\u001b[0m )\n",
      "File \u001b[1;32mC:\\ProgramData\\anaconda3\\Lib\\site-packages\\ipykernel\\kernelbase.py:1217\u001b[0m, in \u001b[0;36mKernel._input_request\u001b[1;34m(self, prompt, ident, parent, password)\u001b[0m\n\u001b[0;32m   1214\u001b[0m             \u001b[38;5;28;01mbreak\u001b[39;00m\n\u001b[0;32m   1215\u001b[0m \u001b[38;5;28;01mexcept\u001b[39;00m \u001b[38;5;167;01mKeyboardInterrupt\u001b[39;00m:\n\u001b[0;32m   1216\u001b[0m     \u001b[38;5;66;03m# re-raise KeyboardInterrupt, to truncate traceback\u001b[39;00m\n\u001b[1;32m-> 1217\u001b[0m     \u001b[38;5;28;01mraise\u001b[39;00m \u001b[38;5;167;01mKeyboardInterrupt\u001b[39;00m(\u001b[38;5;124m\"\u001b[39m\u001b[38;5;124mInterrupted by user\u001b[39m\u001b[38;5;124m\"\u001b[39m) \u001b[38;5;28;01mfrom\u001b[39;00m \u001b[38;5;28;01mNone\u001b[39;00m\n\u001b[0;32m   1218\u001b[0m \u001b[38;5;28;01mexcept\u001b[39;00m \u001b[38;5;167;01mException\u001b[39;00m:\n\u001b[0;32m   1219\u001b[0m     \u001b[38;5;28mself\u001b[39m\u001b[38;5;241m.\u001b[39mlog\u001b[38;5;241m.\u001b[39mwarning(\u001b[38;5;124m\"\u001b[39m\u001b[38;5;124mInvalid Message:\u001b[39m\u001b[38;5;124m\"\u001b[39m, exc_info\u001b[38;5;241m=\u001b[39m\u001b[38;5;28;01mTrue\u001b[39;00m)\n",
      "\u001b[1;31mKeyboardInterrupt\u001b[0m: Interrupted by user"
     ]
    }
   ],
   "source": [
    "if __name__ == '__main__':\n",
    "    students = []\n",
    "    \n",
    "    # Read the number of students\n",
    "    n = int(input())\n",
    "    \n",
    "    # Collect names and scores for each student\n",
    "    for _ in range(n):\n",
    "        name = input()\n",
    "        score = float(input())\n",
    "        students.append([name, score])\n",
    "    \n",
    "    # Extract unique grades and sort them\n",
    "    grades = sorted({score for name, score in students})\n",
    "    \n",
    "    # Identify the second lowest grade\n",
    "    second_lowest_grade = grades[1]\n",
    "    \n",
    "    # Find all students with the second lowest grade\n",
    "    second_lowest_students = [name for name, score in students if score == second_lowest_grade]\n",
    "    \n",
    "    # Sort student names alphabetically\n",
    "    second_lowest_students.sort()\n",
    "    \n",
    "    # Print each name on a new line\n",
    "    for student in second_lowest_students:\n",
    "        print(student)\n"
   ]
  },
  {
   "cell_type": "markdown",
   "id": "2701faf1",
   "metadata": {},
   "source": [
    "# Two Pointers technique:"
   ]
  },
  {
   "cell_type": "code",
   "execution_count": null,
   "id": "799cb20e",
   "metadata": {},
   "outputs": [],
   "source": []
  }
 ],
 "metadata": {
  "kernelspec": {
   "display_name": "Python 3 (ipykernel)",
   "language": "python",
   "name": "python3"
  },
  "language_info": {
   "codemirror_mode": {
    "name": "ipython",
    "version": 3
   },
   "file_extension": ".py",
   "mimetype": "text/x-python",
   "name": "python",
   "nbconvert_exporter": "python",
   "pygments_lexer": "ipython3",
   "version": "3.11.3"
  }
 },
 "nbformat": 4,
 "nbformat_minor": 5
}
