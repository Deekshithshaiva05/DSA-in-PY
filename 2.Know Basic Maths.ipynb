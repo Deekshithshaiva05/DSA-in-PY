{
 "cells": [
  {
   "cell_type": "markdown",
   "id": "cd64f58d",
   "metadata": {},
   "source": [
    "# 1. Count digits in a number"
   ]
  },
  {
   "cell_type": "code",
   "execution_count": 6,
   "id": "e6a5a413",
   "metadata": {},
   "outputs": [
    {
     "name": "stdout",
     "output_type": "stream",
     "text": [
      "In 4567 there are 4 digits\n"
     ]
    }
   ],
   "source": [
    "# Brute Force Approach\n",
    "\n",
    "def countdigits(n):\n",
    "    count = 0\n",
    "    while n > 0:\n",
    "        count += 1\n",
    "        n = n // 10\n",
    "    return count\n",
    "\n",
    "if __name__ == \"__main__\":\n",
    "    n = 4567\n",
    "    digits = countdigits(n)\n",
    "    print(f\"In {n} there are {digits} digits\")\n",
    "    \n",
    "    \n",
    "# Time Complexity: O(log10N + 1)\n",
    "# Space Complexity : O(1)"
   ]
  },
  {
   "cell_type": "code",
   "execution_count": 11,
   "id": "19bdb730",
   "metadata": {},
   "outputs": [
    {
     "name": "stdout",
     "output_type": "stream",
     "text": [
      "In 45675 there are 5 digits\n"
     ]
    }
   ],
   "source": [
    "# Optimal Approach\n",
    "\n",
    "import math\n",
    "\n",
    "def countdigits(n):\n",
    "    count = int(math.log10(n)+1)\n",
    "    return count\n",
    "\n",
    "if __name__ == \"__main__\":\n",
    "    n = 45675\n",
    "    digits = countdigits(n)\n",
    "    print(f\"In {n} there are {digits} digits\")\n",
    "    \n",
    "# Time Complexity: O(1)\n",
    "# Space Complexity : O(1)"
   ]
  },
  {
   "cell_type": "markdown",
   "id": "3de8bd49",
   "metadata": {},
   "source": [
    "# 2.Reverse Digits of A Number"
   ]
  },
  {
   "cell_type": "code",
   "execution_count": 13,
   "id": "60f9d96e",
   "metadata": {},
   "outputs": [
    {
     "name": "stdout",
     "output_type": "stream",
     "text": [
      "the number 123456789 reverse is 987654321\n"
     ]
    }
   ],
   "source": [
    "def revdig(n):\n",
    "    rev_digits = 0\n",
    "    while n > 0:\n",
    "        last_digits = n % 10\n",
    "        rev_digits = (rev_digits*10)+last_digits\n",
    "        n = n // 10\n",
    "    return rev_digits\n",
    "\n",
    "if __name__ == \"__main__\":\n",
    "    n = 123456789\n",
    "    rd = revdig(n)\n",
    "    print(f\"the number {n} reverse is {rd}\")\n",
    "    \n",
    "    \n",
    "# Time Complexity: O(log10N + 1)\n",
    "# Space Complexity : O(1)"
   ]
  },
  {
   "cell_type": "code",
   "execution_count": 15,
   "id": "0e9190ad",
   "metadata": {},
   "outputs": [
    {
     "name": "stdout",
     "output_type": "stream",
     "text": [
      "the number 123456789 reverse is 987654321\n"
     ]
    }
   ],
   "source": [
    "def revdig2(n):\n",
    "    while n % 10 == 0 and n!= 0:\n",
    "        n = n // 10\n",
    "    rev_digit = 0\n",
    "    while n > 0:\n",
    "        last_digit = n % 10\n",
    "        rev_digit = (rev_digit*10)+last_digit\n",
    "        n = n // 10\n",
    "    return rev_digit\n",
    "\n",
    "if __name__ == \"__main__\":\n",
    "    n = 123456789\n",
    "    rd = revdig2(n)\n",
    "    print(f\"the number {n} reverse is {rd}\")\n",
    "    \n",
    "# Time Complexity: O(log10N)\n",
    "# Space Complexity : O(1)"
   ]
  },
  {
   "cell_type": "markdown",
   "id": "c8d99aba",
   "metadata": {},
   "source": [
    "# 3.Check if a number is Palindrome or Not"
   ]
  },
  {
   "cell_type": "code",
   "execution_count": 28,
   "id": "01cd1423",
   "metadata": {},
   "outputs": [
    {
     "name": "stdout",
     "output_type": "stream",
     "text": [
      "True\n"
     ]
    }
   ],
   "source": [
    "def is_palindrome(n):\n",
    "    rev_num = 0\n",
    "    duplicate = n\n",
    "    while n > 0:\n",
    "        last_digits = n % 10\n",
    "        rev_num = (rev_num*10)+last_digits\n",
    "        n = n // 10\n",
    "    if duplicate == rev_num:\n",
    "        return True\n",
    "    else:\n",
    "        return False\n",
    "    \n",
    "if __name__ == \"__main__\":\n",
    "    n = 123454321\n",
    "    print(is_palindrome(n))\n",
    "    \n",
    "    \n",
    "# Time Complexity: O(log10N+1)\n",
    "# Space Complexity : O(1)"
   ]
  },
  {
   "cell_type": "code",
   "execution_count": null,
   "id": "2125f787",
   "metadata": {},
   "outputs": [],
   "source": []
  }
 ],
 "metadata": {
  "kernelspec": {
   "display_name": "Python 3 (ipykernel)",
   "language": "python",
   "name": "python3"
  },
  "language_info": {
   "codemirror_mode": {
    "name": "ipython",
    "version": 3
   },
   "file_extension": ".py",
   "mimetype": "text/x-python",
   "name": "python",
   "nbconvert_exporter": "python",
   "pygments_lexer": "ipython3",
   "version": "3.11.3"
  }
 },
 "nbformat": 4,
 "nbformat_minor": 5
}
