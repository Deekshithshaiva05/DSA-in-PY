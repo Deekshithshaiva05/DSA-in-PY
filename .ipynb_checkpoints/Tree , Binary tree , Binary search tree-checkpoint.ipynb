{
 "cells": [
  {
   "cell_type": "markdown",
   "id": "616e89ca",
   "metadata": {},
   "source": [
    "# Tree"
   ]
  },
  {
   "cell_type": "markdown",
   "id": "2ec0ccfd",
   "metadata": {},
   "source": [
    "A tree is a hierarchical data structure where elements(nodes) are connected via edges,with one root at the top and ranches leading to child nodes. "
   ]
  },
  {
   "cell_type": "code",
   "execution_count": 1,
   "id": "3c95d09f",
   "metadata": {},
   "outputs": [
    {
     "name": "stdout",
     "output_type": "stream",
     "text": [
      "A\n",
      "B\n",
      "C\n"
     ]
    }
   ],
   "source": [
    "# Basic Tree Implementation\n",
    "\n",
    "class Node:\n",
    "    def __init__(self,value):\n",
    "        self.value = value\n",
    "        self.children = []\n",
    "        \n",
    "    def add_child(self,child):\n",
    "        self.children.append(child)\n",
    "        \n",
    "    \n",
    "root = Node(\"A\")\n",
    "child1 = Node(\"B\")\n",
    "child2 = Node(\"C\")\n",
    "\n",
    "root.add_child(child1)\n",
    "root.add_child(child2)\n",
    "\n",
    "print(root.value)\n",
    "for child in root.children:\n",
    "    print(child.value)"
   ]
  },
  {
   "cell_type": "markdown",
   "id": "75e07a9d",
   "metadata": {},
   "source": [
    "# Binary Tree"
   ]
  },
  {
   "cell_type": "markdown",
   "id": "aed62035",
   "metadata": {},
   "source": [
    "A Binary tree is a tree where each node has at most two children(left and right)\n",
    "\n"
   ]
  },
  {
   "cell_type": "markdown",
   "id": "fdbe20d7",
   "metadata": {},
   "source": [
    "###### Types of Binary Trees:\n",
    "* **Full Binary Tree** – Every node has either 0 or 2 children.\n",
    "* **Complete Binary Tree** – All levels are completely filled except the last level, which is filled from left to right.\n",
    "* **Perfect Binary Tree** – All internal nodes have two children, and all leaf nodes are at the same level.\n",
    "* **Balanced Binary Tree** – The height difference between left and right subtrees is at most 1."
   ]
  },
  {
   "cell_type": "code",
   "execution_count": 2,
   "id": "d1e2b23c",
   "metadata": {},
   "outputs": [
    {
     "name": "stdout",
     "output_type": "stream",
     "text": [
      "1\n",
      "2\n",
      "3\n"
     ]
    }
   ],
   "source": [
    "# Implementation of Binary Tree\n",
    "\n",
    "\n",
    "class TreeNode:\n",
    "    def __init__(self,value):\n",
    "        self.value = value\n",
    "        self.left = None\n",
    "        self.right = None\n",
    "        \n",
    "root = TreeNode(1)\n",
    "root.left = TreeNode(2)\n",
    "root.right = TreeNode(3)\n",
    "        \n",
    "print(root.value)\n",
    "print(root.left.value)\n",
    "print(root.right.value)"
   ]
  },
  {
   "cell_type": "markdown",
   "id": "7485e0de",
   "metadata": {},
   "source": [
    "##### TREE TRAVERSALS"
   ]
  },
  {
   "cell_type": "markdown",
   "id": "ccc2afdd",
   "metadata": {},
   "source": [
    " **Depth-First-search(DFS) Traversals**\n",
    "\n",
    "* Inorder(Left-->Root-->Right)\n",
    "* Preorder(Root-->Left-->Right)\n",
    "* Postorder(Left-->Right-->Root)\n",
    "\n",
    " **Breadth-First-search(BFS) Traversals**\n",
    " \n",
    " * Level-Order-Traversal(Visiting nodes level by level)"
   ]
  },
  {
   "cell_type": "code",
   "execution_count": 6,
   "id": "f6fffeac",
   "metadata": {},
   "outputs": [
    {
     "name": "stdout",
     "output_type": "stream",
     "text": [
      "Inorder Traversal:\n",
      "4 2 5 1 3 \n",
      "Preorder Traversal:\n",
      "1 2 4 5 3 \n",
      "Postorder Traversal:\n",
      "4 5 2 3 1 "
     ]
    }
   ],
   "source": [
    "## DFS TRAVERSAL IMPLEMENTATION\n",
    "\n",
    "class TreeNode:\n",
    "    def __init__(self, value):\n",
    "        self.value = value\n",
    "        self.left = None\n",
    "        self.right = None\n",
    "        \n",
    "    @staticmethod\n",
    "    def inorder_traversal(root):\n",
    "        if root:\n",
    "            TreeNode.inorder_traversal(root.left)\n",
    "            print(root.value, end=\" \")\n",
    "            TreeNode.inorder_traversal(root.right)\n",
    "            \n",
    "    @staticmethod\n",
    "    def preorder_traversal(root):\n",
    "        if root:\n",
    "            print(root.value, end=\" \")\n",
    "            TreeNode.preorder_traversal(root.left)\n",
    "            TreeNode.preorder_traversal(root.right)\n",
    "            \n",
    "    @staticmethod\n",
    "    def postorder_traversal(root):\n",
    "        if root:\n",
    "            TreeNode.postorder_traversal(root.left)\n",
    "            TreeNode.postorder_traversal(root.right)\n",
    "            print(root.value, end=\" \")\n",
    "\n",
    "# Create the binary tree\n",
    "root = TreeNode(1)\n",
    "root.left = TreeNode(2)\n",
    "root.right = TreeNode(3)\n",
    "root.left.left = TreeNode(4)\n",
    "root.left.right = TreeNode(5)\n",
    "\n",
    "# Perform traversals\n",
    "print(\"Inorder Traversal:\")\n",
    "TreeNode.inorder_traversal(root)\n",
    "\n",
    "print(\"\\nPreorder Traversal:\")\n",
    "TreeNode.preorder_traversal(root)\n",
    "\n",
    "print(\"\\nPostorder Traversal:\")\n",
    "TreeNode.postorder_traversal(root)"
   ]
  },
  {
   "cell_type": "code",
   "execution_count": 7,
   "id": "c645e461",
   "metadata": {},
   "outputs": [
    {
     "name": "stdout",
     "output_type": "stream",
     "text": [
      "\n",
      " Level order Traversal:\n",
      "1 2 3 4 5 "
     ]
    }
   ],
   "source": [
    "## BFS(level order traversal)\n",
    "\n",
    "\n",
    "from collections import deque\n",
    "\n",
    "def level_order_traversal(root):\n",
    "    if not root:\n",
    "        return\n",
    "    \n",
    "    queue = deque([root])\n",
    "    while queue:\n",
    "        node = queue.popleft()\n",
    "        print(node.value,end=\" \")\n",
    "        if node.left:\n",
    "            queue.append(node.left)\n",
    "        if node.right:\n",
    "            queue.append(node.right)\n",
    "            \n",
    "print(\"\\n Level order Traversal:\")\n",
    "level_order_traversal(root)"
   ]
  },
  {
   "cell_type": "markdown",
   "id": "299d14c4",
   "metadata": {},
   "source": [
    "# Binary search tree"
   ]
  },
  {
   "cell_type": "markdown",
   "id": "a42dc02d",
   "metadata": {},
   "source": [
    "A BST is a Binary tree where:\n",
    "\n",
    "    *  The left subtree contains only nodes with values less than the root\n",
    "    *  The right subtree contains only nods with values greater than the root"
   ]
  },
  {
   "cell_type": "code",
   "execution_count": 17,
   "id": "4e85a7e6",
   "metadata": {},
   "outputs": [
    {
     "name": "stdout",
     "output_type": "stream",
     "text": [
      "Inorder Traversal of BST:\n",
      "2 5 7 10 15 \n",
      "enter the element to be searched :5\n",
      "Element 5 found in BST\n",
      "Enter the element to be delete :10\n",
      "Inorder Traversal after deleting 5:\n",
      "2 5 7 15 \n"
     ]
    }
   ],
   "source": [
    "class BSTNode:\n",
    "    def __init__(self, value):\n",
    "        self.value = value\n",
    "        self.left = None\n",
    "        self.right = None\n",
    "\n",
    "    def insert(self, new_value):\n",
    "        if new_value < self.value:\n",
    "            if self.left is None:\n",
    "                self.left = BSTNode(new_value)\n",
    "            else:\n",
    "                self.left.insert(new_value)\n",
    "        else:\n",
    "            if self.right is None:\n",
    "                self.right = BSTNode(new_value)\n",
    "            else:\n",
    "                self.right.insert(new_value)\n",
    "\n",
    "    def delete(self, val):\n",
    "        if self is None:\n",
    "            return self\n",
    "        if val < self.value:\n",
    "            if self.left:\n",
    "                self.left = self.left.delete(val)\n",
    "        elif val > self.value:\n",
    "            if self.right:\n",
    "                self.right = self.right.delete(val)\n",
    "        else:\n",
    "            # Case 1: Node with only one child or no child\n",
    "            if self.left is None:\n",
    "                return self.right\n",
    "            elif self.right is None:\n",
    "                return self.left\n",
    "\n",
    "            # Case 2: Node with two children\n",
    "            temp = self.find_min(self.right)\n",
    "            self.value = temp.value\n",
    "            self.right = self.right.delete(temp.value)\n",
    "\n",
    "        return self\n",
    "\n",
    "    def find_min(self, node):\n",
    "        \"\"\" Helper function to find the minimum value in the right subtree. \"\"\"\n",
    "        while node.left:\n",
    "            node = node.left\n",
    "        return node\n",
    "\n",
    "    @staticmethod\n",
    "    def inorder_traversal(root):\n",
    "        if root:\n",
    "            BSTNode.inorder_traversal(root.left)\n",
    "            print(root.value, end=\" \")\n",
    "            BSTNode.inorder_traversal(root.right)\n",
    "\n",
    "    @staticmethod\n",
    "    def search(root, key):\n",
    "        if root is None or root.value == key:\n",
    "            return root\n",
    "        if key < root.value:\n",
    "            return BSTNode.search(root.left, key)\n",
    "        return BSTNode.search(root.right, key)\n",
    "\n",
    "\n",
    "# Example usage\n",
    "root = BSTNode(10)\n",
    "root.insert(5)\n",
    "root.insert(15)\n",
    "root.insert(2)\n",
    "root.insert(7)\n",
    "\n",
    "print(\"Inorder Traversal of BST:\")\n",
    "BSTNode.inorder_traversal(root)\n",
    "print()\n",
    "\n",
    "# Searching for element\n",
    "search_key = int(input(\"enter the element to be searched :\"))\n",
    "result = BSTNode.search(root, search_key)\n",
    "print(f\"Element {search_key} {'found' if result else 'not found'} in BST\")\n",
    "\n",
    "# Delete a node\n",
    "dele = int(input(\"Enter the element to be delete :\"))\n",
    "root = root.delete(dele)\n",
    "\n",
    "print(\"Inorder Traversal after deleting 5:\")\n",
    "BSTNode.inorder_traversal(root)\n",
    "print()\n"
   ]
  },
  {
   "cell_type": "markdown",
   "id": "6707595d",
   "metadata": {},
   "source": [
    "## Problems:\n",
    "    "
   ]
  },
  {
   "cell_type": "code",
   "execution_count": 11,
   "id": "bf32db93",
   "metadata": {},
   "outputs": [
    {
     "name": "stdout",
     "output_type": "stream",
     "text": [
      "1\n",
      "2\n",
      "3\n",
      "4\n",
      "5\n",
      "The maximum depth of the given binary tree is:\n",
      "3\n",
      "The minimum depth of the given binary tree is:\n",
      "2\n",
      "Does the tree have a root-to-leaf path with sum 3 ?\n",
      "True\n"
     ]
    }
   ],
   "source": [
    "class BinaryTree:\n",
    "    def __init__(self, value):\n",
    "        self.value = value\n",
    "        self.left = None\n",
    "        self.right = None\n",
    "\n",
    "class Solution:\n",
    "    # findng the maximum depth in Binary tree\n",
    "    def MaxDepth(self, root):\n",
    "        if not root:\n",
    "            return 0\n",
    "        return 1 + max(self.MaxDepth(root.left), self.MaxDepth(root.right))\n",
    "    \n",
    "    # finding the minimum depth in Binary tree\n",
    "    def MinDepth(self, root):\n",
    "        if not root:\n",
    "            return 0\n",
    "\n",
    "        # If one child is missing, take the depth of the existing child\n",
    "        if not root.left:\n",
    "            return 1 + self.MinDepth(root.right)\n",
    "        if not root.right:\n",
    "            return 1 + self.MinDepth(root.left)\n",
    "\n",
    "        return 1 + min(self.MinDepth(root.left), self.MinDepth(root.right))\n",
    "    \n",
    "    '''Given the root of a binary tree and an integer targetSum, return true if the tree has a root-to-leaf \n",
    "    path such that adding up all the values along the path equals targetSum.'''\n",
    "    \n",
    "    def hasPathSum(self, root, targetSum):\n",
    "        if not root:\n",
    "            return False\n",
    "        \n",
    "        # Check if it's a leaf node and the sum matches\n",
    "        if not root.left and not root.right:\n",
    "            return targetSum == root.value\n",
    "\n",
    "        left_sum = self.hasPathSum(root.left, targetSum - root.value)\n",
    "        right_sum = self.hasPathSum(root.right, targetSum - root.value)\n",
    "\n",
    "        return left_sum or right_sum\n",
    "\n",
    "# Creating tree\n",
    "root = BinaryTree(1)\n",
    "root.left = BinaryTree(2)\n",
    "root.right = BinaryTree(3)\n",
    "root.right.left = BinaryTree(4)\n",
    "root.right.right = BinaryTree(5)\n",
    "\n",
    "# Printing node values\n",
    "print(root.value)  \n",
    "print(root.left.value) \n",
    "print(root.right.value) \n",
    "print(root.right.left.value) \n",
    "print(root.right.right.value) \n",
    "\n",
    "# Create a Solution instance to use the methods\n",
    "solution = Solution()\n",
    "\n",
    "# Finding max depth\n",
    "print(\"The maximum depth of the given binary tree is:\")\n",
    "print(solution.MaxDepth(root))\n",
    "\n",
    "# Finding the minimum depth\n",
    "print(\"The minimum depth of the given binary tree is:\")\n",
    "print(solution.MinDepth(root))\n",
    "\n",
    "# Checking path sum\n",
    "targetSum = 3\n",
    "print(\"Does the tree have a root-to-leaf path with sum\", targetSum, \"?\")\n",
    "print(solution.hasPathSum(root, targetSum))\n"
   ]
  },
  {
   "cell_type": "markdown",
   "id": "c7f3362d",
   "metadata": {},
   "source": [
    "110. Balanced Binary Tree --> https://leetcode.com/problems/balanced-binary-tree/description/\n",
    "226. Invert Binary Tree -->  https://leetcode.com/problems/invert-binary-tree/description/"
   ]
  },
  {
   "cell_type": "code",
   "execution_count": null,
   "id": "742f3257",
   "metadata": {},
   "outputs": [],
   "source": []
  }
 ],
 "metadata": {
  "kernelspec": {
   "display_name": "Python 3 (ipykernel)",
   "language": "python",
   "name": "python3"
  },
  "language_info": {
   "codemirror_mode": {
    "name": "ipython",
    "version": 3
   },
   "file_extension": ".py",
   "mimetype": "text/x-python",
   "name": "python",
   "nbconvert_exporter": "python",
   "pygments_lexer": "ipython3",
   "version": "3.11.3"
  }
 },
 "nbformat": 4,
 "nbformat_minor": 5
}
