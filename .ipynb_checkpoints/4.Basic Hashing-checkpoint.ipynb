{
 "cells": [
  {
   "cell_type": "markdown",
   "id": "c8619c49",
   "metadata": {},
   "source": [
    "# 1) What is hashing?\n",
    "\n",
    "Hashing maps data of arbitrary size (a key) to a fixed-size integer called a hash.\n",
    "A hash table uses this integer (mod table size) as an index to store/retrieve values in amortized O(1) time.\n",
    "\n",
    "##### Hash function properties (for DSA):\n",
    "\n",
    "Deterministic: same input → same output during a run.\n",
    "\n",
    "Uniform-ish: spreads keys across buckets evenly.\n",
    "\n",
    "Efficient: O(1) to compute.\n",
    "\n",
    "Low collisions: different keys rarely map to the same index.\n",
    "\n",
    "# 2) Collisions and how to handle them\n",
    "\n",
    "Two different keys can land in the same bucket → collision. Strategies:\n",
    "\n",
    "###### a) Separate Chaining\n",
    "\n",
    "Each bucket holds a small list (or linked list) of key–value pairs.\n",
    "\n",
    "Insert/search only within that list.\n",
    "\n",
    "###### b) Open Addressing\n",
    "\n",
    "Store entries directly in the array.\n",
    "\n",
    "On collision, probe other slots:\n",
    "\n",
    "Linear probing: try i, i+1, i+2, …\n",
    "\n",
    "Quadratic probing: try i + 1², i + 2², …\n",
    "\n",
    "Double hashing: second hash decides step size.\n",
    "\n",
    "Load factor (α) = items / capacity\n",
    "\n",
    "Keep α below a threshold (≈ 0.5–0.75) to keep probes/lists short.\n",
    "\n",
    "If α too high → resize (allocate bigger table and reinsert)."
   ]
  },
  {
   "cell_type": "markdown",
   "id": "82e84b8e",
   "metadata": {},
   "source": [
    "# 3) A minimal hash table in Python (two versions)"
   ]
  },
  {
   "cell_type": "markdown",
   "id": "9ed8cb09",
   "metadata": {},
   "source": [
    "#### 3.1 Separate Chaining (simple, robust)"
   ]
  },
  {
   "cell_type": "code",
   "execution_count": 2,
   "id": "31b4a39b",
   "metadata": {},
   "outputs": [
    {
     "name": "stdout",
     "output_type": "stream",
     "text": [
      "Alice\n",
      "True\n",
      "1\n"
     ]
    }
   ],
   "source": [
    "class HashMapChaining:\n",
    "    def __init__(self, initial_capacity=8, load_factor=0.75):\n",
    "        self._n = 0\n",
    "        self._cap = initial_capacity\n",
    "        self._load_factor = load_factor\n",
    "        self._buckets = [[] for _ in range(self._cap)]\n",
    "\n",
    "    def _index(self, key):\n",
    "        return hash(key) & (self._cap - 1) if (self._cap & (self._cap - 1)) == 0 else hash(key) % self._cap\n",
    "\n",
    "    def _resize(self):\n",
    "        old = self._buckets\n",
    "        self._cap *= 2\n",
    "        self._buckets = [[] for _ in range(self._cap)]\n",
    "        self._n = 0\n",
    "        for bucket in old:\n",
    "            for k, v in bucket:\n",
    "                self[k] = v\n",
    "\n",
    "    def __setitem__(self, key, value):\n",
    "        if self._n + 1 > self._cap * self._load_factor:\n",
    "            self._resize()\n",
    "        idx = self._index(key)\n",
    "        bucket = self._buckets[idx]\n",
    "        for i, (k, _) in enumerate(bucket):\n",
    "            if k == key:\n",
    "                bucket[i] = (key, value)\n",
    "                return\n",
    "        bucket.append((key, value))\n",
    "        self._n += 1\n",
    "\n",
    "    def __getitem__(self, key):\n",
    "        idx = self._index(key)\n",
    "        for k, v in self._buckets[idx]:\n",
    "            if k == key:\n",
    "                return v\n",
    "        raise KeyError(key)\n",
    "\n",
    "    def __delitem__(self, key):\n",
    "        idx = self._index(key)\n",
    "        bucket = self._buckets[idx]\n",
    "        for i, (k, _) in enumerate(bucket):\n",
    "            if k == key:\n",
    "                bucket.pop(i)\n",
    "                self._n -= 1\n",
    "                return\n",
    "        raise KeyError(key)\n",
    "\n",
    "    def __contains__(self, key):\n",
    "        idx = self._index(key)\n",
    "        return any(k == key for k, _ in self._buckets[idx])\n",
    "\n",
    "    def __len__(self):\n",
    "        return self._n\n",
    "\n",
    "hm = HashMapChaining()\n",
    "hm[\"name\"] = \"Alice\"\n",
    "hm[\"age\"] = 25\n",
    "\n",
    "print(hm[\"name\"])     \n",
    "print(\"age\" in hm)      \n",
    "\n",
    "del hm[\"age\"]\n",
    "print(len(hm))     \n"
   ]
  },
  {
   "cell_type": "markdown",
   "id": "a8ee9565",
   "metadata": {},
   "source": [
    "###### 3.2 Open Addressing (linear probing)"
   ]
  },
  {
   "cell_type": "code",
   "execution_count": 3,
   "id": "bc7b6004",
   "metadata": {},
   "outputs": [
    {
     "name": "stdout",
     "output_type": "stream",
     "text": [
      "Alice\n",
      "True\n",
      "2\n",
      "age not found\n"
     ]
    }
   ],
   "source": [
    "class HashMapOpenAddressing:\n",
    "    _EMPTY = object()\n",
    "    _DELETED = object()\n",
    "\n",
    "    def __init__(self, initial_capacity=8, load_factor=0.5):\n",
    "        self._cap = initial_capacity\n",
    "        self._load_factor = load_factor\n",
    "        self._n = 0\n",
    "        self._keys = [self._EMPTY] * self._cap\n",
    "        self._vals = [None] * self._cap\n",
    "\n",
    "    def _index(self, key):\n",
    "        return hash(key) & (self._cap - 1) if (self._cap & (self._cap - 1)) == 0 else hash(key) % self._cap\n",
    "\n",
    "    def _probe(self, idx):\n",
    "        # Linear probing\n",
    "        while True:\n",
    "            yield idx\n",
    "            idx = (idx + 1) % self._cap\n",
    "\n",
    "    def _resize(self):\n",
    "        old_keys, old_vals = self._keys, self._vals\n",
    "        self._cap *= 2\n",
    "        self._keys = [self._EMPTY] * self._cap\n",
    "        self._vals = [None] * self._cap\n",
    "        self._n = 0\n",
    "        for k, v in zip(old_keys, old_vals):\n",
    "            if k is not self._EMPTY and k is not self._DELETED:\n",
    "                self[k] = v\n",
    "\n",
    "    def __setitem__(self, key, value):\n",
    "        if self._n + 1 > self._cap * self._load_factor:\n",
    "            self._resize()\n",
    "        idx0 = self._index(key)\n",
    "        first_deleted = None\n",
    "        for idx in self._probe(idx0):\n",
    "            k = self._keys[idx]\n",
    "            if k is self._EMPTY:\n",
    "                target = first_deleted if first_deleted is not None else idx\n",
    "                self._keys[target] = key\n",
    "                self._vals[target] = value\n",
    "                self._n += 1\n",
    "                return\n",
    "            elif k is self._DELETED:\n",
    "                if first_deleted is None:\n",
    "                    first_deleted = idx\n",
    "            elif k == key:\n",
    "                self._vals[idx] = value\n",
    "                return\n",
    "\n",
    "    def __getitem__(self, key):\n",
    "        idx0 = self._index(key)\n",
    "        for idx in self._probe(idx0):\n",
    "            k = self._keys[idx]\n",
    "            if k is self._EMPTY:\n",
    "                break\n",
    "            if k is not self._DELETED and k == key:\n",
    "                return self._vals[idx]\n",
    "        raise KeyError(key)\n",
    "\n",
    "    def __delitem__(self, key):\n",
    "        idx0 = self._index(key)\n",
    "        for idx in self._probe(idx0):\n",
    "            k = self._keys[idx]\n",
    "            if k is self._EMPTY:\n",
    "                break\n",
    "            if k is not self._DELETED and k == key:\n",
    "                self._keys[idx] = self._DELETED\n",
    "                self._vals[idx] = None\n",
    "                self._n -= 1\n",
    "                return\n",
    "        raise KeyError(key)\n",
    "\n",
    "    def __contains__(self, key):\n",
    "        try:\n",
    "            _ = self[key]\n",
    "            return True\n",
    "        except KeyError:\n",
    "            return False\n",
    "\n",
    "    def __len__(self):\n",
    "        return self._n\n",
    "\n",
    "hm = HashMapOpenAddressing()\n",
    "\n",
    "hm[\"name\"] = \"Alice\"\n",
    "hm[\"age\"] = 25\n",
    "hm[\"city\"] = \"Mysore\"\n",
    "\n",
    "print(hm[\"name\"])      # Alice\n",
    "print(\"age\" in hm)     # True\n",
    "\n",
    "del hm[\"age\"]\n",
    "print(len(hm))         # 2\n",
    "\n",
    "try:\n",
    "    print(hm[\"age\"])\n",
    "except KeyError:\n",
    "    print(\"age not found\")\n"
   ]
  },
  {
   "cell_type": "markdown",
   "id": "f4456a79",
   "metadata": {},
   "source": [
    "# Problem 01 : Count frequency of each element in the array"
   ]
  },
  {
   "cell_type": "code",
   "execution_count": 6,
   "id": "3bb038ea",
   "metadata": {},
   "outputs": [
    {
     "name": "stdout",
     "output_type": "stream",
     "text": [
      "10 3\n",
      "5 2\n",
      "15 1\n"
     ]
    }
   ],
   "source": [
    "# Solution 1: Use of two loops\n",
    "\n",
    "\n",
    "def countfrequency(arr):\n",
    "    visited = [False]*n\n",
    "    for i in range(n):\n",
    "        if(visited[i]==True):\n",
    "            continue\n",
    "        count = 1\n",
    "        for j in range(i+1,n):\n",
    "            if(arr[i] == arr[j]):\n",
    "                visited[j] = True\n",
    "                count += 1\n",
    "        print(arr[i],count)\n",
    "\n",
    "if __name__ == \"__main__\":\n",
    "    \n",
    "    arr = [10,5,10,15,10,5]\n",
    "    n = len(arr)\n",
    "    countfrequency(arr)"
   ]
  },
  {
   "cell_type": "code",
   "execution_count": 7,
   "id": "a8afb0d3",
   "metadata": {},
   "outputs": [
    {
     "name": "stdout",
     "output_type": "stream",
     "text": [
      "10 3\n",
      "5 2\n",
      "15 1\n"
     ]
    }
   ],
   "source": [
    "# Solution 2: Using Map\n",
    "\n",
    "def Frequency(arr, n):\n",
    "    mp = {}\n",
    "    for i in range(n):\n",
    "        if arr[i] in mp:\n",
    "            mp[arr[i]] += 1\n",
    "        else:\n",
    "            mp[arr[i]] = 1\n",
    "    for x in mp:\n",
    "        print(x,mp[x])\n",
    "        \n",
    "if __name__ == \"__main__\":\n",
    "    arr = [10,5,10,15,10,5]\n",
    "    n = len(arr)\n",
    "    Frequency(arr,n)"
   ]
  },
  {
   "cell_type": "markdown",
   "id": "e3d4de4b",
   "metadata": {},
   "source": [
    "# Find the highest/lowest frequency element"
   ]
  },
  {
   "cell_type": "code",
   "execution_count": 16,
   "id": "dee5a0f1",
   "metadata": {},
   "outputs": [
    {
     "name": "stdout",
     "output_type": "stream",
     "text": [
      "The Max Frequency element is 10 and the min Frequency element is 15\n"
     ]
    }
   ],
   "source": [
    "# solution 1 : Brute-Force approach(Using two loops): \n",
    "\n",
    "def high_low_Frequency(arr):\n",
    "    visited = [False]*n\n",
    "    \n",
    "    max_freq = -1\n",
    "    min_freq = n + 1\n",
    "    max_elem = None\n",
    "    min_elem = None\n",
    "    \n",
    "    for i in range(n):\n",
    "        if visited[i] == True:\n",
    "            continue\n",
    "        count = 1\n",
    "        for j in range(i+1,n):\n",
    "            if arr[i] == arr[j]:\n",
    "                visited[j] = True\n",
    "                count += 1\n",
    "        \n",
    "        if count > max_freq:\n",
    "            max_freq = count\n",
    "            max_elem = arr[i]\n",
    "            \n",
    "        if count < min_freq:\n",
    "            min_freq = count\n",
    "            min_elem = arr[i]\n",
    "        \n",
    "    print(f\"The Max Frequency element is {max_elem} and the min Frequency element is {min_elem}\")\n",
    "        \n",
    "if __name__ == \"__main__\":\n",
    "    arr = [10,5,10,15,10,5]\n",
    "    n = len(arr)\n",
    "    high_low_Frequency(arr)\n",
    "    \n",
    "# Time Complexity: O(N*N)\n",
    "# Space Complexity:  O(N) "
   ]
  },
  {
   "cell_type": "code",
   "execution_count": 17,
   "id": "29676062",
   "metadata": {},
   "outputs": [
    {
     "name": "stdout",
     "output_type": "stream",
     "text": [
      "The highest frequency element is: 10\n",
      "The lowest frequency element is: 15\n"
     ]
    }
   ],
   "source": [
    "# Solution 2 : Optimized approach(Using map):\n",
    "\n",
    "def frequency(arr):\n",
    "    \n",
    "    freq_map = {}\n",
    "    for num in arr:\n",
    "        freq_map[num] = freq_map.get(num, 0) + 1\n",
    "\n",
    "    max_freq = 0\n",
    "    min_freq = len(arr)\n",
    "    max_ele = None\n",
    "    min_ele = None\n",
    "\n",
    "    for element, count in freq_map.items():\n",
    "        if count > max_freq:\n",
    "            max_freq = count\n",
    "            max_ele = element\n",
    "        if count < min_freq:\n",
    "            min_freq = count\n",
    "            min_ele = element\n",
    "\n",
    "    print(\"The highest frequency element is:\", max_ele)\n",
    "    print(\"The lowest frequency element is:\", min_ele)\n",
    "\n",
    "\n",
    "if __name__ == \"__main__\":\n",
    "    arr = [10, 5, 10, 15, 10, 5]\n",
    "    frequency(arr)\n"
   ]
  },
  {
   "cell_type": "code",
   "execution_count": null,
   "id": "4dc1fb18",
   "metadata": {},
   "outputs": [],
   "source": []
  }
 ],
 "metadata": {
  "kernelspec": {
   "display_name": "Python 3 (ipykernel)",
   "language": "python",
   "name": "python3"
  },
  "language_info": {
   "codemirror_mode": {
    "name": "ipython",
    "version": 3
   },
   "file_extension": ".py",
   "mimetype": "text/x-python",
   "name": "python",
   "nbconvert_exporter": "python",
   "pygments_lexer": "ipython3",
   "version": "3.11.3"
  }
 },
 "nbformat": 4,
 "nbformat_minor": 5
}
