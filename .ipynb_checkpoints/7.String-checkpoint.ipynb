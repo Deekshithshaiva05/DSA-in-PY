{
 "cells": [
  {
   "cell_type": "markdown",
   "id": "c6470e21",
   "metadata": {},
   "source": [
    "# STRING"
   ]
  },
  {
   "cell_type": "markdown",
   "id": "56a7cebf",
   "metadata": {},
   "source": [
    "https://www.geeksforgeeks.org/python/python-string/"
   ]
  },
  {
   "cell_type": "raw",
   "id": "615c1414",
   "metadata": {},
   "source": [
    "A string in Python is a sequence of characters, used for representing text. They are an essential and widely used data type. In Python, strings are immutable, which means once a string is created, its value cannot be changed. This is a crucial concept."
   ]
  },
  {
   "cell_type": "markdown",
   "id": "52e7372a",
   "metadata": {},
   "source": [
    "# 1.Remove outermost Paranthesis"
   ]
  },
  {
   "cell_type": "code",
   "execution_count": 3,
   "id": "3a88656b",
   "metadata": {},
   "outputs": [
    {
     "data": {
      "text/plain": [
       "'()()()()(())'"
      ]
     },
     "execution_count": 3,
     "metadata": {},
     "output_type": "execute_result"
    }
   ],
   "source": [
    "def removeouter(paran):\n",
    "    result = \"\"\n",
    "    count = 0\n",
    "    \n",
    "    for ch in paran:\n",
    "        if ch == \"(\":\n",
    "            count += 1\n",
    "            if count > 1:\n",
    "                result += ch\n",
    "        else:\n",
    "            count -= 1\n",
    "            if count > 0:\n",
    "                result += ch\n",
    "            \n",
    "    return result\n",
    "\n",
    "paran = '(()())(())(()(()))'\n",
    "removeouter(paran)\n",
    "                "
   ]
  },
  {
   "cell_type": "markdown",
   "id": "38a66a76",
   "metadata": {},
   "source": [
    "# 2.Reverse Words in a String"
   ]
  },
  {
   "cell_type": "code",
   "execution_count": 4,
   "id": "4dd3408d",
   "metadata": {},
   "outputs": [
    {
     "data": {
      "text/plain": [
       "'program amazing an is this'"
      ]
     },
     "execution_count": 4,
     "metadata": {},
     "output_type": "execute_result"
    }
   ],
   "source": [
    "# Method 1: Split,reverse,join\n",
    "\n",
    "def rev_words(sen):\n",
    "    words = sen.split()\n",
    "    reversed_words = words[::-1]\n",
    "    reversed_string = \" \".join(reversed_words)\n",
    "    return reversed_string\n",
    "\n",
    "sen = \"this is an amazing program\"\n",
    "rev_words(sen)\n"
   ]
  },
  {
   "cell_type": "code",
   "execution_count": 5,
   "id": "37b61145",
   "metadata": {},
   "outputs": [
    {
     "name": "stdout",
     "output_type": "stream",
     "text": [
      "python from world hello\n"
     ]
    }
   ],
   "source": [
    "def reverse_words_manual(s):\n",
    "    reversed_words = []\n",
    "    current_word = \"\"\n",
    "    for char in s:\n",
    "        if char == ' ':\n",
    "            if current_word:\n",
    "                reversed_words.insert(0, current_word)\n",
    "                current_word = \"\"\n",
    "        else:\n",
    "            current_word += char\n",
    "    if current_word:\n",
    "        reversed_words.insert(0, current_word)\n",
    "\n",
    "    return ' '.join(reversed_words)\n",
    "\n",
    "# Example\n",
    "my_string = \"hello world from python\"\n",
    "reversed_string = reverse_words_manual(my_string)\n",
    "print(reversed_string)"
   ]
  },
  {
   "cell_type": "markdown",
   "id": "20094ca7",
   "metadata": {},
   "source": [
    "# Largest odd number in a string"
   ]
  },
  {
   "cell_type": "code",
   "execution_count": 2,
   "id": "6a259da3",
   "metadata": {},
   "outputs": [
    {
     "data": {
      "text/plain": [
       "'5'"
      ]
     },
     "execution_count": 2,
     "metadata": {},
     "output_type": "execute_result"
    }
   ],
   "source": [
    "def oddhighest(s):\n",
    "    for i in range(len(s)-1,-1,-1):\n",
    "        if int(s[i]) % 2:\n",
    "            return s[:i+1]\n",
    "    return \"\"\n",
    "    \n",
    "s = \"52\"\n",
    "oddhighest(s)"
   ]
  },
  {
   "cell_type": "code",
   "execution_count": 4,
   "id": "6106f082",
   "metadata": {},
   "outputs": [
    {
     "data": {
      "text/plain": [
       "'35427'"
      ]
     },
     "execution_count": 4,
     "metadata": {},
     "output_type": "execute_result"
    }
   ],
   "source": [
    "s1 = '354278'\n",
    "oddhighest(s1)"
   ]
  },
  {
   "cell_type": "markdown",
   "id": "a8403f40",
   "metadata": {},
   "source": [
    "# Longest Common Prefix"
   ]
  },
  {
   "cell_type": "code",
   "execution_count": 6,
   "id": "29f5ace0",
   "metadata": {},
   "outputs": [
    {
     "name": "stdout",
     "output_type": "stream",
     "text": [
      "fl\n"
     ]
    }
   ],
   "source": [
    "def longcompre(strs):\n",
    "    if not strs:\n",
    "        return \"\"\n",
    "    \n",
    "    # Find the minimum string length\n",
    "    min_length = min(len(s) for s in strs)\n",
    "    i = 0\n",
    "    \n",
    "    while i < min_length:\n",
    "        ch = strs[0][i]\n",
    "        for s in strs[1:]:\n",
    "            if s[i] != ch:\n",
    "                return strs[0][:i]\n",
    "        i += 1\n",
    "    return strs[0][:i]\n",
    "\n",
    "strs = [\"flower\",\"flow\",\"flight\"]\n",
    "print(longcompre(strs))  "
   ]
  },
  {
   "cell_type": "code",
   "execution_count": 7,
   "id": "c36f12b6",
   "metadata": {},
   "outputs": [
    {
     "data": {
      "text/plain": [
       "'fl'"
      ]
     },
     "execution_count": 7,
     "metadata": {},
     "output_type": "execute_result"
    }
   ],
   "source": [
    "def lcp_sort(strs):\n",
    "    if not strs:\n",
    "        return \"\"\n",
    "    a = sorted(strs)\n",
    "    first, last = a[0], a[-1]\n",
    "    i = 0\n",
    "    while i < min(len(first), len(last)) and first[i] == last[i]:\n",
    "        i += 1\n",
    "    return first[:i]\n",
    "\n",
    "strs = [\"flower\",\"flow\",\"flight\"]\n",
    "lcp_sort(strs)"
   ]
  },
  {
   "cell_type": "markdown",
   "id": "78fb3727",
   "metadata": {},
   "source": [
    "# Isomorphic String"
   ]
  },
  {
   "cell_type": "code",
   "execution_count": 10,
   "id": "f6fc6e87",
   "metadata": {},
   "outputs": [
    {
     "name": "stdout",
     "output_type": "stream",
     "text": [
      "True\n",
      "False\n",
      "True\n"
     ]
    }
   ],
   "source": [
    "def iso_str(s, t):\n",
    "    if len(s) != len(t):\n",
    "        return False\n",
    "    mapST = {}\n",
    "    mapTS = {}\n",
    "    for c1, c2 in zip(s, t):\n",
    "        if c1 in mapST and mapST[c1] != c2:\n",
    "            return False\n",
    "        if c2 in mapTS and mapTS[c2] != c1:\n",
    "            return False\n",
    "        mapST[c1] = c2\n",
    "        mapTS[c2] = c1\n",
    "    return True\n",
    "\n",
    "print(iso_str(\"egg\", \"add\"))   \n",
    "print(iso_str(\"foo\", \"bar\"))   \n",
    "print(iso_str(\"paper\", \"title\"))"
   ]
  },
  {
   "cell_type": "markdown",
   "id": "98f67579",
   "metadata": {},
   "source": [
    "# check whether one string is a rotation of another"
   ]
  },
  {
   "cell_type": "code",
   "execution_count": 11,
   "id": "08952e7c",
   "metadata": {},
   "outputs": [
    {
     "name": "stdout",
     "output_type": "stream",
     "text": [
      "True\n",
      "True\n",
      "False\n"
     ]
    }
   ],
   "source": [
    "def is_rotation(str1,str2):\n",
    "    if len(str1) != len(str2):\n",
    "        return False\n",
    "    temp = str1 + str1\n",
    "    \n",
    "    if str2 in temp:\n",
    "        return True\n",
    "    return False\n",
    "\n",
    "print(is_rotation(\"abcd\", \"dabc\")) \n",
    "print(is_rotation(\"waterbottle\", \"erbottlewat\")) \n",
    "print(is_rotation(\"abc\", \"acb\"))  \n"
   ]
  },
  {
   "cell_type": "markdown",
   "id": "d76f3fb5",
   "metadata": {},
   "source": [
    "# Check if two Strings are anagrams of each other"
   ]
  },
  {
   "cell_type": "code",
   "execution_count": 13,
   "id": "b1b31e26",
   "metadata": {},
   "outputs": [
    {
     "data": {
      "text/plain": [
       "True"
      ]
     },
     "execution_count": 13,
     "metadata": {},
     "output_type": "execute_result"
    }
   ],
   "source": [
    "from collections import Counter\n",
    "\n",
    "def anagrams(s: str, t: str) -> bool:\n",
    "    s_norm = ''.join(ch.lower() for ch in s if ch.isalpha())\n",
    "    t_norm = ''.join(ch.lower() for ch in t if ch.isalpha())\n",
    "    return Counter(s_norm) == Counter(t_norm)\n",
    "\n",
    "s = \"anagram\"\n",
    "t = \"nagaram\"\n",
    "anagrams(s,t)"
   ]
  },
  {
   "cell_type": "code",
   "execution_count": null,
   "id": "554f8b1b",
   "metadata": {},
   "outputs": [],
   "source": []
  }
 ],
 "metadata": {
  "kernelspec": {
   "display_name": "Python 3 (ipykernel)",
   "language": "python",
   "name": "python3"
  },
  "language_info": {
   "codemirror_mode": {
    "name": "ipython",
    "version": 3
   },
   "file_extension": ".py",
   "mimetype": "text/x-python",
   "name": "python",
   "nbconvert_exporter": "python",
   "pygments_lexer": "ipython3",
   "version": "3.11.3"
  }
 },
 "nbformat": 4,
 "nbformat_minor": 5
}
