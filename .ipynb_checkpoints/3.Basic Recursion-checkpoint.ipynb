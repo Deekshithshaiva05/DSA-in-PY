{
 "cells": [
  {
   "cell_type": "markdown",
   "id": "ec783b18",
   "metadata": {},
   "source": [
    "# 1.Introduction to Recursion - Understand Recursion by printing something N times"
   ]
  },
  {
   "cell_type": "raw",
   "id": "8b7704cf",
   "metadata": {},
   "source": [
    "What is Recursion?\n",
    "\n",
    "It is a phenomenon when a function calls itself indefinitely until a specified condition is fulfilled."
   ]
  },
  {
   "cell_type": "code",
   "execution_count": 8,
   "id": "ac15e93c",
   "metadata": {},
   "outputs": [
    {
     "name": "stdout",
     "output_type": "stream",
     "text": [
      "Deekshith\n",
      "Deekshith\n",
      "Deekshith\n",
      "Deekshith\n",
      "Deekshith\n"
     ]
    }
   ],
   "source": [
    "# print ur name N times without using for,while and condition loop \n",
    "\n",
    "def print_name(i,n):\n",
    "    if i > n:\n",
    "        return\n",
    "    print(\"Deekshith\")\n",
    "    print_name(i+1,n)\n",
    "        \n",
    "if __name__ == \"__main__\":\n",
    "    n = 5\n",
    "    print_name(1,n)\n",
    "    \n",
    "#Time complexity : O(n)\n",
    "#space complexity : O(n)"
   ]
  },
  {
   "cell_type": "code",
   "execution_count": 14,
   "id": "9438c2c2",
   "metadata": {},
   "outputs": [
    {
     "name": "stdout",
     "output_type": "stream",
     "text": [
      "1\n",
      "2\n",
      "3\n",
      "4\n",
      "5\n",
      "6\n",
      "7\n",
      "8\n"
     ]
    }
   ],
   "source": [
    "# printing the numbers from 1 to N  ( forward recursion)\n",
    "\n",
    "def numbers(i,n):\n",
    "    if i > n:\n",
    "        return\n",
    "    print(i)\n",
    "    numbers(i+1,n)\n",
    "    \n",
    "if __name__ == \"__main__\":\n",
    "    n = 8\n",
    "    numbers(1,n)"
   ]
  },
  {
   "cell_type": "code",
   "execution_count": 12,
   "id": "5fa12c50",
   "metadata": {},
   "outputs": [
    {
     "name": "stdout",
     "output_type": "stream",
     "text": [
      "1\n",
      "2\n",
      "3\n",
      "4\n",
      "5\n"
     ]
    }
   ],
   "source": [
    "# printing the numbers from 1 to N  (Backtracking recursion)\n",
    "\n",
    "def numbers_back_rec(i,n):\n",
    "    if i < 1:\n",
    "        return\n",
    "    numbers_back_rec(i-1,n)\n",
    "    print(i)\n",
    "    \n",
    "if __name__ == \"__main__\":\n",
    "    n = 5\n",
    "    numbers_back_rec(n,n)\n",
    "    "
   ]
  },
  {
   "cell_type": "code",
   "execution_count": 17,
   "id": "174914f2",
   "metadata": {},
   "outputs": [
    {
     "name": "stdout",
     "output_type": "stream",
     "text": [
      "6\n",
      "5\n",
      "4\n",
      "3\n",
      "2\n",
      "1\n"
     ]
    }
   ],
   "source": [
    "# printing the numbers from N to 1  ( forward recursion)\n",
    "\n",
    "def func(i,n):\n",
    "    if i < 1:\n",
    "        return\n",
    "    print(i)\n",
    "    func(i-1,n)\n",
    "    \n",
    "if __name__ == \"__main__\":\n",
    "    n = 6\n",
    "    func(n,n)"
   ]
  },
  {
   "cell_type": "code",
   "execution_count": 18,
   "id": "332eea27",
   "metadata": {},
   "outputs": [
    {
     "name": "stdout",
     "output_type": "stream",
     "text": [
      "6\n",
      "5\n",
      "4\n",
      "3\n",
      "2\n",
      "1\n"
     ]
    }
   ],
   "source": [
    "# printing the numbers from 1 to N  (Backtracking recursion)\n",
    "\n",
    "def func1(i,n):\n",
    "    if i > n:\n",
    "        return\n",
    "    func1(i+1,n)\n",
    "    print(i)\n",
    "    \n",
    "if __name__ == \"__main__\":\n",
    "    n = 6\n",
    "    func1(1,n)"
   ]
  },
  {
   "cell_type": "code",
   "execution_count": 23,
   "id": "f6d6c98e",
   "metadata": {},
   "outputs": [
    {
     "name": "stdout",
     "output_type": "stream",
     "text": [
      "Sum of first 8 natural numbers is: 36\n"
     ]
    }
   ],
   "source": [
    "# Sum of first N natural numbers using recursion in Python\n",
    "\n",
    "def sum_natural(n):\n",
    "    if n == 0:\n",
    "        return 0\n",
    "    return n + sum_natural(n - 1)\n",
    "\n",
    "if __name__ == \"__main__\":\n",
    "    n = 8\n",
    "    print(\"Sum of first\", n, \"natural numbers is:\", sum_natural(n))"
   ]
  },
  {
   "cell_type": "code",
   "execution_count": 24,
   "id": "241353cd",
   "metadata": {},
   "outputs": [
    {
     "name": "stdout",
     "output_type": "stream",
     "text": [
      "Sum of first 10 natural numbers is: 55\n"
     ]
    }
   ],
   "source": [
    "# Sum of first N natural numbers using the formula\n",
    "\n",
    "def sum_formula(n):\n",
    "    return n * (n + 1) // 2\n",
    "\n",
    "if __name__ == \"__main__\":\n",
    "    n = 10\n",
    "    print(\"Sum of first\", n, \"natural numbers is:\", sum_formula(n))"
   ]
  },
  {
   "cell_type": "markdown",
   "id": "88bee5b1",
   "metadata": {},
   "source": [
    "# Factorial of a Number : Iterative and Recursive"
   ]
  },
  {
   "cell_type": "code",
   "execution_count": 27,
   "id": "c0bb8832",
   "metadata": {},
   "outputs": [
    {
     "name": "stdout",
     "output_type": "stream",
     "text": [
      "120\n"
     ]
    }
   ],
   "source": [
    "# Iterative Solution\n",
    "\n",
    "def iterative_fact(n):\n",
    "    iterative = 1\n",
    "    for i in range(1,n+1):\n",
    "        iterative *= i\n",
    "    return iterative\n",
    "\n",
    "if __name__ == \"__main__\":\n",
    "    n = 5\n",
    "    print(iterative_fact(n))\n",
    "    \n",
    "# TC = O(n)\n",
    "# SC = O(1)"
   ]
  },
  {
   "cell_type": "code",
   "execution_count": 30,
   "id": "cf8a44f2",
   "metadata": {},
   "outputs": [
    {
     "name": "stdout",
     "output_type": "stream",
     "text": [
      "120\n"
     ]
    }
   ],
   "source": [
    "# Recursive solution\n",
    "\n",
    "def factorial(n):\n",
    "    if n == 0:\n",
    "        return 1\n",
    "    return n * factorial(n-1)\n",
    "\n",
    "if __name__ == \"__main__\":\n",
    "    n = 5\n",
    "    print(factorial(n))\n",
    "    \n",
    "# TC & SC = O(n)"
   ]
  },
  {
   "cell_type": "markdown",
   "id": "fbd36e91",
   "metadata": {},
   "source": [
    "# Reverse a given Array"
   ]
  },
  {
   "cell_type": "code",
   "execution_count": 1,
   "id": "ec5bb2f2",
   "metadata": {},
   "outputs": [
    {
     "name": "stdout",
     "output_type": "stream",
     "text": [
      "The reversed array is:\n",
      "1 2 3 4 5 \n"
     ]
    }
   ],
   "source": [
    "# Solution 1: Using an extra array.\n",
    "\n",
    "def printArray(arr,n):\n",
    "    print(\"The reversed array is:\")\n",
    "    for i in range(n):\n",
    "        print(arr[i],end=\" \")\n",
    "    print()\n",
    "    \n",
    "def reverseArray(arr,n):\n",
    "    ans = [0] * n\n",
    "    for i in range(n-1,-1,-1):\n",
    "        ans[n-i-1] = arr[i]\n",
    "    printArray(ans,n)\n",
    "  \n",
    "if __name__ == \"__main__\":\n",
    "    arr = [5, 4, 3, 2, 1]\n",
    "    n = len(arr)\n",
    "    reverseArray(arr, n)"
   ]
  },
  {
   "cell_type": "code",
   "execution_count": 2,
   "id": "e3a820b7",
   "metadata": {},
   "outputs": [
    {
     "name": "stdout",
     "output_type": "stream",
     "text": [
      "The reversed array is:\n",
      "1 2 3 4 5 \n"
     ]
    }
   ],
   "source": [
    "# solution 2: Space-optimized iterative method\n",
    "\n",
    "def printArray1(arr,n):\n",
    "    print(\"The reversed array is:\")\n",
    "    for i in range(n):\n",
    "        print(arr[i],end=\" \")\n",
    "    print()\n",
    "    \n",
    "def reverseArray1(arr,n):\n",
    "    p1 = 0\n",
    "    p2 = n - 1\n",
    "    while p1 < p2:\n",
    "        arr[p1],arr[p2] = arr[p2],arr[p1]\n",
    "        p1 += 1\n",
    "        p2 -= 1\n",
    "    printArray1(arr,n)\n",
    "  \n",
    "if __name__ == \"__main__\":\n",
    "    arr = [5, 4, 3, 2, 1]\n",
    "    n = len(arr)\n",
    "    reverseArray1(arr, n)"
   ]
  },
  {
   "cell_type": "code",
   "execution_count": 3,
   "id": "814894a6",
   "metadata": {},
   "outputs": [
    {
     "name": "stdout",
     "output_type": "stream",
     "text": [
      "The reversed array is:- \n",
      "1 2 3 4 5 \n"
     ]
    }
   ],
   "source": [
    "# Solution 3: Recursive method\n",
    "\n",
    "def printArray2(arr, n):\n",
    "    print(\"The reversed array is:- \")\n",
    "    for i in range(n):\n",
    "        print(arr[i], end=\" \")\n",
    "    print()\n",
    "\n",
    "\n",
    "def reverseArray2(arr, start, end):\n",
    "    if start < end:\n",
    "        arr[start], arr[end] = arr[end], arr[start]\n",
    "        reverseArray2(arr, start + 1, end - 1)\n",
    "\n",
    "\n",
    "# Driver Code\n",
    "if __name__ == \"__main__\":\n",
    "    arr = [5, 4, 3, 2, 1]\n",
    "    n = len(arr)\n",
    "    reverseArray2(arr, 0, n - 1)\n",
    "    printArray2(arr, n)"
   ]
  },
  {
   "cell_type": "code",
   "execution_count": 4,
   "id": "fd994ad8",
   "metadata": {},
   "outputs": [
    {
     "name": "stdout",
     "output_type": "stream",
     "text": [
      "The reversed array is:- \n",
      "1 2 3 4 5 \n"
     ]
    }
   ],
   "source": [
    "# Solution 4: Using library function (New Approach)\n",
    "\n",
    "def printArray4(arr, n):\n",
    "    print(\"The reversed array is:- \")\n",
    "    for i in range(n):\n",
    "        print(arr[i], end=\" \")\n",
    "    print()\n",
    "\n",
    "\n",
    "def reverseArray4(arr, n):\n",
    "    arr.reverse()\n",
    "\n",
    "\n",
    "# Driver Code\n",
    "if __name__ == \"__main__\":\n",
    "    arr = [5, 4, 3, 2, 1]\n",
    "    n = len(arr)\n",
    "    reverseArray4(arr, n)\n",
    "    printArray4(arr, n)\n"
   ]
  },
  {
   "cell_type": "markdown",
   "id": "123a8b51",
   "metadata": {},
   "source": [
    "# Check if the given String is Palindrome or not"
   ]
  },
  {
   "cell_type": "code",
   "execution_count": 6,
   "id": "007a1186",
   "metadata": {},
   "outputs": [
    {
     "name": "stdout",
     "output_type": "stream",
     "text": [
      "Enter the string:Race Car\n",
      "Yes , It is a palindrome\n"
     ]
    }
   ],
   "source": [
    "# method 1 : Reverse and Compare\n",
    "\n",
    "def ispalindrome1(s):\n",
    "    s = s.replace(\" \",\"\").lower()\n",
    "    \n",
    "    return s == s[::-1]\n",
    "\n",
    "if __name__ == \"__main__\":\n",
    "    string = input(\"Enter the string:\")\n",
    "    \n",
    "    if ispalindrome1(string):\n",
    "        print(\"Yes , It is a palindrome\")\n",
    "    else:\n",
    "        print(\"No , It is not palindrome\")\n",
    "        \n",
    "# Time Complexity : O(n)\n",
    "# Space Complexity : O(n)"
   ]
  },
  {
   "cell_type": "code",
   "execution_count": 1,
   "id": "6ecbdcd2",
   "metadata": {},
   "outputs": [
    {
     "name": "stdout",
     "output_type": "stream",
     "text": [
      "Enter the string:race car\n",
      "Yes , It is a palindrome\n"
     ]
    }
   ],
   "source": [
    "# Method 2 : Two-Pointer Approach\n",
    "\n",
    "def ispalindrome2(s):\n",
    "    s = s.lower().replace(\" \",\"\")\n",
    "    left = 0\n",
    "    right = len(s)-1\n",
    "    \n",
    "    while left < right:\n",
    "        if s[left] != s[right]:\n",
    "            return False\n",
    "        left += 1\n",
    "        right -= 1\n",
    "    return True \n",
    "            \n",
    "if __name__ == \"__main__\":\n",
    "    string = input(\"Enter the string:\")\n",
    "    \n",
    "    if ispalindrome2(string):\n",
    "        print(\"Yes , It is a palindrome\")\n",
    "    else:\n",
    "        print(\"No , It is not palindrome\")\n",
    "        \n",
    "# Time Complexity: O(n)\n",
    "# Space Complexity: O(1)"
   ]
  },
  {
   "cell_type": "code",
   "execution_count": 3,
   "id": "85763481",
   "metadata": {},
   "outputs": [
    {
     "name": "stdout",
     "output_type": "stream",
     "text": [
      "Enter the string:race car\n",
      "Yes , It is a palindrome\n"
     ]
    }
   ],
   "source": [
    "# method 3 : by using Recursion\n",
    "\n",
    "def ispalindrome3(s):\n",
    "    s = s.replace(\" \",\"\").lower()\n",
    "    if len(s) <= 1:\n",
    "        return True\n",
    "    if s[0] != s[-1]:\n",
    "        return False\n",
    "    return ispalindrome3(s[1:-1])\n",
    "\n",
    "if __name__ == \"__main__\":\n",
    "    string = input(\"Enter the string:\")\n",
    "    \n",
    "    if ispalindrome3(string):\n",
    "        print(\"Yes , It is a palindrome\")\n",
    "    else:\n",
    "        print(\"No , It is not palindrome\")\n",
    "        \n",
    "# Time Complexity: O(n)\n",
    "# Space Complexity: O(n)"
   ]
  },
  {
   "cell_type": "code",
   "execution_count": 4,
   "id": "06d21356",
   "metadata": {},
   "outputs": [
    {
     "name": "stdout",
     "output_type": "stream",
     "text": [
      "Enter the string:race car\n",
      "Yes , It is a palindrome\n"
     ]
    }
   ],
   "source": [
    "# Method 4 : Stack-Based Method\n",
    "\n",
    "def is_palindrome4(s):\n",
    "    s = s.lower().replace(\" \", \"\")\n",
    "    stack = []\n",
    "    n = len(s)\n",
    "    for i in range(n // 2):\n",
    "        stack.append(s[i])\n",
    "    start = n // 2 if n % 2 == 0 else n // 2 + 1\n",
    "    for i in range(start, n):\n",
    "        if s[i] != stack.pop():\n",
    "            return False\n",
    "    return True\n",
    "\n",
    "if __name__ == \"__main__\":\n",
    "    string = input(\"Enter the string:\")\n",
    "    \n",
    "    if is_palindrome4(string):\n",
    "        print(\"Yes , It is a palindrome\")\n",
    "    else:\n",
    "        print(\"No , It is not palindrome\")\n",
    "        \n",
    "# Time Complexity: O(n)\n",
    "# Space Complexity: O(n)"
   ]
  },
  {
   "cell_type": "markdown",
   "id": "3e88b9fc",
   "metadata": {},
   "source": [
    "# Fibonacci Series"
   ]
  },
  {
   "cell_type": "code",
   "execution_count": 6,
   "id": "23e846d4",
   "metadata": {},
   "outputs": [
    {
     "name": "stdout",
     "output_type": "stream",
     "text": [
      "0 1 1 2 3 5 8 13 21 34 "
     ]
    }
   ],
   "source": [
    "# Method 1: Iterative Approach (Loop)\n",
    "\n",
    "def fibonacci_iterative1(n):\n",
    "    a, b = 0, 1\n",
    "    for _ in range(n):\n",
    "        print(a, end=\" \")\n",
    "        a, b = b, a + b\n",
    "\n",
    "if __name__ == \"__main__\":\n",
    "    n = 10\n",
    "    fibonacci_iterative1(n)\n",
    "\n",
    "# Time Complexity: O(n)\n",
    "# Space Complexity: O(1)"
   ]
  },
  {
   "cell_type": "code",
   "execution_count": 7,
   "id": "9ca79eb7",
   "metadata": {},
   "outputs": [
    {
     "name": "stdout",
     "output_type": "stream",
     "text": [
      "0 1 1 2 3 5 8 13 21 34 "
     ]
    }
   ],
   "source": [
    "# Method 2 : Recursion (Naive)\n",
    "\n",
    "def fib_recursive2(n):\n",
    "    if n <= 1:\n",
    "        return n\n",
    "    return fib_recursive2(n-1) + fib_recursive2(n-2)\n",
    "\n",
    "if __name__ == \"__main__\":\n",
    "    n = 10\n",
    "    for i in range(n):\n",
    "        print(fib_recursive2(i), end=\" \")\n",
    "\n",
    "# Time Complexity: O(n^2)\n",
    "# Space Complexity: O(1)"
   ]
  },
  {
   "cell_type": "code",
   "execution_count": null,
   "id": "31752ff2",
   "metadata": {},
   "outputs": [],
   "source": []
  }
 ],
 "metadata": {
  "kernelspec": {
   "display_name": "Python 3 (ipykernel)",
   "language": "python",
   "name": "python3"
  },
  "language_info": {
   "codemirror_mode": {
    "name": "ipython",
    "version": 3
   },
   "file_extension": ".py",
   "mimetype": "text/x-python",
   "name": "python",
   "nbconvert_exporter": "python",
   "pygments_lexer": "ipython3",
   "version": "3.11.3"
  }
 },
 "nbformat": 4,
 "nbformat_minor": 5
}
