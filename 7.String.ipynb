{
 "cells": [
  {
   "cell_type": "markdown",
   "id": "c6470e21",
   "metadata": {},
   "source": [
    "# STRING"
   ]
  },
  {
   "cell_type": "markdown",
   "id": "56a7cebf",
   "metadata": {},
   "source": [
    "https://www.geeksforgeeks.org/python/python-string/"
   ]
  },
  {
   "cell_type": "raw",
   "id": "615c1414",
   "metadata": {},
   "source": [
    "A string in Python is a sequence of characters, used for representing text. They are an essential and widely used data type. In Python, strings are immutable, which means once a string is created, its value cannot be changed. This is a crucial concept."
   ]
  },
  {
   "cell_type": "markdown",
   "id": "52e7372a",
   "metadata": {},
   "source": [
    "# 1.Remove outermost Paranthesis"
   ]
  },
  {
   "cell_type": "code",
   "execution_count": 3,
   "id": "3a88656b",
   "metadata": {},
   "outputs": [
    {
     "data": {
      "text/plain": [
       "'()()()()(())'"
      ]
     },
     "execution_count": 3,
     "metadata": {},
     "output_type": "execute_result"
    }
   ],
   "source": [
    "def removeouter(paran):\n",
    "    result = \"\"\n",
    "    count = 0\n",
    "    \n",
    "    for ch in paran:\n",
    "        if ch == \"(\":\n",
    "            count += 1\n",
    "            if count > 1:\n",
    "                result += ch\n",
    "        else:\n",
    "            count -= 1\n",
    "            if count > 0:\n",
    "                result += ch\n",
    "            \n",
    "    return result\n",
    "\n",
    "paran = '(()())(())(()(()))'\n",
    "removeouter(paran)\n",
    "                "
   ]
  },
  {
   "cell_type": "markdown",
   "id": "38a66a76",
   "metadata": {},
   "source": [
    "# 2.Reverse Words in a String"
   ]
  },
  {
   "cell_type": "code",
   "execution_count": 4,
   "id": "4dd3408d",
   "metadata": {},
   "outputs": [
    {
     "data": {
      "text/plain": [
       "'program amazing an is this'"
      ]
     },
     "execution_count": 4,
     "metadata": {},
     "output_type": "execute_result"
    }
   ],
   "source": [
    "# Method 1: Split,reverse,join\n",
    "\n",
    "def rev_words(sen):\n",
    "    words = sen.split()\n",
    "    reversed_words = words[::-1]\n",
    "    reversed_string = \" \".join(reversed_words)\n",
    "    return reversed_string\n",
    "\n",
    "sen = \"this is an amazing program\"\n",
    "rev_words(sen)\n"
   ]
  },
  {
   "cell_type": "code",
   "execution_count": 5,
   "id": "37b61145",
   "metadata": {},
   "outputs": [
    {
     "name": "stdout",
     "output_type": "stream",
     "text": [
      "python from world hello\n"
     ]
    }
   ],
   "source": [
    "def reverse_words_manual(s):\n",
    "    reversed_words = []\n",
    "    current_word = \"\"\n",
    "    for char in s:\n",
    "        if char == ' ':\n",
    "            if current_word:\n",
    "                reversed_words.insert(0, current_word)\n",
    "                current_word = \"\"\n",
    "        else:\n",
    "            current_word += char\n",
    "    if current_word:\n",
    "        reversed_words.insert(0, current_word)\n",
    "\n",
    "    return ' '.join(reversed_words)\n",
    "\n",
    "# Example\n",
    "my_string = \"hello world from python\"\n",
    "reversed_string = reverse_words_manual(my_string)\n",
    "print(reversed_string)"
   ]
  },
  {
   "cell_type": "code",
   "execution_count": null,
   "id": "bda92ae5",
   "metadata": {},
   "outputs": [],
   "source": []
  }
 ],
 "metadata": {
  "kernelspec": {
   "display_name": "Python 3 (ipykernel)",
   "language": "python",
   "name": "python3"
  },
  "language_info": {
   "codemirror_mode": {
    "name": "ipython",
    "version": 3
   },
   "file_extension": ".py",
   "mimetype": "text/x-python",
   "name": "python",
   "nbconvert_exporter": "python",
   "pygments_lexer": "ipython3",
   "version": "3.11.3"
  }
 },
 "nbformat": 4,
 "nbformat_minor": 5
}
