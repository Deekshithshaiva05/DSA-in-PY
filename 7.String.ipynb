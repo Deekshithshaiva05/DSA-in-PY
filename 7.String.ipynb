{
 "cells": [
  {
   "cell_type": "markdown",
   "id": "c6470e21",
   "metadata": {},
   "source": [
    "# STRING"
   ]
  },
  {
   "cell_type": "markdown",
   "id": "56a7cebf",
   "metadata": {},
   "source": [
    "https://www.geeksforgeeks.org/python/python-string/"
   ]
  },
  {
   "cell_type": "raw",
   "id": "615c1414",
   "metadata": {},
   "source": [
    "A string in Python is a sequence of characters, used for representing text. They are an essential and widely used data type. In Python, strings are immutable, which means once a string is created, its value cannot be changed. This is a crucial concept."
   ]
  },
  {
   "cell_type": "markdown",
   "id": "52e7372a",
   "metadata": {},
   "source": [
    "# 1.Remove outermost Paranthesis"
   ]
  },
  {
   "cell_type": "code",
   "execution_count": 3,
   "id": "3a88656b",
   "metadata": {},
   "outputs": [
    {
     "data": {
      "text/plain": [
       "'()()()()(())'"
      ]
     },
     "execution_count": 3,
     "metadata": {},
     "output_type": "execute_result"
    }
   ],
   "source": [
    "def removeouter(paran):\n",
    "    result = \"\"\n",
    "    count = 0\n",
    "    \n",
    "    for ch in paran:\n",
    "        if ch == \"(\":\n",
    "            count += 1\n",
    "            if count > 1:\n",
    "                result += ch\n",
    "        else:\n",
    "            count -= 1\n",
    "            if count > 0:\n",
    "                result += ch\n",
    "            \n",
    "    return result\n",
    "\n",
    "paran = '(()())(())(()(()))'\n",
    "removeouter(paran)\n",
    "                "
   ]
  },
  {
   "cell_type": "markdown",
   "id": "38a66a76",
   "metadata": {},
   "source": [
    "# 2.Reverse Words in a String"
   ]
  },
  {
   "cell_type": "code",
   "execution_count": 4,
   "id": "4dd3408d",
   "metadata": {},
   "outputs": [
    {
     "data": {
      "text/plain": [
       "'program amazing an is this'"
      ]
     },
     "execution_count": 4,
     "metadata": {},
     "output_type": "execute_result"
    }
   ],
   "source": [
    "# Method 1: Split,reverse,join\n",
    "\n",
    "def rev_words(sen):\n",
    "    words = sen.split()\n",
    "    reversed_words = words[::-1]\n",
    "    reversed_string = \" \".join(reversed_words)\n",
    "    return reversed_string\n",
    "\n",
    "sen = \"this is an amazing program\"\n",
    "rev_words(sen)\n"
   ]
  },
  {
   "cell_type": "code",
   "execution_count": 5,
   "id": "37b61145",
   "metadata": {},
   "outputs": [
    {
     "name": "stdout",
     "output_type": "stream",
     "text": [
      "python from world hello\n"
     ]
    }
   ],
   "source": [
    "def reverse_words_manual(s):\n",
    "    reversed_words = []\n",
    "    current_word = \"\"\n",
    "    for char in s:\n",
    "        if char == ' ':\n",
    "            if current_word:\n",
    "                reversed_words.insert(0, current_word)\n",
    "                current_word = \"\"\n",
    "        else:\n",
    "            current_word += char\n",
    "    if current_word:\n",
    "        reversed_words.insert(0, current_word)\n",
    "\n",
    "    return ' '.join(reversed_words)\n",
    "\n",
    "# Example\n",
    "my_string = \"hello world from python\"\n",
    "reversed_string = reverse_words_manual(my_string)\n",
    "print(reversed_string)"
   ]
  },
  {
   "cell_type": "markdown",
   "id": "20094ca7",
   "metadata": {},
   "source": [
    "# Largest odd number in a string"
   ]
  },
  {
   "cell_type": "code",
   "execution_count": 2,
   "id": "6a259da3",
   "metadata": {},
   "outputs": [
    {
     "data": {
      "text/plain": [
       "'5'"
      ]
     },
     "execution_count": 2,
     "metadata": {},
     "output_type": "execute_result"
    }
   ],
   "source": [
    "def oddhighest(s):\n",
    "    for i in range(len(s)-1,-1,-1):\n",
    "        if int(s[i]) % 2:\n",
    "            return s[:i+1]\n",
    "    return \"\"\n",
    "    \n",
    "s = \"52\"\n",
    "oddhighest(s)"
   ]
  },
  {
   "cell_type": "code",
   "execution_count": 4,
   "id": "6106f082",
   "metadata": {},
   "outputs": [
    {
     "data": {
      "text/plain": [
       "'35427'"
      ]
     },
     "execution_count": 4,
     "metadata": {},
     "output_type": "execute_result"
    }
   ],
   "source": [
    "s1 = '354278'\n",
    "oddhighest(s1)"
   ]
  },
  {
   "cell_type": "markdown",
   "id": "a8403f40",
   "metadata": {},
   "source": [
    "# Longest Common Prefix"
   ]
  },
  {
   "cell_type": "code",
   "execution_count": 6,
   "id": "29f5ace0",
   "metadata": {},
   "outputs": [
    {
     "name": "stdout",
     "output_type": "stream",
     "text": [
      "fl\n"
     ]
    }
   ],
   "source": [
    "def longcompre(strs):\n",
    "    if not strs:\n",
    "        return \"\"\n",
    "    \n",
    "    # Find the minimum string length\n",
    "    min_length = min(len(s) for s in strs)\n",
    "    i = 0\n",
    "    \n",
    "    while i < min_length:\n",
    "        ch = strs[0][i]\n",
    "        for s in strs[1:]:\n",
    "            if s[i] != ch:\n",
    "                return strs[0][:i]\n",
    "        i += 1\n",
    "    return strs[0][:i]\n",
    "\n",
    "strs = [\"flower\",\"flow\",\"flight\"]\n",
    "print(longcompre(strs))  "
   ]
  },
  {
   "cell_type": "code",
   "execution_count": 7,
   "id": "c36f12b6",
   "metadata": {},
   "outputs": [
    {
     "data": {
      "text/plain": [
       "'fl'"
      ]
     },
     "execution_count": 7,
     "metadata": {},
     "output_type": "execute_result"
    }
   ],
   "source": [
    "def lcp_sort(strs):\n",
    "    if not strs:\n",
    "        return \"\"\n",
    "    a = sorted(strs)\n",
    "    first, last = a[0], a[-1]\n",
    "    i = 0\n",
    "    while i < min(len(first), len(last)) and first[i] == last[i]:\n",
    "        i += 1\n",
    "    return first[:i]\n",
    "\n",
    "strs = [\"flower\",\"flow\",\"flight\"]\n",
    "lcp_sort(strs)"
   ]
  },
  {
   "cell_type": "markdown",
   "id": "78fb3727",
   "metadata": {},
   "source": [
    "# Isomorphic String"
   ]
  },
  {
   "cell_type": "code",
   "execution_count": 10,
   "id": "f6fc6e87",
   "metadata": {},
   "outputs": [
    {
     "name": "stdout",
     "output_type": "stream",
     "text": [
      "True\n",
      "False\n",
      "True\n"
     ]
    }
   ],
   "source": [
    "def iso_str(s, t):\n",
    "    if len(s) != len(t):\n",
    "        return False\n",
    "    mapST = {}\n",
    "    mapTS = {}\n",
    "    for c1, c2 in zip(s, t):\n",
    "        if c1 in mapST and mapST[c1] != c2:\n",
    "            return False\n",
    "        if c2 in mapTS and mapTS[c2] != c1:\n",
    "            return False\n",
    "        mapST[c1] = c2\n",
    "        mapTS[c2] = c1\n",
    "    return True\n",
    "\n",
    "print(iso_str(\"egg\", \"add\"))   \n",
    "print(iso_str(\"foo\", \"bar\"))   \n",
    "print(iso_str(\"paper\", \"title\"))"
   ]
  },
  {
   "cell_type": "markdown",
   "id": "98f67579",
   "metadata": {},
   "source": [
    "# check whether one string is a rotation of another"
   ]
  },
  {
   "cell_type": "code",
   "execution_count": 11,
   "id": "08952e7c",
   "metadata": {},
   "outputs": [
    {
     "name": "stdout",
     "output_type": "stream",
     "text": [
      "True\n",
      "True\n",
      "False\n"
     ]
    }
   ],
   "source": [
    "def is_rotation(str1,str2):\n",
    "    if len(str1) != len(str2):\n",
    "        return False\n",
    "    temp = str1 + str1\n",
    "    \n",
    "    if str2 in temp:\n",
    "        return True\n",
    "    return False\n",
    "\n",
    "print(is_rotation(\"abcd\", \"dabc\")) \n",
    "print(is_rotation(\"waterbottle\", \"erbottlewat\")) \n",
    "print(is_rotation(\"abc\", \"acb\"))  \n"
   ]
  },
  {
   "cell_type": "markdown",
   "id": "d76f3fb5",
   "metadata": {},
   "source": [
    "# Check if two Strings are anagrams of each other"
   ]
  },
  {
   "cell_type": "code",
   "execution_count": 13,
   "id": "b1b31e26",
   "metadata": {},
   "outputs": [
    {
     "data": {
      "text/plain": [
       "True"
      ]
     },
     "execution_count": 13,
     "metadata": {},
     "output_type": "execute_result"
    }
   ],
   "source": [
    "from collections import Counter\n",
    "\n",
    "def anagrams(s: str, t: str) -> bool:\n",
    "    s_norm = ''.join(ch.lower() for ch in s if ch.isalpha())\n",
    "    t_norm = ''.join(ch.lower() for ch in t if ch.isalpha())\n",
    "    return Counter(s_norm) == Counter(t_norm)\n",
    "\n",
    "s = \"anagram\"\n",
    "t = \"nagaram\"\n",
    "anagrams(s,t)"
   ]
  },
  {
   "cell_type": "markdown",
   "id": "adcaad35",
   "metadata": {},
   "source": [
    "# Sort characters by frequency"
   ]
  },
  {
   "cell_type": "code",
   "execution_count": 4,
   "id": "b1576224",
   "metadata": {},
   "outputs": [
    {
     "name": "stdout",
     "output_type": "stream",
     "text": [
      "['e', 'r', 't']\n"
     ]
    }
   ],
   "source": [
    "class Solution:\n",
    "    def frequencySort(self, s):\n",
    "        \n",
    "        freq = [(0, chr(i + ord('a'))) for i in range(26)]\n",
    "\n",
    "        for ch in s:\n",
    "            index = ord(ch) - ord('a')\n",
    "            freq[index] = (freq[index][0] + 1, ch)\n",
    "\n",
    "        freq.sort(key=lambda x: (-x[0], x[1]))\n",
    "\n",
    "        result = [ch for f, ch in freq if f > 0]\n",
    "        return result\n",
    "\n",
    "if __name__ == \"__main__\":\n",
    "    sol = Solution()\n",
    "    s = \"tree\"\n",
    "    result = sol.frequencySort(s)\n",
    "    print(result)\n",
    "    \n",
    "    \n",
    "# Time Complexity: O(n + k log k)\n",
    "# Space Complexity: O(k)"
   ]
  },
  {
   "cell_type": "markdown",
   "id": "3ad95d5a",
   "metadata": {},
   "source": [
    "# Maximum Nesting Depth of Parenthesis"
   ]
  },
  {
   "cell_type": "code",
   "execution_count": 7,
   "id": "e36d185d",
   "metadata": {},
   "outputs": [
    {
     "data": {
      "text/plain": [
       "3"
      ]
     },
     "execution_count": 7,
     "metadata": {},
     "output_type": "execute_result"
    }
   ],
   "source": [
    "def maxdepth(s):\n",
    "    p = 0\n",
    "    ans = 0\n",
    "    for ch in s:\n",
    "        if ch == \"(\":\n",
    "            p += 1\n",
    "        elif ch == \")\":\n",
    "            p -= 1\n",
    "        ans = max(ans,p)\n",
    "    return ans\n",
    "\n",
    "s = \"(1+(2*3)+((8)/4))+1\"\n",
    "maxdepth(s)\n",
    "\n",
    "# Time complexity = O(n)\n",
    "# Space complexity = O(1)"
   ]
  },
  {
   "cell_type": "markdown",
   "id": "9229afcf",
   "metadata": {},
   "source": [
    "# Roman Numerals to Integer"
   ]
  },
  {
   "cell_type": "code",
   "execution_count": 10,
   "id": "05cd5b26",
   "metadata": {},
   "outputs": [
    {
     "data": {
      "text/plain": [
       "1994"
      ]
     },
     "execution_count": 10,
     "metadata": {},
     "output_type": "execute_result"
    }
   ],
   "source": [
    "def roman_to_integer(s):\n",
    "    roman = {\n",
    "            'I': 1, \n",
    "            'V': 5, \n",
    "            'X': 10,\n",
    "            'L': 50, \n",
    "            'C': 100, \n",
    "            'D': 500, \n",
    "            'M': 1000\n",
    "        }\n",
    "    \n",
    "    res = 0\n",
    "    \n",
    "    for i in range(len(s)-1):\n",
    "        if roman[s[i]] < roman[s[i+1]]:\n",
    "            res -= roman[s[i]]\n",
    "        else:\n",
    "            res += roman[s[i]]\n",
    "        \n",
    "    return res+roman[s[-1]]\n",
    "\n",
    "s = \"MCMXCIV\"  \n",
    "roman_to_integer(s)\n",
    "        "
   ]
  },
  {
   "cell_type": "markdown",
   "id": "1f2cfbdb",
   "metadata": {},
   "source": [
    "# Implement Atoi"
   ]
  },
  {
   "cell_type": "code",
   "execution_count": 3,
   "id": "5c732716",
   "metadata": {},
   "outputs": [
    {
     "data": {
      "text/plain": [
       "-137"
      ]
     },
     "execution_count": 3,
     "metadata": {},
     "output_type": "execute_result"
    }
   ],
   "source": [
    "def myAtoi(str):\n",
    "    s = str.strip() # this is used to remove the whitespace\n",
    "    \n",
    "    if not s:\n",
    "        return 0\n",
    "    \n",
    "    sign = 1\n",
    "    result = 0\n",
    "    \n",
    "    if s[0] == '-' or s[0] == '+':\n",
    "        if s[0] == '-':\n",
    "            sign = -1\n",
    "        s = s[1:]\n",
    "        \n",
    "    for char in s:\n",
    "        if not char.isdigit():\n",
    "            break\n",
    "        result = result * 10 + int(char) \n",
    "    result = result * sign\n",
    "\n",
    "    if result < -2**31:\n",
    "        return -2**31\n",
    "    elif result > 2**31 - 1:\n",
    "        return 2**31-1\n",
    "    \n",
    "    return result\n",
    "\n",
    "str = \"-137c0d3\"\n",
    "myAtoi(str)"
   ]
  },
  {
   "cell_type": "code",
   "execution_count": 4,
   "id": "a5aded6b",
   "metadata": {},
   "outputs": [
    {
     "name": "stdout",
     "output_type": "stream",
     "text": [
      "Converted integer: -42\n"
     ]
    }
   ],
   "source": [
    "class Solution:\n",
    "    def myAtoi(self, s: str) -> int:\n",
    "        # Initialize index, sign, and result\n",
    "        i = 0\n",
    "        sign = 1\n",
    "        res = 0\n",
    "\n",
    "        # Skip leading whitespaces\n",
    "        while i < len(s) and s[i] == ' ':\n",
    "            i += 1\n",
    "\n",
    "        # Return 0 if only spaces are found\n",
    "        if i == len(s):\n",
    "            return 0\n",
    "\n",
    "        # Check for optional '+' or '-' sign\n",
    "        if s[i] == '-':\n",
    "            sign = -1\n",
    "            i += 1\n",
    "        elif s[i] == '+':\n",
    "            i += 1\n",
    "\n",
    "        # Convert characters to integer while valid digits\n",
    "        while i < len(s) and s[i].isdigit():\n",
    "            res = res * 10 + int(s[i])\n",
    "\n",
    "            # Clamp to 32-bit signed integer range\n",
    "            if sign * res > 2**31 - 1:\n",
    "                return 2**31 - 1\n",
    "            if sign * res < -2**31:\n",
    "                return -2**31\n",
    "\n",
    "            i += 1\n",
    "\n",
    "        # Return final result after applying sign\n",
    "        return sign * res\n",
    "\n",
    "if __name__ == \"__main__\":\n",
    "    sol = Solution()\n",
    "    input_str = \"   -42\"\n",
    "    result = sol.myAtoi(input_str)\n",
    "    print(\"Converted integer:\", result)"
   ]
  },
  {
   "cell_type": "markdown",
   "id": "245e9d12",
   "metadata": {},
   "source": [
    "# Count Number of Substrings"
   ]
  },
  {
   "cell_type": "code",
   "execution_count": 10,
   "id": "2bf8dc3d",
   "metadata": {},
   "outputs": [
    {
     "name": "stdout",
     "output_type": "stream",
     "text": [
      "Count: 7\n"
     ]
    }
   ],
   "source": [
    "def at_most_k_distinct(s, k):\n",
    "    left, res = 0, 0\n",
    "    freq = {}\n",
    "\n",
    "    # Iterate with right pointer\n",
    "    for right in range(len(s)):\n",
    "        freq[s[right]] = freq.get(s[right], 0) + 1\n",
    "\n",
    "        # Shrink window if distinct characters exceed k\n",
    "        while len(freq) > k:\n",
    "            freq[s[left]] -= 1\n",
    "            if freq[s[left]] == 0:\n",
    "                del freq[s[left]]\n",
    "            left += 1\n",
    "\n",
    "        # Count substrings in current window\n",
    "        res += (right - left + 1)\n",
    "    return res\n",
    "\n",
    "# Function to count substrings with exactly k distinct characters\n",
    "def count_substrings(s, k):\n",
    "    return at_most_k_distinct(s, k) - at_most_k_distinct(s, k - 1)\n",
    "\n",
    "def main():\n",
    "    # Sample test\n",
    "    s = \"pqpqs\"\n",
    "    k = 2\n",
    "\n",
    "    # Output the result\n",
    "    print(\"Count:\", count_substrings(s, k))  # Output: 7\n",
    "\n",
    "if __name__ == \"__main__\":\n",
    "    main()"
   ]
  },
  {
   "cell_type": "markdown",
   "id": "eb271bbc",
   "metadata": {},
   "source": [
    "# Longest Palindromic Substring"
   ]
  },
  {
   "cell_type": "code",
   "execution_count": 2,
   "id": "5c02dcdb",
   "metadata": {},
   "outputs": [
    {
     "name": "stdout",
     "output_type": "stream",
     "text": [
      "bab\n"
     ]
    }
   ],
   "source": [
    "class Solution:\n",
    "    def longestPalindrome(self, s: str) -> str:\n",
    "        if not s:\n",
    "            return \"\"\n",
    "        start, end = 0, 0\n",
    "\n",
    "        def expandFromCenter(left: int, right: int) -> int:\n",
    "            while left >= 0 and right < len(s) and s[left] == s[right]:\n",
    "                left -= 1\n",
    "                right += 1\n",
    "            return right - left - 1  # length of palindrome\n",
    "\n",
    "        for center in range(len(s)):\n",
    "            # odd-length\n",
    "            len1 = expandFromCenter(center, center)\n",
    "            # even-length\n",
    "            len2 = expandFromCenter(center, center + 1)\n",
    "            max_len = max(len1, len2)\n",
    "            if max_len > end - start + 1:  # compare against current window length\n",
    "                start = center - (max_len - 1) // 2\n",
    "                end = center + max_len // 2\n",
    "\n",
    "        return s[start:end + 1]\n",
    "\n",
    "sol = Solution()\n",
    "s = \"babad\"\n",
    "print(sol.longestPalindrome(s))"
   ]
  },
  {
   "cell_type": "markdown",
   "id": "23d5b470",
   "metadata": {},
   "source": [
    "# Sum of Beauty of all substring"
   ]
  },
  {
   "cell_type": "markdown",
   "id": "2577aa14",
   "metadata": {},
   "source": [
    "https://takeuforward.org/data-structure/sum-of-beauty-of-all-substring"
   ]
  },
  {
   "cell_type": "code",
   "execution_count": 6,
   "id": "aa11b6ca",
   "metadata": {},
   "outputs": [
    {
     "data": {
      "text/plain": [
       "17"
      ]
     },
     "execution_count": 6,
     "metadata": {},
     "output_type": "execute_result"
    }
   ],
   "source": [
    "def beauty(s):\n",
    "    n = len(s)\n",
    "    total = 0\n",
    "    \n",
    "    for i in range(n):\n",
    "        freq = {}\n",
    "        for j in range(i,n):\n",
    "            freq[s[j]] = freq.get(s[j],0) + 1\n",
    "                                    \n",
    "            values = freq.values()\n",
    "            maxi = max(values)\n",
    "            mini = min(values)\n",
    "            \n",
    "            total += (maxi - mini)\n",
    "            \n",
    "    return total\n",
    "\n",
    "s1 = \"xyx\"\n",
    "s2 = \"aabcbaa\"\n",
    "beauty(s2)"
   ]
  },
  {
   "cell_type": "markdown",
   "id": "dc25fc25",
   "metadata": {},
   "source": [
    "# Reverse Every Word in A String"
   ]
  },
  {
   "cell_type": "markdown",
   "id": "069c6fa6",
   "metadata": {},
   "source": [
    "## Brute Force"
   ]
  },
  {
   "cell_type": "markdown",
   "id": "c575f930",
   "metadata": {},
   "source": [
    "https://takeuforward.org/data-structure/reverse-every-word-in-a-string"
   ]
  },
  {
   "cell_type": "code",
   "execution_count": 8,
   "id": "ac9f84d0",
   "metadata": {},
   "outputs": [
    {
     "data": {
      "text/plain": [
       "'skills coding amazing'"
      ]
     },
     "execution_count": 8,
     "metadata": {},
     "output_type": "execute_result"
    }
   ],
   "source": [
    "def reverseWords(s):\n",
    "    n = len(s)\n",
    "    words = []\n",
    "    start = end = 0\n",
    "    \n",
    "    i = 0\n",
    "    while i < n and s[i] == ' ':\n",
    "        i += 1\n",
    "        \n",
    "        if i >= n:\n",
    "            break\n",
    "        \n",
    "        start = i\n",
    "    \n",
    "        while i < n and s[i] != ' ':\n",
    "            i += 1\n",
    "        end = i - 1\n",
    "\n",
    "        wordFound = s[start:end + 1]\n",
    "        words.append(wordFound)\n",
    "    ans = \"\"\n",
    "    \n",
    "    for i in range(len(words) -1,-1,-1):\n",
    "        ans += words[i]\n",
    "        \n",
    "        if i != 0:\n",
    "            ans += ' '\n",
    "    return ans\n",
    "\n",
    "s =  \" amazing coding skills \"\n",
    "\n",
    "reverseWords(s)\n",
    "    "
   ]
  },
  {
   "cell_type": "markdown",
   "id": "ec8e4855",
   "metadata": {},
   "source": [
    "## Brute Force"
   ]
  },
  {
   "cell_type": "code",
   "execution_count": 9,
   "id": "7c677379",
   "metadata": {},
   "outputs": [
    {
     "name": "stdout",
     "output_type": "stream",
     "text": [
      "Input string:  amazing coding skills \n",
      "After reversing every word: skills coding amazing\n"
     ]
    }
   ],
   "source": [
    "class Solution:\n",
    "    def reverseString(self, s, start, end):\n",
    "        while start < end:\n",
    "            s[start], s[end] = s[end], s[start]\n",
    "            start += 1\n",
    "            end -= 1\n",
    "\n",
    "    def reverseWords(self, s: str) -> str:\n",
    "        n = len(s)\n",
    "\n",
    "        # Reverse the entire string\n",
    "        s = list(s)\n",
    "        self.reverseString(s, 0, n - 1)\n",
    "\n",
    "        i = 0\n",
    "        j = 0\n",
    "        start = 0\n",
    "        end = 0\n",
    "\n",
    "        while j < n:\n",
    "            while j < n and s[j] == ' ':\n",
    "                j += 1\n",
    "            if j == n:\n",
    "                break\n",
    "\n",
    "            start = i\n",
    "\n",
    "            # Copy the word characters forward\n",
    "            while j < n and s[j] != ' ':\n",
    "                s[i] = s[j]\n",
    "                i += 1\n",
    "                j += 1\n",
    "\n",
    "            end = i - 1\n",
    "\n",
    "            # Reverse the current word using start and end\n",
    "            self.reverseString(s, start, end)\n",
    "\n",
    "            # Add a space after the word if it's not the last word\n",
    "            if j < n:\n",
    "                s[i] = ' '\n",
    "                i += 1\n",
    "\n",
    "        if i > 0 and s[i - 1] == ' ':\n",
    "            i -= 1\n",
    "\n",
    "        return \"\".join(s[:i])\n",
    "\n",
    "\n",
    "if __name__ == \"__main__\":\n",
    "    s = \" amazing coding skills \"\n",
    "    sol = Solution()\n",
    "    ans = sol.reverseWords(s)\n",
    "    print(\"Input string:\", s)\n",
    "    print(\"After reversing every word:\", ans)"
   ]
  },
  {
   "cell_type": "code",
   "execution_count": null,
   "id": "ff8a6aa0",
   "metadata": {},
   "outputs": [],
   "source": []
  }
 ],
 "metadata": {
  "kernelspec": {
   "display_name": "Python 3 (ipykernel)",
   "language": "python",
   "name": "python3"
  },
  "language_info": {
   "codemirror_mode": {
    "name": "ipython",
    "version": 3
   },
   "file_extension": ".py",
   "mimetype": "text/x-python",
   "name": "python",
   "nbconvert_exporter": "python",
   "pygments_lexer": "ipython3",
   "version": "3.11.3"
  }
 },
 "nbformat": 4,
 "nbformat_minor": 5
}
