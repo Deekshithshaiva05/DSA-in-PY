{
 "cells": [
  {
   "cell_type": "markdown",
   "id": "b90c51f5",
   "metadata": {},
   "source": [
    "# ARRAY"
   ]
  },
  {
   "cell_type": "code",
   "execution_count": null,
   "id": "5c62be6b",
   "metadata": {},
   "outputs": [],
   "source": [
    "Definition of ARRAY ?\n",
    "\n",
    "--> https://www.youtube.com/watch?v=0OK-kbu9Cwo\n",
    "    \n",
    "--> More deatils on array i have written in the notes"
   ]
  },
  {
   "cell_type": "code",
   "execution_count": null,
   "id": "aa306e31",
   "metadata": {},
   "outputs": [],
   "source": []
  },
  {
   "cell_type": "code",
   "execution_count": null,
   "id": "f17570fb",
   "metadata": {},
   "outputs": [],
   "source": []
  },
  {
   "cell_type": "markdown",
   "id": "8d9ad387",
   "metadata": {},
   "source": [
    "# 1. Two Sum  --->  https://leetcode.com/problems/two-sum/description/\n",
    "\n",
    "#### solution --> https://www.youtube.com/watch?v=KLlXCFG5TnA"
   ]
  },
  {
   "cell_type": "code",
   "execution_count": 6,
   "id": "3fc1c252",
   "metadata": {},
   "outputs": [
    {
     "data": {
      "text/plain": [
       "[-3, 1]"
      ]
     },
     "execution_count": 6,
     "metadata": {},
     "output_type": "execute_result"
    }
   ],
   "source": [
    "def twoSum(arr, target):\n",
    "    n = len(arr)\n",
    "\n",
    "    for i in range(n):\n",
    "        for j in range(i + 1, n):\n",
    "            if arr[i] + arr[j] == target:\n",
    "                return [arr[i],arr[j]]\n",
    "    return -1\n",
    "\n",
    "if __name__ == \"__main__\":\n",
    "    arr = [0, -1, 2, -3, 1]\n",
    "    target = -2\n",
    "twoSum(arr, target)"
   ]
  },
  {
   "cell_type": "code",
   "execution_count": 20,
   "id": "25c50f54",
   "metadata": {},
   "outputs": [
    {
     "data": {
      "text/plain": [
       "[1, 2]"
      ]
     },
     "execution_count": 20,
     "metadata": {},
     "output_type": "execute_result"
    }
   ],
   "source": [
    "def two_sum(nums,target):\n",
    "    prevdict = {}\n",
    "    \n",
    "    for i,num in enumerate(nums):\n",
    "        diff = target - num\n",
    "        if diff in prevdict:\n",
    "            return [prevdict[diff],i]\n",
    "        prevdict[num] = i\n",
    "    return \n",
    "\n",
    "target = 9\n",
    "nums = [2,8,1,6,4,7,2]\n",
    "two_sum(nums,target)"
   ]
  },
  {
   "cell_type": "code",
   "execution_count": 19,
   "id": "26d189a2",
   "metadata": {},
   "outputs": [
    {
     "data": {
      "text/plain": [
       "[8, 1]"
      ]
     },
     "execution_count": 19,
     "metadata": {},
     "output_type": "execute_result"
    }
   ],
   "source": [
    "def two_sum(nums, target):\n",
    "    prevdict = {}\n",
    "    for i, num in enumerate(nums):\n",
    "        diff = target - num\n",
    "        if diff in prevdict:\n",
    "            return [nums[prevdict[diff]], num] \n",
    "        prevdict[num] = i\n",
    "    return None  \n",
    "\n",
    "target = 9\n",
    "nums = [2,8,1,6,4,3,2]\n",
    "two_sum(nums,target)"
   ]
  },
  {
   "cell_type": "code",
   "execution_count": 1,
   "id": "f4021c54",
   "metadata": {},
   "outputs": [
    {
     "name": "stdout",
     "output_type": "stream",
     "text": [
      "true\n"
     ]
    }
   ],
   "source": [
    "def twoSum(arr, target):\n",
    "    arr.sort()\n",
    "    left, right = 0, len(arr) - 1\n",
    "\n",
    "    while left < right:\n",
    "        sum = arr[left] + arr[right]\n",
    "        \n",
    "        if sum == target:\n",
    "            return True\n",
    "        \n",
    "        elif sum < target:\n",
    "            left += 1\n",
    "            \n",
    "        else:\n",
    "            right -= 1\n",
    "    return False\n",
    "\n",
    "if __name__ == \"__main__\":\n",
    "    arr = [0, -1, 2, -3, 1]\n",
    "    target = -2\n",
    "    if twoSum(arr, target):\n",
    "        print(\"true\")\n",
    "    else:\n",
    "        print(\"false\")"
   ]
  },
  {
   "cell_type": "markdown",
   "id": "09614099",
   "metadata": {},
   "source": [
    "# 2. Find the Largest element in an array"
   ]
  },
  {
   "cell_type": "code",
   "execution_count": 24,
   "id": "fcd4a228",
   "metadata": {},
   "outputs": [
    {
     "data": {
      "text/plain": [
       "8"
      ]
     },
     "execution_count": 24,
     "metadata": {},
     "output_type": "execute_result"
    }
   ],
   "source": [
    "# solution 01 --> Sorting\n",
    "\n",
    "def sol1_Larg(arr):\n",
    "    arr.sort()\n",
    "    return arr[-1]\n",
    "    \n",
    "arr = [2,8,3,1,7,4,8,3]\n",
    "sol1_Larg(arr)\n",
    "\n",
    "# Time Complexity: O(N*log(N))\n",
    "# Space Complexity: O(n)"
   ]
  },
  {
   "cell_type": "code",
   "execution_count": 28,
   "id": "698a7e5c",
   "metadata": {},
   "outputs": [
    {
     "data": {
      "text/plain": [
       "9"
      ]
     },
     "execution_count": 28,
     "metadata": {},
     "output_type": "execute_result"
    }
   ],
   "source": [
    "# Solution2: Using a max variable\n",
    "\n",
    "def sol2_Larg(arr):\n",
    "    maximum = 0\n",
    "    for i in arr:\n",
    "        if i > maximum:\n",
    "            maximum = i\n",
    "    return maximum\n",
    "    \n",
    "arr1 = [2,8,3,1,9,4,8,3]\n",
    "sol2_Larg(arr1)\n",
    "\n",
    "# Time Complexity: O(N)\n",
    "# Space Complexity: O(1)"
   ]
  },
  {
   "cell_type": "markdown",
   "id": "2af6b918",
   "metadata": {},
   "source": [
    "# 3.Find Second Smallest and Second Largest Element in an array"
   ]
  },
  {
   "cell_type": "code",
   "execution_count": 32,
   "id": "7b033b44",
   "metadata": {},
   "outputs": [
    {
     "name": "stdout",
     "output_type": "stream",
     "text": [
      "Second min 2 and second maximum 8\n"
     ]
    }
   ],
   "source": [
    "# Solution 01: (Brute Force) [this approach only works if there are no duplicates]\n",
    "\n",
    "def sec_small_large(arr,n):\n",
    "    if n == 0 or n == 1:\n",
    "        print(-1, -1)\n",
    "    arr.sort()\n",
    "    \n",
    "arr1 = [2,5,8,9,6,3,1]\n",
    "n = len(arr)\n",
    "sec_small_large(arr1,n)\n",
    "print(f\"Second min {arr[1]} and second maximum {arr[-2]}\")\n",
    "\n",
    "\n",
    "# Time Complexity: O(NlogN), For sorting the array\n",
    "# Space Complexity: O(1)"
   ]
  },
  {
   "cell_type": "code",
   "execution_count": 34,
   "id": "752f565c",
   "metadata": {},
   "outputs": [
    {
     "name": "stdout",
     "output_type": "stream",
     "text": [
      "Second smallest is 2\n",
      "Second largest is 6\n"
     ]
    }
   ],
   "source": [
    "# Solution 2(Better Solution)\n",
    "\n",
    "def getElements(arr, n):\n",
    "    if n == 0 or n == 1:\n",
    "        print(-1, -1)\n",
    "        \n",
    "    small = float('inf')\n",
    "    second_small = float('inf')\n",
    "    large = float('-inf')\n",
    "    second_large = float('-inf')\n",
    "    \n",
    "    for i in range(n):\n",
    "        small = min(small, arr[i])\n",
    "        large = max(large, arr[i])\n",
    "        \n",
    "    for i in range(n):\n",
    "        if arr[i] < second_small and arr[i] != small:\n",
    "            second_small = arr[i]\n",
    "        if arr[i] > second_large and arr[i] != large:\n",
    "            second_large = arr[i]\n",
    "            \n",
    "            \n",
    "    print(\"Second smallest is\", second_small)\n",
    "    print(\"Second largest is\", second_large)\n",
    "\n",
    "\n",
    "\n",
    "\n",
    "if __name__ == '__main__':\n",
    "    arr = [1, 2, 4, 6, 7, 5]\n",
    "    n = len(arr)\n",
    "    getElements(arr, n)\n",
    "    \n",
    "# Time Complexity: O(N), We do two linear traversals in our array\n",
    "# Space Complexity: O(1)"
   ]
  },
  {
   "cell_type": "code",
   "execution_count": 49,
   "id": "9dc95ee0",
   "metadata": {},
   "outputs": [
    {
     "name": "stdout",
     "output_type": "stream",
     "text": [
      "large :  9\n",
      "second_large: 7\n",
      "small : 1\n",
      "second_small : 2\n"
     ]
    }
   ],
   "source": [
    "# Solution 3(Best Solution)\n",
    "\n",
    "def Second_Large_Small(nums):\n",
    "    \n",
    "    small = float(\"inf\")\n",
    "    second_small = float('inf')\n",
    "    large = float('-inf')\n",
    "    second_large = float('-inf')\n",
    "    \n",
    "    for num in nums:\n",
    "        # lets first for the largest\n",
    "        if num > large:\n",
    "            second_large = large\n",
    "            large = num\n",
    "        elif num > second_large and num != large:\n",
    "            second_large = num\n",
    "    print(\"large : \",large)\n",
    "    print(\"second_large:\",second_large)\n",
    "\n",
    "    for num in nums:\n",
    "        # This is for small\n",
    "        if num < small:\n",
    "            second_small = small\n",
    "            small = num\n",
    "        elif num < second_small and num != small:\n",
    "            second_small = num\n",
    "    print(\"small :\",small)\n",
    "    print(\"second_small :\",second_small)\n",
    "    \n",
    "\n",
    "nums = [9,3,2,5,4,1,7,3,7,5,2]\n",
    "Second_Large_Small(nums)\n",
    "\n",
    "# Time Complexity: O(N), Single-pass solution\n",
    "# Space Complexity: O(1)"
   ]
  },
  {
   "cell_type": "markdown",
   "id": "82ecc4ed",
   "metadata": {},
   "source": [
    "# 4.Check if an Array is Sorted"
   ]
  },
  {
   "cell_type": "code",
   "execution_count": 52,
   "id": "a19dde44",
   "metadata": {},
   "outputs": [
    {
     "data": {
      "text/plain": [
       "False"
      ]
     },
     "execution_count": 52,
     "metadata": {},
     "output_type": "execute_result"
    }
   ],
   "source": [
    "# Approach 01: Brute Force\n",
    "\n",
    "def is_array_sorted(arr):\n",
    "    n = len(arr)\n",
    "    for i in range(n):\n",
    "        for j in range(i+1,n):\n",
    "            if arr[j] < arr[i]:\n",
    "                return False\n",
    "    return True\n",
    "\n",
    "arr1 = [4,3,6,7,9,1,6,8]\n",
    "arr2 = [1,4,7,9,10]\n",
    "is_array_sorted(arr1)\n",
    "#is_array_sorted(arr2)\n",
    "\n",
    "# Time Complexity: O(N^2)\n",
    "# Space Complexity: O(1)"
   ]
  },
  {
   "cell_type": "code",
   "execution_count": 53,
   "id": "c486939f",
   "metadata": {},
   "outputs": [
    {
     "data": {
      "text/plain": [
       "True"
      ]
     },
     "execution_count": 53,
     "metadata": {},
     "output_type": "execute_result"
    }
   ],
   "source": [
    "# Approach 02: Efficient (Single traversal)\n",
    "\n",
    "def is_arr_sort(arr):\n",
    "    n = len(arr)\n",
    "    for i in range(1,n):\n",
    "        if arr[i] < arr[i-1]:\n",
    "            return False\n",
    "    return True\n",
    "\n",
    "arr3 = [2,4,5,7,9]\n",
    "is_arr_sort(arr3)"
   ]
  },
  {
   "cell_type": "code",
   "execution_count": 57,
   "id": "2b8581f1",
   "metadata": {},
   "outputs": [
    {
     "data": {
      "text/plain": [
       "True"
      ]
     },
     "execution_count": 57,
     "metadata": {},
     "output_type": "execute_result"
    }
   ],
   "source": [
    "# Approach 02: Efficient (Single traversal)\n",
    "\n",
    "def is_arr_sort(arr):\n",
    "    n = len(arr)\n",
    "    for i in range(1,n):\n",
    "        if arr[i] < arr[i-1]:\n",
    "            return False\n",
    "    return True\n",
    "\n",
    "arr3 = [2,4,5,7,9]\n",
    "is_arr_sort(arr3)\n",
    "\n",
    "# Time Complexity: O(N)\n",
    "# Space Complexity: O(1)"
   ]
  },
  {
   "cell_type": "markdown",
   "id": "02959967",
   "metadata": {},
   "source": [
    "# 5.Remove Duplicates in-place from Sorted Array"
   ]
  },
  {
   "cell_type": "code",
   "execution_count": 68,
   "id": "3d137c48",
   "metadata": {},
   "outputs": [
    {
     "name": "stdout",
     "output_type": "stream",
     "text": [
      "The array after removing duplicate elements is \n",
      "1 4 6 7 "
     ]
    }
   ],
   "source": [
    "# Solution 1: Brute Force\n",
    "\n",
    "def remove_duplicate(arr):\n",
    "    st = set()\n",
    "    for i in range(len(arr)):\n",
    "        st.add(arr[i])\n",
    "        \n",
    "    k = len(st)\n",
    "    j = 0\n",
    "    for x in st:\n",
    "        arr[j] = x\n",
    "        j += 1\n",
    "    print(\"The array after removing duplicate elements is \")\n",
    "    for i in range(k):\n",
    "        print(arr[i], end=\" \")\n",
    "\n",
    "arr = [1,4,6,6,7,1,4]\n",
    "remove_duplicate(arr)\n",
    "\n",
    "# Time complexity: O(n*log(n))+O(n)\n",
    "# Space Complexity: O(n) "
   ]
  },
  {
   "cell_type": "code",
   "execution_count": 72,
   "id": "82f49c9a",
   "metadata": {},
   "outputs": [
    {
     "name": "stdout",
     "output_type": "stream",
     "text": [
      "The array after removing duplicate elements is \n",
      "1 2 3 "
     ]
    }
   ],
   "source": [
    "# Solution 2: Two pointers\n",
    "''' This is consider only for the sorted array'''\n",
    "\n",
    "def removeDuplicates(arr):\n",
    "    i = 0\n",
    "    for j in range(1, len(arr)):\n",
    "        if arr[i] != arr[j]:\n",
    "            i += 1\n",
    "            arr[i] = arr[j]\n",
    "    return i + 1\n",
    "\n",
    "\n",
    "if __name__ == \"__main__\":\n",
    "    arr = [1, 1, 2, 2, 2, 3, 3]\n",
    "    k = removeDuplicates(arr)\n",
    "    print(\"The array after removing duplicate elements is \")\n",
    "    for i in range(k):\n",
    "        print(arr[i], end=\" \")\n"
   ]
  },
  {
   "cell_type": "markdown",
   "id": "57c57d03",
   "metadata": {},
   "source": [
    "# 6.Indexes of Subarray Sum"
   ]
  },
  {
   "cell_type": "code",
   "execution_count": 1,
   "id": "7674804a",
   "metadata": {},
   "outputs": [
    {
     "name": "stdout",
     "output_type": "stream",
     "text": [
      "[2, 4]\n",
      "[1, 5]\n",
      "[-1]\n"
     ]
    }
   ],
   "source": [
    "# User function Template for python3\n",
    "class Solution:\n",
    "    def subarraySum(self, arr, target):\n",
    "        prefixsum = {0: 0} \n",
    "        curr_sum = 0\n",
    "        \n",
    "        for i, a in enumerate(arr):\n",
    "            curr_sum += a\n",
    "            target_sum = curr_sum - target\n",
    "            \n",
    "            if target_sum in prefixsum:\n",
    "                return [prefixsum[target_sum] + 1, i + 1]\n",
    "                \n",
    "            if curr_sum not in prefixsum:\n",
    "                prefixsum[curr_sum] = i + 1\n",
    "                \n",
    "        return [-1]\n",
    "\n",
    "sol = Solution()\n",
    "print(sol.subarraySum([1, 2, 3, 7, 5], 12))           # Output: [2, 4]\n",
    "print(sol.subarraySum([1, 2, 3, 4, 5, 6, 7, 8, 9, 10], 15))  # Output: [1, 5]\n",
    "print(sol.subarraySum([5, 3, 4], 2))  "
   ]
  },
  {
   "cell_type": "markdown",
   "id": "4f65dc79",
   "metadata": {},
   "source": [
    "# 7.Missing in Array"
   ]
  },
  {
   "cell_type": "markdown",
   "id": "c49ad081",
   "metadata": {},
   "source": [
    "* https://www.youtube.com/watch?v=bYWLJb3vCWY\n",
    "* http://geeksforgeeks.org/problems/missing-number-in-array1416/1?page=1&sortBy=submissions"
   ]
  },
  {
   "cell_type": "code",
   "execution_count": 2,
   "id": "e33cabd8",
   "metadata": {},
   "outputs": [
    {
     "name": "stdout",
     "output_type": "stream",
     "text": [
      "6\n"
     ]
    }
   ],
   "source": [
    "class Solution:\n",
    "    def missingNum(self, arr):\n",
    "        n = len(arr) + 1\n",
    "        total = n * (n + 1) // 2\n",
    "        return total - sum(arr)\n",
    "\n",
    "sol = Solution()\n",
    "print(sol.missingNum([8, 2, 4, 5, 3, 7, 1]))\n"
   ]
  },
  {
   "cell_type": "code",
   "execution_count": null,
   "id": "0732826f",
   "metadata": {},
   "outputs": [],
   "source": []
  },
  {
   "cell_type": "code",
   "execution_count": 8,
   "id": "db73ef8e",
   "metadata": {},
   "outputs": [
    {
     "data": {
      "text/plain": [
       "3"
      ]
     },
     "execution_count": 8,
     "metadata": {},
     "output_type": "execute_result"
    }
   ],
   "source": [
    "def consecutive_ones(arr):\n",
    "    maxi = 0\n",
    "    count = 0\n",
    "    for i in range(1,len(arr)):\n",
    "        if arr[i] == 1:\n",
    "            count += 1\n",
    "            maxi = max(maxi,count)\n",
    "        else:\n",
    "            count = 0\n",
    "    return maxi\n",
    "\n",
    "arr = [0, 1, 1, 0, 1, 1, 1]\n",
    "consecutive_ones(arr)"
   ]
  },
  {
   "cell_type": "markdown",
   "id": "1153e9bd",
   "metadata": {},
   "source": [
    "# 9.Max Consecutive Bit"
   ]
  },
  {
   "cell_type": "markdown",
   "id": "6cdd1b90",
   "metadata": {},
   "source": [
    "* https://www.geeksforgeeks.org/problems/max-consecutive-one/1\n",
    "* https://www.geeksforgeeks.org/dsa/maximum-consecutive-ones-or-zeros-in-a-binary-array/"
   ]
  },
  {
   "cell_type": "code",
   "execution_count": 10,
   "id": "daa41f1b",
   "metadata": {},
   "outputs": [
    {
     "data": {
      "text/plain": [
       "4"
      ]
     },
     "execution_count": 10,
     "metadata": {},
     "output_type": "execute_result"
    }
   ],
   "source": [
    "# [Approach - 1] Using Simple Traversal - O(n) Time and O(1) Space\n",
    "\n",
    "def consecutive_bit(arr):\n",
    "    max1 = 0\n",
    "    count = 0\n",
    "    for i in range(len(arr)):\n",
    "        if arr[i] == arr[i-1]:\n",
    "            count += 1\n",
    "            max1 = max(max1,count)\n",
    "            \n",
    "        else:\n",
    "            count = 1\n",
    "    return max1\n",
    "\n",
    "arr = [0, 1,0, 0, 0, 0, 1]\n",
    "consecutive_bit(arr)"
   ]
  },
  {
   "cell_type": "code",
   "execution_count": 17,
   "id": "adbef3d7",
   "metadata": {},
   "outputs": [
    {
     "data": {
      "text/plain": [
       "4"
      ]
     },
     "execution_count": 17,
     "metadata": {},
     "output_type": "execute_result"
    }
   ],
   "source": [
    "# [Approach - 2] Using Bit Manipulation - O(n) Time and O(1) Space\n",
    "\n",
    "def maxConsecBits(arr):\n",
    "    maxi, count, prev = 0, 0, -1\n",
    "\n",
    "    for i in arr:\n",
    "        if prev ^ i == 0:\n",
    "            count += 1\n",
    "            maxi = max(maxi,count)\n",
    "        else:\n",
    "            count = 1\n",
    "        prev = i\n",
    "    return maxi\n",
    "            \n",
    "            \n",
    "arr = [0, 1,0, 0, 0, 0, 1]\n",
    "maxConsecBits(arr)       "
   ]
  },
  {
   "cell_type": "markdown",
   "id": "198cc923",
   "metadata": {},
   "source": [
    "# 10.Left Rotate the Array by One"
   ]
  },
  {
   "cell_type": "markdown",
   "id": "0f4f2034",
   "metadata": {},
   "source": [
    "* https://takeuforward.org/data-structure/left-rotate-the-array-by-one/\n",
    "* "
   ]
  },
  {
   "cell_type": "code",
   "execution_count": 20,
   "id": "8138fbdc",
   "metadata": {},
   "outputs": [
    {
     "name": "stdout",
     "output_type": "stream",
     "text": [
      "2 3 4 5 1 \n"
     ]
    }
   ],
   "source": [
    "# Solution 1: Brute force Approach\n",
    "\n",
    "def solve(arr, n):\n",
    "    temp = [0] * n\n",
    "    for i in range(1, n):\n",
    "        temp[i - 1] = arr[i]\n",
    "    temp[n - 1] = arr[0]\n",
    "    for i in range(n):\n",
    "        print(temp[i], end=\" \")\n",
    "    print()\n",
    "\n",
    "n = 5\n",
    "arr = [1, 2, 3, 4, 5]\n",
    "solve(arr, n)"
   ]
  },
  {
   "cell_type": "code",
   "execution_count": 22,
   "id": "3bd4e485",
   "metadata": {},
   "outputs": [
    {
     "name": "stdout",
     "output_type": "stream",
     "text": [
      "2 3 4 5 1 "
     ]
    }
   ],
   "source": [
    "# Solution 2:\n",
    "\n",
    "def optimal_solve(arr):\n",
    "    temp = arr[0]\n",
    "    for i in range(len(arr)-1):\n",
    "        arr[i] = arr[i+1]\n",
    "    arr[n-1] = temp\n",
    "    for i in range(len(arr)):\n",
    "        print(arr[i],end=\" \")\n",
    "   \n",
    "arr1 = [1, 2, 3, 4, 5]\n",
    "optimal_solve(arr1)"
   ]
  },
  {
   "cell_type": "markdown",
   "id": "8d18546f",
   "metadata": {},
   "source": [
    "# 11.Rotate array by K elements"
   ]
  },
  {
   "cell_type": "code",
   "execution_count": 27,
   "id": "e47d93a2",
   "metadata": {},
   "outputs": [
    {
     "name": "stdout",
     "output_type": "stream",
     "text": [
      "[6, 7, 1, 2, 3, 4, 5]\n"
     ]
    }
   ],
   "source": [
    "# Solution 01 : Brute force Approach\n",
    "\n",
    "def rotate_to_right(arr, k):\n",
    "    n = len(arr)\n",
    "    if n == 0:\n",
    "        return\n",
    "    k %= n\n",
    "    if k == 0:\n",
    "        return\n",
    "\n",
    "    temp = arr[-k:] \n",
    "\n",
    "    for i in range(n - k - 1, -1, -1):\n",
    "        arr[i + k] = arr[i]\n",
    "\n",
    "    arr[:k] = temp\n",
    "    \n",
    "    \n",
    "arr = [1,2,3,4,5,6,7]\n",
    "rotate_to_right(arr, 2)\n",
    "print(arr)  # [6, 7, 1, 2, 3, 4, 5]\n"
   ]
  },
  {
   "cell_type": "code",
   "execution_count": 32,
   "id": "1ebef7df",
   "metadata": {},
   "outputs": [
    {
     "name": "stdout",
     "output_type": "stream",
     "text": [
      "[3, 4, 5, 6, 7, 1, 2]\n"
     ]
    }
   ],
   "source": [
    "def rotate_to_left(arr,k):\n",
    "    n = len(arr)\n",
    "    if n == 0:\n",
    "        return\n",
    "    k = k % n\n",
    "    if k == 0:\n",
    "        return\n",
    "    temp = arr[:k]\n",
    "    for i in range(n-k):\n",
    "        arr[i] = arr[i+k]\n",
    "    arr[n-k:] = temp\n",
    "    \n",
    "arr = [1,2,3,4,5,6,7]\n",
    "rotate_to_left(arr, 2)\n",
    "print(arr)  "
   ]
  },
  {
   "cell_type": "code",
   "execution_count": 40,
   "id": "2060560c",
   "metadata": {},
   "outputs": [
    {
     "name": "stdout",
     "output_type": "stream",
     "text": [
      "[5, 6, 7, 1, 2, 3, 4]\n"
     ]
    }
   ],
   "source": [
    "# solution 02 : optimal solution using reverse fumction\n",
    "\n",
    "def rotate_right(nums, k):\n",
    "    n = len(nums)\n",
    "    if n == 0:\n",
    "        return\n",
    "    k %= n\n",
    "    if k == 0:\n",
    "        return\n",
    "\n",
    "    def rev(a, l, r):\n",
    "        while l < r:\n",
    "            a[l], a[r] = a[r], a[l]\n",
    "            l += 1; r -= 1\n",
    "\n",
    "    # Reverse whole array, then first k, then remaining n-k\n",
    "    rev(nums, 0, n - 1)\n",
    "    rev(nums, 0, k - 1)\n",
    "    rev(nums, k, n - 1)\n",
    "\n",
    "   \n",
    "nums = [1,2,3,4,5,6,7]\n",
    "rotate_right(nums,3)\n",
    "print(nums)"
   ]
  },
  {
   "cell_type": "code",
   "execution_count": 42,
   "id": "2fc40a1c",
   "metadata": {},
   "outputs": [
    {
     "name": "stdout",
     "output_type": "stream",
     "text": [
      "[4, 5, 6, 7, 1, 2, 3]\n"
     ]
    }
   ],
   "source": [
    "def r_to_l(nums,k):\n",
    "    \n",
    "    n = len(arr)\n",
    "    if n == 0:\n",
    "        return\n",
    "    k = k % n\n",
    "    if k == 0:\n",
    "        return\n",
    "    \n",
    "    def rev(a,l,r):\n",
    "        while l < r:\n",
    "            arr[l] , arr[r] = arr[r] , arr[l]\n",
    "            l += 1;r -= 1\n",
    "       \n",
    "    # Reverse first k, reverse last n-k, then reverse whole array\n",
    "    rev(nums,0,k-1)\n",
    "    rev(nums,k,n-1)\n",
    "    rev(nums,0,n-1)\n",
    "   \n",
    "nums = [1,2,3,4,5,6,7]\n",
    "r_to_l(nums,3)\n",
    "print(arr)"
   ]
  },
  {
   "cell_type": "markdown",
   "id": "9be5b7f3",
   "metadata": {},
   "source": [
    "# 12.Move all Zeros to the end of the array"
   ]
  },
  {
   "cell_type": "code",
   "execution_count": null,
   "id": "6a334f3e",
   "metadata": {},
   "outputs": [],
   "source": [
    "* https://takeuforward.org/data-structure/move-all-zeros-to-the-end-of-the-array/\n",
    "* "
   ]
  },
  {
   "cell_type": "code",
   "execution_count": 6,
   "id": "f02a96c8",
   "metadata": {},
   "outputs": [
    {
     "name": "stdout",
     "output_type": "stream",
     "text": [
      "1 2 3 2 4 5 1 0 0 0 \n"
     ]
    }
   ],
   "source": [
    "# Solution :01 --> Brute Force Approach\n",
    "\n",
    "def move_zero_end(arr):\n",
    "    # macha first declare an empty array\n",
    "    temp = []\n",
    "    n = len(arr)\n",
    "    # Then if i element is != 0 append to new temp array\n",
    "    for i in range(n):\n",
    "        if arr[i] != 0:\n",
    "            temp.append(arr[i])\n",
    "            \n",
    "    nz = len(temp)\n",
    "    # now copy that temp array into original array\n",
    "    for i in range(nz):\n",
    "        arr[i] = temp[i]\n",
    "    #Then for rimaining space fill array 0\n",
    "    for i in range(nz,n):\n",
    "        arr[i] = 0\n",
    "        \n",
    "    return arr\n",
    "\n",
    "if __name__ == \"__main__\":\n",
    "    arr = [1, 0, 2, 3, 2, 0, 0, 4, 5, 1]\n",
    "    ans = move_zero_end(arr)\n",
    "    for it in ans:\n",
    "        print(it,end=\" \")\n",
    "    print()\n",
    "    \n",
    "#  Time Complexity: O(N) + O(X) + O(N-X) ~ O(2*N)\n",
    "#  Space Complexity: O(N)"
   ]
  },
  {
   "cell_type": "code",
   "execution_count": 10,
   "id": "3bea4d03",
   "metadata": {},
   "outputs": [
    {
     "name": "stdout",
     "output_type": "stream",
     "text": [
      "1 2 3 2 4 5 1 0 0 0 \n"
     ]
    }
   ],
   "source": [
    "# Solution 2: Optimal approach using the two pointer\n",
    "\n",
    "# Move all zeros to the end; stable, in-place, O(n) time, O(1) space\n",
    "def move_zero_end(a):\n",
    "    n = len(a)\n",
    "\n",
    "    # find first zero index j\n",
    "    j = -1\n",
    "    for i in range(n):\n",
    "        if a[i] == 0:\n",
    "            j = i\n",
    "            break\n",
    "\n",
    "    # no zeros found -> already done\n",
    "    if j == -1:\n",
    "        return a\n",
    "\n",
    "    # sweep i from j+1; when non-zero, swap with position j and advance j\n",
    "    for i in range(j + 1, n):\n",
    "        if a[i] != 0:\n",
    "            a[i], a[j] = a[j], a[i]\n",
    "            j += 1\n",
    "    return a\n",
    "\n",
    "if __name__ == \"__main__\":\n",
    "    a = [1, 0, 2, 3, 2, 0, 0, 4, 5, 1]\n",
    "    an = move_zero_end(a)\n",
    "    for it in an:\n",
    "        print(it, end=\" \")\n",
    "    print()\n"
   ]
  },
  {
   "cell_type": "code",
   "execution_count": 11,
   "id": "6f5e5bc3",
   "metadata": {},
   "outputs": [
    {
     "name": "stdout",
     "output_type": "stream",
     "text": [
      "1 2 3 2 4 5 1 0 0 0 \n"
     ]
    }
   ],
   "source": [
    "def move_zeroes(a):\n",
    "    k = 0\n",
    "    for i, x in enumerate(a):\n",
    "        if x != 0:\n",
    "            a[k], a[i] = a[i], a[k]\n",
    "            k += 1\n",
    "    return a\n",
    "\n",
    "if __name__ == \"__main__\":\n",
    "    a = [1, 0, 2, 3, 2, 0, 0, 4, 5, 1]\n",
    "    an = move_zeroes(a)\n",
    "    for it in an:\n",
    "        print(it, end=\" \")\n",
    "    print()"
   ]
  },
  {
   "cell_type": "code",
   "execution_count": 12,
   "id": "53b268d6",
   "metadata": {},
   "outputs": [
    {
     "name": "stdout",
     "output_type": "stream",
     "text": [
      "1 2 4 3 5 0 0 0 "
     ]
    }
   ],
   "source": [
    "def pushZerosToEnd(arr):\n",
    "    \n",
    "    count = 0\n",
    "    \n",
    "    for i in range(len(arr)):\n",
    "        if arr[i] != 0:\n",
    "            arr[i], arr[count] = arr[count], arr[i]\n",
    "            count += 1\n",
    "\n",
    "if __name__ == \"__main__\":\n",
    "    arr = [1, 2, 0, 4, 3, 0, 5, 0]\n",
    "    pushZerosToEnd(arr)\n",
    "    for num in arr:\n",
    "        print(num, end=\" \")"
   ]
  },
  {
   "cell_type": "markdown",
   "id": "691fa09e",
   "metadata": {},
   "source": [
    "# 13.Linear Search"
   ]
  },
  {
   "cell_type": "code",
   "execution_count": 19,
   "id": "5c68408e",
   "metadata": {},
   "outputs": [
    {
     "data": {
      "text/plain": [
       "8"
      ]
     },
     "execution_count": 19,
     "metadata": {},
     "output_type": "execute_result"
    }
   ],
   "source": [
    "def ls(arr,target):\n",
    "    for i in arr:\n",
    "        if i == target:\n",
    "            return i\n",
    "    return -1\n",
    "    \n",
    "arr = [1, 2, 8, 4, 3, 0, 5, 0]\n",
    "ls(arr,8)"
   ]
  },
  {
   "cell_type": "markdown",
   "id": "1d856210",
   "metadata": {},
   "source": [
    "# 14.Union of Two Sorted Arrays"
   ]
  },
  {
   "cell_type": "code",
   "execution_count": 2,
   "id": "71008ce5",
   "metadata": {},
   "outputs": [
    {
     "name": "stdout",
     "output_type": "stream",
     "text": [
      "Union of arr1 and arr2 is:\n",
      "1 2 3 4 5 6 7 8 9 10 11 12 "
     ]
    }
   ],
   "source": [
    "# Solution 1: Using Map\n",
    "\n",
    "def find_union(arr1, arr2):\n",
    "    freq = {}\n",
    "    union = []\n",
    "    \n",
    "    for num in arr1:\n",
    "        freq[num] = freq.get(num, 0) + 1\n",
    "    \n",
    "    for num in arr2:\n",
    "        freq[num] = freq.get(num, 0) + 1\n",
    "    \n",
    "    for num in freq:\n",
    "        union.append(num)\n",
    "    \n",
    "    return union\n",
    "\n",
    "arr1 = [1, 2, 3, 4, 5, 6, 7, 8, 9, 10]\n",
    "arr2 = [2, 3, 4, 4, 5, 11, 12]\n",
    "\n",
    "union = find_union(arr1, arr2)\n",
    "\n",
    "print(\"Union of arr1 and arr2 is:\")\n",
    "for num in union:\n",
    "    print(num, end=\" \")\n",
    "    \n",
    "# Time Compleixty : O( (m+n)log(m+n) )\n",
    "# Space Complexity : O(m+n)"
   ]
  },
  {
   "cell_type": "code",
   "execution_count": 3,
   "id": "9c144836",
   "metadata": {},
   "outputs": [
    {
     "name": "stdout",
     "output_type": "stream",
     "text": [
      "Union of arr1 and arr2 is:\n",
      "1 2 3 4 5 6 7 8 9 10 11 12\n"
     ]
    }
   ],
   "source": [
    "# Solution 2: Using set\n",
    "\n",
    "def find_union(arr1, arr2):\n",
    "    s = set()\n",
    "    union = []\n",
    "    \n",
    "    for num in arr1:\n",
    "        s.add(num)\n",
    "    \n",
    "    for num in arr2:\n",
    "        s.add(num)\n",
    "    \n",
    "    for num in s:\n",
    "        union.append(num)\n",
    "    \n",
    "    return union\n",
    "\n",
    "arr1 = [1, 2, 3, 4, 5, 6, 7, 8, 9, 10]\n",
    "arr2 = [2, 3, 4, 4, 5, 11, 12]\n",
    "\n",
    "union = find_union(arr1, arr2)\n",
    "\n",
    "print(\"Union of arr1 and arr2 is:\")\n",
    "print(*union)"
   ]
  },
  {
   "cell_type": "code",
   "execution_count": 10,
   "id": "8b9b59a5",
   "metadata": {},
   "outputs": [
    {
     "name": "stdout",
     "output_type": "stream",
     "text": [
      "Union of arr1 and arr2 is:\n",
      "1 2 3 4 5 6 7 8 9 10 11 12\n"
     ]
    }
   ],
   "source": [
    "# Solution 3 : Using pointer\n",
    "# the solution 1 & 2 is used in both sorted and unsorted array but this solution 3 works in sorted only\n",
    "\n",
    "def union_sorted(a, b):\n",
    "    res = []\n",
    "    i = j = 0\n",
    "    n, m = len(a), len(b)\n",
    "    while i < n and j < m:\n",
    "        if a[i] <= b[j]:\n",
    "            if not res or res[-1] != a[i]:\n",
    "                res.append(a[i])\n",
    "            i += 1\n",
    "        else:\n",
    "            if not res or res[-1] != b[j]:\n",
    "                res.append(b[j])\n",
    "            j += 1\n",
    "    while i < n:\n",
    "        if not res or res[-1] != a[i]:\n",
    "            res.append(a[i])\n",
    "        i += 1\n",
    "    while j < m:\n",
    "        if not res or res[-1] != b[j]:\n",
    "            res.append(b[j])\n",
    "        j += 1\n",
    "    return res\n",
    "\n",
    "\n",
    "\n",
    "arr1 = [1,4, 5, 6, 7, 8, 9, 10]\n",
    "arr2 = [2, 3, 4, 4, 5, 11, 12]\n",
    "\n",
    "union = union_sorted(arr1, arr2)\n",
    "\n",
    "print(\"Union of arr1 and arr2 is:\")\n",
    "print(*union)\n",
    "\n",
    "# Time and space Complexity: O(m+n)"
   ]
  },
  {
   "cell_type": "markdown",
   "id": "c940570b",
   "metadata": {},
   "source": [
    "# 15.Find the number that appears once, and the other numbers twice"
   ]
  },
  {
   "cell_type": "code",
   "execution_count": 2,
   "id": "a062cb54",
   "metadata": {},
   "outputs": [
    {
     "name": "stdout",
     "output_type": "stream",
     "text": [
      "The single element is: 4\n"
     ]
    }
   ],
   "source": [
    "# Solution 01: Naive Approach(Brute-force approach): \n",
    "\n",
    "def getSingleElement(arr):\n",
    "    n = len(arr)\n",
    "\n",
    "    # Run a loop for selecting elements:\n",
    "    for i in range(n):\n",
    "        num = arr[i]  # selected element\n",
    "        cnt = 0\n",
    "\n",
    "        # Find the occurrence using linear search:\n",
    "        for j in range(n):\n",
    "            if arr[j] == num:\n",
    "                cnt += 1\n",
    "\n",
    "        # If the occurrence is 1, return the number:\n",
    "        if cnt == 1:\n",
    "            return num\n",
    "\n",
    "    # This line will never execute\n",
    "    # if the array contains a single element.\n",
    "    return -1\n",
    "\n",
    "\n",
    "def main():\n",
    "    arr = [4, 1, 2, 1, 2]\n",
    "    ans = getSingleElement(arr)\n",
    "    print(\"The single element is:\", ans)\n",
    "\n",
    "\n",
    "if __name__ == '__main__':\n",
    "    main()\n",
    "    \n",
    "# Time Complexity: O(N2)\n",
    "# Space Complexity : O(1)"
   ]
  },
  {
   "cell_type": "code",
   "execution_count": 3,
   "id": "de9bb3b5",
   "metadata": {},
   "outputs": [
    {
     "name": "stdout",
     "output_type": "stream",
     "text": [
      "The single element is: 4\n"
     ]
    }
   ],
   "source": [
    "# Solution 2 : Better Approach(Using Hashing using the array): \n",
    "\n",
    "def getSingleElement(arr):\n",
    "    n = len(arr)\n",
    "\n",
    "    # Find the maximum element:\n",
    "    maxi = max(arr)\n",
    "\n",
    "    # Declare hash array of size maxi+1\n",
    "    # And hash the given array:\n",
    "    hash = [0] * (maxi + 1)\n",
    "    for num in arr:\n",
    "        hash[num] += 1\n",
    "\n",
    "    # Find the single element and return the answer:\n",
    "    for num in arr:\n",
    "        if hash[num] == 1:\n",
    "            return num\n",
    "\n",
    "    # This line will never execute\n",
    "    # if the array contains a single element.\n",
    "    return -1\n",
    "\n",
    "\n",
    "def main():\n",
    "    arr = [4, 1, 2, 1, 2]\n",
    "    ans = getSingleElement(arr)\n",
    "    print(\"The single element is:\", ans)\n",
    "\n",
    "\n",
    "if __name__ == '__main__':\n",
    "    main()\n",
    "\n",
    "# Time Complexity: O(N)+O(N)+O(N)\n",
    "\n",
    "# Space Complexity: O(maxElement+1)"
   ]
  },
  {
   "cell_type": "code",
   "execution_count": 4,
   "id": "2a5ce78e",
   "metadata": {},
   "outputs": [
    {
     "name": "stdout",
     "output_type": "stream",
     "text": [
      "The single element is: 4\n"
     ]
    }
   ],
   "source": [
    "# Solution 2: Hashing using the map data structure\n",
    "\n",
    "def get_single_element(arr):\n",
    "    n = len(arr)\n",
    "\n",
    "    # Declare the hashmap.\n",
    "    # And hash the given array:\n",
    "    hashmap = {}\n",
    "    for num in arr:\n",
    "        hashmap[num] = hashmap.get(num, 0) + 1\n",
    "\n",
    "    # Find the single element and return the answer:\n",
    "    for num, count in hashmap.items():\n",
    "        if count == 1:\n",
    "            return num\n",
    "\n",
    "    # This line will never execute\n",
    "    # if the array contains a single element.\n",
    "    return -1\n",
    "\n",
    "\n",
    "def main():\n",
    "    arr = [4, 1, 2, 1, 2]\n",
    "    ans = get_single_element(arr)\n",
    "    print(\"The single element is:\", ans)\n",
    "\n",
    "\n",
    "if __name__ == \"__main__\":\n",
    "    main()"
   ]
  },
  {
   "cell_type": "code",
   "execution_count": 7,
   "id": "fb2fb587",
   "metadata": {},
   "outputs": [
    {
     "name": "stdout",
     "output_type": "stream",
     "text": [
      "The single element is: 4\n"
     ]
    }
   ],
   "source": [
    "# Optimal Approach(Using XOR):\n",
    "\n",
    "'''Assume the given array is: [4,1,2,1,2]\n",
    "XOR of all elements = 4^1^2^1^2\n",
    "      = 4 ^ (1^1) ^ (2^2)\n",
    "      = 4 ^ 0 ^ 0 = 4^0 = 4\n",
    "Hence, 4 is the single element in the array.'''\n",
    "\n",
    "def getSingleElement(arr):\n",
    "    # XOR all the elements:\n",
    "    xorr = 0\n",
    "    for num in arr:\n",
    "        xorr ^= num\n",
    "    return xorr\n",
    "\n",
    "def main():\n",
    "    arr = [4, 1, 2, 1, 2]\n",
    "    ans = getSingleElement(arr)\n",
    "    print(\"The single element is:\", ans)\n",
    "\n",
    "if __name__ == \"__main__\":\n",
    "    main()"
   ]
  },
  {
   "cell_type": "code",
   "execution_count": 6,
   "id": "a009b3e8",
   "metadata": {},
   "outputs": [
    {
     "name": "stdout",
     "output_type": "stream",
     "text": [
      "The length of the longest subarray is: 3\n"
     ]
    }
   ],
   "source": [
    "# Solution 01 : Naive Approach (Brute-force approach): \n",
    "\n",
    "from typing import List\n",
    "\n",
    "def getLongestSubarray(a: [int], k: int) -> int:\n",
    "    n = len(a)\n",
    "\n",
    "    length = 0\n",
    "    for i in range(n): # starting index\n",
    "        for j in range(i, n): # ending index\n",
    "            s = 0\n",
    "            for K in range(i, j+1):\n",
    "                s += a[K]\n",
    "\n",
    "            if s == k:\n",
    "                length = max(length, j - i + 1)\n",
    "    return length\n",
    "\n",
    "if __name__ == \"__main__\":\n",
    "    a = [1,2, 3,2, 5, 1,2, 9]\n",
    "    k = 6\n",
    "\n",
    "    length = getLongestSubarray(a, k)\n",
    "    print(f\"The length of the longest subarray is: {length}\")\n",
    "    \n",
    "# Time Complexity: O(N3)\n",
    "# Space Complexity: O(1)"
   ]
  },
  {
   "cell_type": "code",
   "execution_count": 10,
   "id": "6654ff35",
   "metadata": {},
   "outputs": [
    {
     "name": "stdout",
     "output_type": "stream",
     "text": [
      "The length of the longest subarray is: 3\n"
     ]
    }
   ],
   "source": [
    "# Solution 02: Optimizing the Naive Approach (Using two loops): \n",
    "\n",
    "def getLongestSubarray1(a: [int], k: int) -> int:\n",
    "    n = len(a)\n",
    "    length = 0\n",
    "    for i in range(n):\n",
    "        s = 0\n",
    "        for j in range(i,n):\n",
    "            s += a[j]\n",
    "            \n",
    "            if s == k:\n",
    "                length = max(length,j-i+1)\n",
    "    return length\n",
    "\n",
    "if __name__ == \"__main__\":\n",
    "    a = [1,2,3,2, 5, 1,2, 9]\n",
    "    k = 6\n",
    "    \n",
    "    length = getLongestSubarray1(a, k)\n",
    "    print(f\"The length of the longest subarray is: {length}\")"
   ]
  },
  {
   "cell_type": "code",
   "execution_count": 11,
   "id": "246a611a",
   "metadata": {},
   "outputs": [
    {
     "name": "stdout",
     "output_type": "stream",
     "text": [
      "The length of the longest subarray is: 3\n"
     ]
    }
   ],
   "source": [
    "# Solution 3: Better Approach(Using Hashing): \n",
    "\n",
    "def getLongestSubarray2(a: [int],k: int) -> int:\n",
    "    \n",
    "    n = len(a)\n",
    "    presumMap = {}\n",
    "    maxlen = 0\n",
    "    Sum = 0\n",
    "    \n",
    "    for i in range(n):\n",
    "        Sum += a[i]\n",
    "        \n",
    "        if Sum == k:\n",
    "            maxlen = max(maxlen,i+1)\n",
    "            \n",
    "    rem = Sum - k\n",
    "    \n",
    "    for rem in presumMap:\n",
    "        length = i - presumMap[rem]\n",
    "        maxlen = max(maxlen,length)\n",
    "        \n",
    "    if Sum not in presumMap:\n",
    "        presumMap[sum] = i\n",
    "    \n",
    "    return maxlen\n",
    "\n",
    "if __name__ == \"__main__\":\n",
    "    a = [1,2,3,2, 5, 1,2, 9]\n",
    "    k = 6\n",
    "    \n",
    "    length = getLongestSubarray2(a, k)\n",
    "    print(f\"The length of the longest subarray is: {length}\")\n",
    "    \n",
    "\n"
   ]
  },
  {
   "cell_type": "code",
   "execution_count": 12,
   "id": "d7c9eb78",
   "metadata": {},
   "outputs": [
    {
     "name": "stdout",
     "output_type": "stream",
     "text": [
      "The length of the longest subarray is: 3\n"
     ]
    }
   ],
   "source": [
    "# Solution 04: Optimal Approach (Using 2 pointers):\n",
    "\n",
    "from typing import List\n",
    "\n",
    "def getLongestSubarray3(a: [int], k: int) -> int:\n",
    "    n = len(a) # size of the array.\n",
    "\n",
    "    left, right = 0, 0 # 2 pointers\n",
    "    Sum = a[0]\n",
    "    maxLen = 0\n",
    "    while right < n:\n",
    "        # if sum > k, reduce the subarray from left\n",
    "        # until sum becomes less or equal to k:\n",
    "        while left <= right and Sum > k:\n",
    "            Sum -= a[left]\n",
    "            left += 1\n",
    "\n",
    "        # if sum = k, update the maxLen i.e. answer:\n",
    "        if Sum == k:\n",
    "            maxLen = max(maxLen, right - left + 1)\n",
    "\n",
    "        # Move forward the right pointer:\n",
    "        right += 1\n",
    "        if right < n: \n",
    "            Sum += a[right]\n",
    "\n",
    "    return maxLen\n",
    "\n",
    "\n",
    "if __name__ == \"__main__\":\n",
    "    a = [2, 3, 5, 1, 9]\n",
    "    k = 10\n",
    "\n",
    "    length = getLongestSubarray3(a, k)\n",
    "    print(f\"The length of the longest subarray is: {length}\")"
   ]
  },
  {
   "cell_type": "code",
   "execution_count": 13,
   "id": "ecba7079",
   "metadata": {},
   "outputs": [
    {
     "name": "stdout",
     "output_type": "stream",
     "text": [
      "The length of the longest subarray is: 3\n"
     ]
    }
   ],
   "source": [
    "def longest_subarray_sum_k_positive(arr, K):\n",
    "    left = 0\n",
    "    s = 0\n",
    "    max_len = 0\n",
    "    for right in range(len(arr)):\n",
    "        s += arr[right]\n",
    "        while s > K and left <= right:\n",
    "            s -= arr[left]\n",
    "            left += 1\n",
    "        if s == K:\n",
    "            max_len = max(max_len, right - left + 1)\n",
    "    return max_len\n",
    "\n",
    "if __name__ == \"__main__\":\n",
    "    a = [2, 3, 5, 1, 9]\n",
    "    k = 10\n",
    "\n",
    "    length = longest_subarray_sum_k_positive(a, k)\n",
    "    print(f\"The length of the longest subarray is: {length}\")"
   ]
  },
  {
   "cell_type": "markdown",
   "id": "82eeb399",
   "metadata": {},
   "source": [
    "# Sort an array of 0s, 1s and 2s"
   ]
  },
  {
   "cell_type": "code",
   "execution_count": 12,
   "id": "3cfbb6bd",
   "metadata": {},
   "outputs": [
    {
     "data": {
      "text/plain": [
       "[0, 0, 1, 1, 2, 2]"
      ]
     },
     "execution_count": 12,
     "metadata": {},
     "output_type": "execute_result"
    }
   ],
   "source": [
    "# For this the solution one is comming sorting technique arr.sort()\n",
    "\n",
    "# next this is optimal one by using the two pointer\n",
    "\n",
    "def sortarray(arr):\n",
    "    n = len(arr)\n",
    "    low , mid, high = 0,0,n-1\n",
    "    while mid <= high:\n",
    "        if arr[mid] == 0:\n",
    "            arr[mid],arr[low] = arr[low],arr[mid]\n",
    "            low += 1\n",
    "            mid += 1\n",
    "        elif arr[mid] == 1:\n",
    "            mid += 1\n",
    "        else:\n",
    "            arr[mid],arr[high] = arr[high],arr[mid]\n",
    "            high -= 1\n",
    "    return arr\n",
    "            \n",
    "arr = [0, 2, 1, 2, 0, 1]\n",
    "sortarray(arr)"
   ]
  },
  {
   "cell_type": "markdown",
   "id": "a163f050",
   "metadata": {},
   "source": [
    "# Find the Majority Element that occurs more than N/2 times"
   ]
  },
  {
   "cell_type": "code",
   "execution_count": 13,
   "id": "fcdb9ef5",
   "metadata": {},
   "outputs": [
    {
     "data": {
      "text/plain": [
       "2"
      ]
     },
     "execution_count": 13,
     "metadata": {},
     "output_type": "execute_result"
    }
   ],
   "source": [
    "# Solution 01 : first generally using the for loop i,e Naive Approach\n",
    "\n",
    "def majelem(arr):\n",
    "    n = len(arr)\n",
    "    for i in range(n):\n",
    "        count = 0\n",
    "        for j in range(n):\n",
    "            if arr[j] == arr[i]:\n",
    "                count += 1\n",
    "        if count > n // 2:\n",
    "            return arr[i]\n",
    "        \n",
    "    return -1\n",
    "\n",
    "arr = [2, 2, 1, 1, 1, 2, 2]\n",
    "majelem(arr)"
   ]
  },
  {
   "cell_type": "code",
   "execution_count": 18,
   "id": "27c511bc",
   "metadata": {},
   "outputs": [
    {
     "name": "stdout",
     "output_type": "stream",
     "text": [
      "The majority element is: 2\n"
     ]
    }
   ],
   "source": [
    "# solution 2: let try by using build in function counter with dict/hashmap\n",
    "\n",
    "from collections import Counter\n",
    "\n",
    "def majorityElement(arr):\n",
    "    n = len(arr)\n",
    "    counter = Counter(arr)\n",
    "    for num, count in counter.items():\n",
    "        if count > (n // 2):\n",
    "            return num\n",
    "\n",
    "    return -1\n",
    "\n",
    "arr = [2, 2, 1, 1, 1, 2, 2]\n",
    "ans = majorityElement(arr)\n",
    "print(\"The majority element is:\", ans)"
   ]
  },
  {
   "cell_type": "code",
   "execution_count": 16,
   "id": "22fd4829",
   "metadata": {},
   "outputs": [
    {
     "name": "stdout",
     "output_type": "stream",
     "text": [
      "The majority element is: 2\n"
     ]
    }
   ],
   "source": [
    "# Solution 03: Optimal Approach: Moore’s Voting Algorithm:\n",
    "\n",
    "def majorityElement(arr):\n",
    "    n = len(arr)\n",
    "    cnt = 0  # Count\n",
    "    el = None  # Element\n",
    "\n",
    "    # Applying the algorithm\n",
    "    for i in range(n):\n",
    "        if cnt == 0:\n",
    "            cnt = 1\n",
    "            el = arr[i]\n",
    "        elif el == arr[i]:\n",
    "            cnt += 1\n",
    "        else:\n",
    "            cnt -= 1\n",
    "\n",
    "    # Checking if the stored element is the majority element\n",
    "    cnt1 = 0\n",
    "    for i in range(n):\n",
    "        if arr[i] == el:\n",
    "            cnt1 += 1\n",
    "\n",
    "    if cnt1 > (n / 2):\n",
    "        return el\n",
    "    return -1\n",
    "\n",
    "\n",
    "arr = [2, 2, 1, 1, 1, 2, 2]\n",
    "ans = majorityElement(arr)\n",
    "print(\"The majority element is:\", ans)"
   ]
  },
  {
   "cell_type": "markdown",
   "id": "fcbe4164",
   "metadata": {},
   "source": [
    "# Kadane's Algorithm : Maximum Subarray Sum in an Array"
   ]
  },
  {
   "cell_type": "code",
   "execution_count": 3,
   "id": "014e0e42",
   "metadata": {},
   "outputs": [
    {
     "name": "stdout",
     "output_type": "stream",
     "text": [
      "6\n"
     ]
    }
   ],
   "source": [
    "# Brute Force Approach \n",
    "\n",
    "def maxi_subarray(arr):\n",
    "    n = len(arr)\n",
    "    maxi = arr[0] \n",
    "    \n",
    "    for i in range(n):\n",
    "        for j in range(i, n):\n",
    "            summ = 0\n",
    "            for k in range(i, j + 1):\n",
    "                summ += arr[k]\n",
    "            maxi = max(summ, maxi)\n",
    "            \n",
    "    return maxi\n",
    "\n",
    "# Test\n",
    "arr = [-2, 1, -3, 4, -1, 2, 1, -5, 4]\n",
    "print(maxi_subarray(arr))  "
   ]
  },
  {
   "cell_type": "code",
   "execution_count": 5,
   "id": "a6400247",
   "metadata": {},
   "outputs": [
    {
     "name": "stdout",
     "output_type": "stream",
     "text": [
      "6\n"
     ]
    }
   ],
   "source": [
    "# Better Approach \n",
    "\n",
    "def maxi_subarray1(arr):\n",
    "    n = len(arr)\n",
    "    maxi = arr[0] \n",
    "    \n",
    "    for i in range(n):\n",
    "        summ = 0\n",
    "        for j in range(i, n):\n",
    "            summ += arr[j]\n",
    "            \n",
    "            maxi = max(summ, maxi)\n",
    "            \n",
    "    return maxi\n",
    "\n",
    "# Test\n",
    "arr = [-2, 1, -3, 4, -1, 2, 1, -5, 4]\n",
    "print(maxi_subarray1(arr))  "
   ]
  },
  {
   "cell_type": "code",
   "execution_count": 7,
   "id": "85d2ef16",
   "metadata": {},
   "outputs": [
    {
     "name": "stdout",
     "output_type": "stream",
     "text": [
      "6\n"
     ]
    }
   ],
   "source": [
    "# Optimal solution :\n",
    "\n",
    "def maxi_subarray(arr):\n",
    "    maxi = arr[0]\n",
    "    summ = 0\n",
    "    n = len(arr)\n",
    "    \n",
    "    for i in range(1, len(arr)):\n",
    "        summ += arr[i]\n",
    "        if summ > maxi:\n",
    "            maxi = summ\n",
    "        if summ < 0:\n",
    "            summ = 0\n",
    "            \n",
    "    return maxi\n",
    "\n",
    "arr = [-2, 1, -3, 4, -1, 2, 1, -5, 4]\n",
    "print(maxi_subarray(arr)) "
   ]
  },
  {
   "cell_type": "code",
   "execution_count": 8,
   "id": "8ff66dc2",
   "metadata": {},
   "outputs": [
    {
     "name": "stdout",
     "output_type": "stream",
     "text": [
      "Max sum: 6, Subarray: [4, -1, 2, 1]\n"
     ]
    }
   ],
   "source": [
    "# printing with indices\n",
    "\n",
    "def maxi_subarray_with_indices(arr):\n",
    "    summ = maxi = arr[0]\n",
    "    start = end = 0\n",
    "    temp_start = 0\n",
    "    \n",
    "    for i in range(1, len(arr)):\n",
    "        if arr[i] > summ + arr[i]:\n",
    "            summ = arr[i]\n",
    "            temp_start = i\n",
    "        else:\n",
    "            summ += arr[i]\n",
    "        \n",
    "        if summ > maxi:\n",
    "            maxi = summ\n",
    "            start = temp_start\n",
    "            end = i\n",
    "    \n",
    "    return maxi, start, end\n",
    "\n",
    "arr = [-2, 1, -3, 4, -1, 2, 1, -5, 4]\n",
    "max_sum, start_idx, end_idx = maxi_subarray_with_indices(arr)\n",
    "print(f\"Max sum: {max_sum}, Subarray: {arr[start_idx:end_idx+1]}\")"
   ]
  },
  {
   "cell_type": "markdown",
   "id": "18098994",
   "metadata": {},
   "source": [
    "# Stock Buy And Sell"
   ]
  },
  {
   "cell_type": "code",
   "execution_count": 13,
   "id": "edaf5f51",
   "metadata": {},
   "outputs": [
    {
     "data": {
      "text/plain": [
       "4"
      ]
     },
     "execution_count": 13,
     "metadata": {},
     "output_type": "execute_result"
    }
   ],
   "source": [
    "# Brute Force Approach \n",
    "\n",
    "def stock_buy_sell(arr):\n",
    "    max_profit = 0\n",
    "    n = len(arr)\n",
    "    \n",
    "    for i in range(n):\n",
    "        for j in range(i+1,n):\n",
    "            if arr[j] > arr[i]:\n",
    "                max_profit = max(arr[j]-arr[i],max_profit)\n",
    "    return max_profit\n",
    "\n",
    "arr = [3,5,1,5,3,5,1]\n",
    "stock_buy_sell(arr)\n"
   ]
  },
  {
   "cell_type": "code",
   "execution_count": 15,
   "id": "6117d813",
   "metadata": {},
   "outputs": [
    {
     "data": {
      "text/plain": [
       "4"
      ]
     },
     "execution_count": 15,
     "metadata": {},
     "output_type": "execute_result"
    }
   ],
   "source": [
    "# optimal Approach\n",
    "\n",
    "def stock_buy_sell1(arr):\n",
    "    \n",
    "    max_profit = 0\n",
    "    min_price = float('inf')\n",
    "    \n",
    "    for i in range(len(arr)):\n",
    "        min_price = min(min_price,arr[i])\n",
    "        max_profit = max(arr[i]-min_price,max_profit)\n",
    "    return max_profit\n",
    "\n",
    "arr1 = [3,5,1,5,3,5,1]\n",
    "stock_buy_sell1(arr1)"
   ]
  },
  {
   "cell_type": "markdown",
   "id": "c8a9284c",
   "metadata": {},
   "source": [
    "# Rearrange Array Elements by Sign"
   ]
  },
  {
   "cell_type": "markdown",
   "id": "674a3c65",
   "metadata": {},
   "source": [
    "### Variety-1"
   ]
  },
  {
   "cell_type": "code",
   "execution_count": 16,
   "id": "b50db21d",
   "metadata": {},
   "outputs": [
    {
     "name": "stdout",
     "output_type": "stream",
     "text": [
      "1 -4 2 -5 "
     ]
    }
   ],
   "source": [
    "# Brute Force Method\n",
    "\n",
    "def rearrange_by_sign(A):\n",
    "    pos = []\n",
    "    neg = []\n",
    "  \n",
    "    for i in range(len(A)):\n",
    "        if A[i] > 0:\n",
    "            pos.append(A[i])\n",
    "        else:\n",
    "            neg.append(A[i])\n",
    "  \n",
    "    for i in range(len(pos)):\n",
    "        A[2 * i] = pos[i]\n",
    "    for i in range(len(neg)):\n",
    "        A[2 * i + 1] = neg[i]\n",
    "  \n",
    "    return A\n",
    "\n",
    "A = [1, 2, -4, -5]\n",
    "ans = rearrange_by_sign(A)\n",
    "\n",
    "for i in range(len(ans)):\n",
    "    print(ans[i], end=\" \")"
   ]
  },
  {
   "cell_type": "code",
   "execution_count": 19,
   "id": "863de0af",
   "metadata": {},
   "outputs": [
    {
     "name": "stdout",
     "output_type": "stream",
     "text": [
      "[1, -4, 2, -5]\n"
     ]
    }
   ],
   "source": [
    "# Optimal Method\n",
    "\n",
    "from typing import List\n",
    "def RearrangebySign(A: List[int]) -> List[int]:\n",
    "    n = len(A)\n",
    "    \n",
    "    ans = [0] * n\n",
    "    posIndex, negIndex = 0, 1\n",
    "    \n",
    "    for i in range(n):\n",
    "        if A[i] < 0:\n",
    "            ans[negIndex] = A[i]\n",
    "            negIndex += 2\n",
    "        else:\n",
    "            ans[posIndex] = A[i]\n",
    "            posIndex += 2\n",
    "    \n",
    "    return ans\n",
    "    \n",
    "# Test the function\n",
    "A = [1,2,-4,-5]\n",
    "ans = RearrangebySign(A)\n",
    "print(ans)"
   ]
  },
  {
   "cell_type": "markdown",
   "id": "fa453fb4",
   "metadata": {},
   "source": [
    "# Variety-2"
   ]
  },
  {
   "cell_type": "code",
   "execution_count": 21,
   "id": "080a611e",
   "metadata": {},
   "outputs": [
    {
     "name": "stdout",
     "output_type": "stream",
     "text": [
      "1 -4 2 -5 3 4 "
     ]
    }
   ],
   "source": [
    "# # Brute Force Method\n",
    "\n",
    "def RearrangebySign(A, n):\n",
    "    pos = []\n",
    "    neg = []\n",
    "    \n",
    "    for i in range(n):\n",
    "        if A[i] > 0:\n",
    "            pos.append(A[i])\n",
    "        else:\n",
    "            neg.append(A[i])\n",
    "    \n",
    "    if len(pos) < len(neg):\n",
    "        for i in range(len(pos)):\n",
    "            A[2*i] = pos[i]\n",
    "            A[2*i+1] = neg[i]\n",
    "        \n",
    "        index = len(pos)*2\n",
    "        for i in range(len(neg)-len(pos)):\n",
    "            A[index] = neg[len(pos)+i]\n",
    "            index += 1\n",
    "    else:\n",
    "        for i in range(len(neg)):\n",
    "            A[2*i] = pos[i]\n",
    "            A[2*i+1] = neg[i]\n",
    "            \n",
    "        index = len(neg)*2\n",
    "        for i in range(len(pos)-len(neg)):\n",
    "            A[index] = pos[len(neg)+i]\n",
    "            index += 1\n",
    "    \n",
    "    return A\n",
    "\n",
    "# Array initialization\n",
    "n = 6\n",
    "A = [1, 2, -4, -5, 3, 4]\n",
    "\n",
    "ans = RearrangebySign(A, n)\n",
    "\n",
    "for i in range(len(ans)):\n",
    "    print(ans[i], end=\" \")"
   ]
  },
  {
   "cell_type": "code",
   "execution_count": 22,
   "id": "a6e4448d",
   "metadata": {},
   "outputs": [
    {
     "name": "stdout",
     "output_type": "stream",
     "text": [
      "1 -4 2 -5 3 0 "
     ]
    }
   ],
   "source": [
    "# optimized method\n",
    "\n",
    "def RearrangebySign(A):\n",
    "    n = len(A)\n",
    "    result = [0] * n\n",
    "    pos_index, neg_index = 0, 1\n",
    "    \n",
    "    for num in A:\n",
    "        if num > 0:\n",
    "            if pos_index < n:\n",
    "                result[pos_index] = num\n",
    "                pos_index += 2\n",
    "        else:\n",
    "            if neg_index < n:\n",
    "                result[neg_index] = num\n",
    "                neg_index += 2\n",
    "    \n",
    "    return result\n",
    "\n",
    "# Array initialization\n",
    "A = [1, 2, -4, -5, 3, 4]\n",
    "ans = RearrangebySign(A)\n",
    "\n",
    "for num in ans:\n",
    "    print(num, end=\" \")"
   ]
  },
  {
   "cell_type": "markdown",
   "id": "e0cab1f9",
   "metadata": {},
   "source": [
    "# next_permutation : find next lexicographically greater permutation"
   ]
  },
  {
   "cell_type": "code",
   "execution_count": 1,
   "id": "5d439437",
   "metadata": {},
   "outputs": [
    {
     "name": "stdout",
     "output_type": "stream",
     "text": [
      "The next permutation is: [2 3 0 0 1 4 5 ]\n"
     ]
    }
   ],
   "source": [
    "# Optimal solution (there is no bruth force in the python for this)\n",
    "\n",
    "from typing import List\n",
    "\n",
    "def nextGreaterPermutation(A: List[int]) -> List[int]:\n",
    "    n = len(A)\n",
    "\n",
    "    # Step 1: Find the break point:\n",
    "    ind = -1 # break point\n",
    "    for i in range(n-2, -1, -1):\n",
    "        if A[i] < A[i + 1]:\n",
    "            ind = i\n",
    "            break\n",
    "\n",
    "    # If break point does not exist:\n",
    "    if ind == -1:\n",
    "        A.reverse()\n",
    "        return A\n",
    "\n",
    "    # Step 2: Find the next greater element\n",
    "    #         and swap it with arr[ind]:\n",
    "    for i in range(n - 1, ind, -1):\n",
    "        if A[i] > A[ind]:\n",
    "            A[i], A[ind] = A[ind], A[i]\n",
    "            break\n",
    "\n",
    "    # Step 3: reverse the right half:\n",
    "    A[ind+1:] = reversed(A[ind+1:])\n",
    "\n",
    "    return A\n",
    "\n",
    "if __name__ == \"__main__\":\n",
    "    A = [2, 1, 5, 4, 3, 0, 0]\n",
    "    ans = nextGreaterPermutation(A)\n",
    "\n",
    "    print(\"The next permutation is: [\", end=\"\")\n",
    "    for it in ans:\n",
    "        print(it, end=\" \")\n",
    "    print(\"]\")\n"
   ]
  },
  {
   "cell_type": "markdown",
   "id": "46d69607",
   "metadata": {},
   "source": [
    "# Leaders in an Array"
   ]
  },
  {
   "cell_type": "code",
   "execution_count": 2,
   "id": "7530c7c6",
   "metadata": {},
   "outputs": [
    {
     "data": {
      "text/plain": [
       "[22, 12, 6]"
      ]
     },
     "execution_count": 2,
     "metadata": {},
     "output_type": "execute_result"
    }
   ],
   "source": [
    "# Brute Force Approach\n",
    "\n",
    "def leader_array1(arr):\n",
    "    n = len(arr)\n",
    "    ans = []\n",
    "    \n",
    "    for i in range(n):\n",
    "        leader = True\n",
    "        for j in range(i+1,n):\n",
    "            if arr[j] > arr[i]:\n",
    "                leader = False\n",
    "                break\n",
    "        if leader:\n",
    "            ans.append(arr[i])\n",
    "        \n",
    "    return ans\n",
    "\n",
    "arr = [10, 22, 12, 3, 0, 6]\n",
    "leader_array1(arr)"
   ]
  },
  {
   "cell_type": "code",
   "execution_count": 4,
   "id": "736b3ee8",
   "metadata": {},
   "outputs": [
    {
     "data": {
      "text/plain": [
       "[6, 12, 22]"
      ]
     },
     "execution_count": 4,
     "metadata": {},
     "output_type": "execute_result"
    }
   ],
   "source": [
    "# Optimal Approach\n",
    "\n",
    "def printLeaders(arr):\n",
    "    n = len(arr)\n",
    "    ans = []\n",
    "    max_elem = arr[n - 1]\n",
    "    ans.append(arr[n - 1])\n",
    "\n",
    "    for i in range(n - 2, -1, -1):\n",
    "        if arr[i] > max_elem:\n",
    "            ans.append(arr[i])\n",
    "            max_elem = arr[i]\n",
    "\n",
    "    return ans\n",
    "\n",
    "arr = [10, 22, 12, 3, 0, 6]\n",
    "printLeaders(arr)"
   ]
  },
  {
   "cell_type": "markdown",
   "id": "9dbde4a4",
   "metadata": {},
   "source": [
    "# Longest Consecutive Sequence in an Array"
   ]
  },
  {
   "cell_type": "code",
   "execution_count": 1,
   "id": "08e50a0b",
   "metadata": {},
   "outputs": [
    {
     "data": {
      "text/plain": [
       "6"
      ]
     },
     "execution_count": 1,
     "metadata": {},
     "output_type": "execute_result"
    }
   ],
   "source": [
    "# Brute-force Approach:\n",
    "\n",
    "def linearSearch(a, num):\n",
    "    n = len(a)\n",
    "    for i in range(n):\n",
    "        if a[i] == num:\n",
    "            return True\n",
    "    return False\n",
    "\n",
    "def longestsuccessive(a):\n",
    "    n = len(a)\n",
    "    longest = 1\n",
    "    \n",
    "    for i in range(n):\n",
    "        x = a[i]\n",
    "        count = 1\n",
    "        \n",
    "        while linearSearch(a,x+1):\n",
    "            x += 1\n",
    "            count += 1\n",
    "            \n",
    "        longest = max(longest,count)\n",
    "        \n",
    "    return longest\n",
    "\n",
    "a = [100,200,1,4,2,3,6,5]\n",
    "longestsuccessive(a)\n",
    "    "
   ]
  },
  {
   "cell_type": "code",
   "execution_count": 6,
   "id": "bf457a95",
   "metadata": {},
   "outputs": [
    {
     "data": {
      "text/plain": [
       "5"
      ]
     },
     "execution_count": 6,
     "metadata": {},
     "output_type": "execute_result"
    }
   ],
   "source": [
    "# Better Approach(Using sorting)\n",
    "\n",
    "def longestSuccessive(arr):\n",
    "    arr.sort()\n",
    "    \n",
    "    n = len(arr)\n",
    "    longest = 1\n",
    "    last_smaller = float(\"-inf\")\n",
    "    count = 0\n",
    "    \n",
    "    for i in range(n):\n",
    "        if arr[i]-1 == last_smaller:\n",
    "            count += 1\n",
    "            last_smaller = arr[i]\n",
    "            \n",
    "        elif arr[i] != last_smaller:\n",
    "            count = 1\n",
    "            last_smaller = arr[i]\n",
    "            \n",
    "        longest = max(longest,count)\n",
    "            \n",
    "    return longest\n",
    "\n",
    "a = [100,3,200,1,4,2,2,3,5]\n",
    "longestSuccessive(a)  "
   ]
  },
  {
   "cell_type": "code",
   "execution_count": 9,
   "id": "1836b636",
   "metadata": {},
   "outputs": [
    {
     "data": {
      "text/plain": [
       "5"
      ]
     },
     "execution_count": 9,
     "metadata": {},
     "output_type": "execute_result"
    }
   ],
   "source": [
    "# Optimal Approach(Using Set data structure): \n",
    "\n",
    "def optimallongest(arr):\n",
    "    n = len(arr)\n",
    "    count = 0\n",
    "    \n",
    "    longest = 1\n",
    "    \n",
    "    if n == 0:\n",
    "        return 0\n",
    "    \n",
    "    st = set()\n",
    "    \n",
    "    for i in range(n):\n",
    "        st.add(arr[i])\n",
    "        \n",
    "    for it in st:\n",
    "        if it - 1 not in st:\n",
    "            count = 1\n",
    "            x = it\n",
    "            \n",
    "            while x + 1 in st:\n",
    "                x += 1\n",
    "                count += 1\n",
    "            longest = max(longest,count)\n",
    "    return longest\n",
    "\n",
    "arr = [100,3,200,1,4,2,2,3,5]\n",
    "optimallongest(arr)\n",
    "                "
   ]
  },
  {
   "cell_type": "code",
   "execution_count": null,
   "id": "77831daf",
   "metadata": {},
   "outputs": [],
   "source": []
  }
 ],
 "metadata": {
  "kernelspec": {
   "display_name": "Python 3 (ipykernel)",
   "language": "python",
   "name": "python3"
  },
  "language_info": {
   "codemirror_mode": {
    "name": "ipython",
    "version": 3
   },
   "file_extension": ".py",
   "mimetype": "text/x-python",
   "name": "python",
   "nbconvert_exporter": "python",
   "pygments_lexer": "ipython3",
   "version": "3.11.3"
  }
 },
 "nbformat": 4,
 "nbformat_minor": 5
}
