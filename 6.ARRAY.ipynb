{
 "cells": [
  {
   "cell_type": "markdown",
   "id": "b90c51f5",
   "metadata": {},
   "source": [
    "# ARRAY"
   ]
  },
  {
   "cell_type": "code",
   "execution_count": null,
   "id": "5c62be6b",
   "metadata": {},
   "outputs": [],
   "source": [
    "Definition of ARRAY ?\n",
    "\n",
    "--> https://www.youtube.com/watch?v=0OK-kbu9Cwo\n",
    "    \n",
    "--> More deatils on array i have written in the notes"
   ]
  },
  {
   "cell_type": "code",
   "execution_count": null,
   "id": "aa306e31",
   "metadata": {},
   "outputs": [],
   "source": []
  },
  {
   "cell_type": "code",
   "execution_count": null,
   "id": "f17570fb",
   "metadata": {},
   "outputs": [],
   "source": []
  },
  {
   "cell_type": "markdown",
   "id": "8d9ad387",
   "metadata": {},
   "source": [
    "# 1. Two Sum  --->  https://leetcode.com/problems/two-sum/description/\n",
    "\n",
    "#### solution --> https://www.youtube.com/watch?v=KLlXCFG5TnA"
   ]
  },
  {
   "cell_type": "code",
   "execution_count": 20,
   "id": "25c50f54",
   "metadata": {},
   "outputs": [
    {
     "data": {
      "text/plain": [
       "[1, 2]"
      ]
     },
     "execution_count": 20,
     "metadata": {},
     "output_type": "execute_result"
    }
   ],
   "source": [
    "def two_sum(nums,target):\n",
    "    prevdict = {}\n",
    "    \n",
    "    for i,num in enumerate(nums):\n",
    "        diff = target - num\n",
    "        if diff in prevdict:\n",
    "            return [prevdict[diff],i]\n",
    "        prevdict[num] = i\n",
    "    return \n",
    "\n",
    "target = 9\n",
    "nums = [2,8,1,6,4,7,2]\n",
    "two_sum(nums,target)"
   ]
  },
  {
   "cell_type": "code",
   "execution_count": 19,
   "id": "26d189a2",
   "metadata": {},
   "outputs": [
    {
     "data": {
      "text/plain": [
       "[8, 1]"
      ]
     },
     "execution_count": 19,
     "metadata": {},
     "output_type": "execute_result"
    }
   ],
   "source": [
    "def two_sum(nums, target):\n",
    "    prevdict = {}\n",
    "    for i, num in enumerate(nums):\n",
    "        diff = target - num\n",
    "        if diff in prevdict:\n",
    "            return [nums[prevdict[diff]], num] \n",
    "        prevdict[num] = i\n",
    "    return None  \n",
    "\n",
    "target = 9\n",
    "nums = [2,8,1,6,4,3,2]\n",
    "two_sum(nums,target)"
   ]
  },
  {
   "cell_type": "markdown",
   "id": "09614099",
   "metadata": {},
   "source": [
    "# 2. Find the Largest element in an array"
   ]
  },
  {
   "cell_type": "code",
   "execution_count": 24,
   "id": "fcd4a228",
   "metadata": {},
   "outputs": [
    {
     "data": {
      "text/plain": [
       "8"
      ]
     },
     "execution_count": 24,
     "metadata": {},
     "output_type": "execute_result"
    }
   ],
   "source": [
    "# solution 01 --> Sorting\n",
    "\n",
    "def sol1_Larg(arr):\n",
    "    arr.sort()\n",
    "    return arr[-1]\n",
    "    \n",
    "arr = [2,8,3,1,7,4,8,3]\n",
    "sol1_Larg(arr)\n",
    "\n",
    "# Time Complexity: O(N*log(N))\n",
    "# Space Complexity: O(n)"
   ]
  },
  {
   "cell_type": "code",
   "execution_count": 28,
   "id": "698a7e5c",
   "metadata": {},
   "outputs": [
    {
     "data": {
      "text/plain": [
       "9"
      ]
     },
     "execution_count": 28,
     "metadata": {},
     "output_type": "execute_result"
    }
   ],
   "source": [
    "# Solution2: Using a max variable\n",
    "\n",
    "def sol2_Larg(arr):\n",
    "    maximum = 0\n",
    "    for i in arr:\n",
    "        if i > maximum:\n",
    "            maximum = i\n",
    "    return maximum\n",
    "    \n",
    "arr1 = [2,8,3,1,9,4,8,3]\n",
    "sol2_Larg(arr1)\n",
    "\n",
    "# Time Complexity: O(N)\n",
    "# Space Complexity: O(1)"
   ]
  },
  {
   "cell_type": "markdown",
   "id": "2af6b918",
   "metadata": {},
   "source": [
    "# 3.Find Second Smallest and Second Largest Element in an array"
   ]
  },
  {
   "cell_type": "code",
   "execution_count": 32,
   "id": "7b033b44",
   "metadata": {},
   "outputs": [
    {
     "name": "stdout",
     "output_type": "stream",
     "text": [
      "Second min 2 and second maximum 8\n"
     ]
    }
   ],
   "source": [
    "# Solution 01: (Brute Force) [this approach only works if there are no duplicates]\n",
    "\n",
    "def sec_small_large(arr,n):\n",
    "    if n == 0 or n == 1:\n",
    "        print(-1, -1)\n",
    "    arr.sort()\n",
    "    \n",
    "arr1 = [2,5,8,9,6,3,1]\n",
    "n = len(arr)\n",
    "sec_small_large(arr1,n)\n",
    "print(f\"Second min {arr[1]} and second maximum {arr[-2]}\")\n",
    "\n",
    "\n",
    "# Time Complexity: O(NlogN), For sorting the array\n",
    "# Space Complexity: O(1)"
   ]
  },
  {
   "cell_type": "code",
   "execution_count": 34,
   "id": "752f565c",
   "metadata": {},
   "outputs": [
    {
     "name": "stdout",
     "output_type": "stream",
     "text": [
      "Second smallest is 2\n",
      "Second largest is 6\n"
     ]
    }
   ],
   "source": [
    "# Solution 2(Better Solution)\n",
    "\n",
    "def getElements(arr, n):\n",
    "    if n == 0 or n == 1:\n",
    "        print(-1, -1)\n",
    "        \n",
    "    small = float('inf')\n",
    "    second_small = float('inf')\n",
    "    large = float('-inf')\n",
    "    second_large = float('-inf')\n",
    "    \n",
    "    for i in range(n):\n",
    "        small = min(small, arr[i])\n",
    "        large = max(large, arr[i])\n",
    "        \n",
    "    for i in range(n):\n",
    "        if arr[i] < second_small and arr[i] != small:\n",
    "            second_small = arr[i]\n",
    "        if arr[i] > second_large and arr[i] != large:\n",
    "            second_large = arr[i]\n",
    "            \n",
    "            \n",
    "    print(\"Second smallest is\", second_small)\n",
    "    print(\"Second largest is\", second_large)\n",
    "\n",
    "\n",
    "\n",
    "\n",
    "if __name__ == '__main__':\n",
    "    arr = [1, 2, 4, 6, 7, 5]\n",
    "    n = len(arr)\n",
    "    getElements(arr, n)\n",
    "    \n",
    "# Time Complexity: O(N), We do two linear traversals in our array\n",
    "# Space Complexity: O(1)"
   ]
  },
  {
   "cell_type": "code",
   "execution_count": 49,
   "id": "9dc95ee0",
   "metadata": {},
   "outputs": [
    {
     "name": "stdout",
     "output_type": "stream",
     "text": [
      "large :  9\n",
      "second_large: 7\n",
      "small : 1\n",
      "second_small : 2\n"
     ]
    }
   ],
   "source": [
    "# Solution 3(Best Solution)\n",
    "\n",
    "def Second_Large_Small(nums):\n",
    "    \n",
    "    small = float(\"inf\")\n",
    "    second_small = float('inf')\n",
    "    large = float('-inf')\n",
    "    second_large = float('-inf')\n",
    "    \n",
    "    for num in nums:\n",
    "        # lets first for the largest\n",
    "        if num > large:\n",
    "            second_large = large\n",
    "            large = num\n",
    "        elif num > second_large and num != large:\n",
    "            second_large = num\n",
    "    print(\"large : \",large)\n",
    "    print(\"second_large:\",second_large)\n",
    "\n",
    "    for num in nums:\n",
    "        # This is for small\n",
    "        if num < small:\n",
    "            second_small = small\n",
    "            small = num\n",
    "        elif num < second_small and num != small:\n",
    "            second_small = num\n",
    "    print(\"small :\",small)\n",
    "    print(\"second_small :\",second_small)\n",
    "    \n",
    "\n",
    "nums = [9,3,2,5,4,1,7,3,7,5,2]\n",
    "Second_Large_Small(nums)\n",
    "\n",
    "# Time Complexity: O(N), Single-pass solution\n",
    "# Space Complexity: O(1)"
   ]
  },
  {
   "cell_type": "markdown",
   "id": "82ecc4ed",
   "metadata": {},
   "source": [
    "# 4.Check if an Array is Sorted"
   ]
  },
  {
   "cell_type": "code",
   "execution_count": 52,
   "id": "a19dde44",
   "metadata": {},
   "outputs": [
    {
     "data": {
      "text/plain": [
       "False"
      ]
     },
     "execution_count": 52,
     "metadata": {},
     "output_type": "execute_result"
    }
   ],
   "source": [
    "# Approach 01: Brute Force\n",
    "\n",
    "def is_array_sorted(arr):\n",
    "    n = len(arr)\n",
    "    for i in range(n):\n",
    "        for j in range(i+1,n):\n",
    "            if arr[j] < arr[i]:\n",
    "                return False\n",
    "    return True\n",
    "\n",
    "arr1 = [4,3,6,7,9,1,6,8]\n",
    "arr2 = [1,4,7,9,10]\n",
    "is_array_sorted(arr1)\n",
    "#is_array_sorted(arr2)\n",
    "\n",
    "# Time Complexity: O(N^2)\n",
    "# Space Complexity: O(1)"
   ]
  },
  {
   "cell_type": "code",
   "execution_count": 53,
   "id": "c486939f",
   "metadata": {},
   "outputs": [
    {
     "data": {
      "text/plain": [
       "True"
      ]
     },
     "execution_count": 53,
     "metadata": {},
     "output_type": "execute_result"
    }
   ],
   "source": [
    "# Approach 02: Efficient (Single traversal)\n",
    "\n",
    "def is_arr_sort(arr):\n",
    "    n = len(arr)\n",
    "    for i in range(1,n):\n",
    "        if arr[i] < arr[i-1]:\n",
    "            return False\n",
    "    return True\n",
    "\n",
    "arr3 = [2,4,5,7,9]\n",
    "is_arr_sort(arr3)"
   ]
  },
  {
   "cell_type": "code",
   "execution_count": 57,
   "id": "2b8581f1",
   "metadata": {},
   "outputs": [
    {
     "data": {
      "text/plain": [
       "True"
      ]
     },
     "execution_count": 57,
     "metadata": {},
     "output_type": "execute_result"
    }
   ],
   "source": [
    "# Approach 02: Efficient (Single traversal)\n",
    "\n",
    "def is_arr_sort(arr):\n",
    "    n = len(arr)\n",
    "    for i in range(1,n):\n",
    "        if arr[i] < arr[i-1]:\n",
    "            return False\n",
    "    return True\n",
    "\n",
    "arr3 = [2,4,5,7,9]\n",
    "is_arr_sort(arr3)\n",
    "\n",
    "# Time Complexity: O(N)\n",
    "# Space Complexity: O(1)"
   ]
  },
  {
   "cell_type": "markdown",
   "id": "02959967",
   "metadata": {},
   "source": [
    "# 5.Remove Duplicates in-place from Sorted Array"
   ]
  },
  {
   "cell_type": "code",
   "execution_count": 68,
   "id": "3d137c48",
   "metadata": {},
   "outputs": [
    {
     "name": "stdout",
     "output_type": "stream",
     "text": [
      "The array after removing duplicate elements is \n",
      "1 4 6 7 "
     ]
    }
   ],
   "source": [
    "# Solution 1: Brute Force\n",
    "\n",
    "def remove_duplicate(arr):\n",
    "    st = set()\n",
    "    for i in range(len(arr)):\n",
    "        st.add(arr[i])\n",
    "        \n",
    "    k = len(st)\n",
    "    j = 0\n",
    "    for x in st:\n",
    "        arr[j] = x\n",
    "        j += 1\n",
    "    print(\"The array after removing duplicate elements is \")\n",
    "    for i in range(k):\n",
    "        print(arr[i], end=\" \")\n",
    "\n",
    "arr = [1,4,6,6,7,1,4]\n",
    "remove_duplicate(arr)\n",
    "\n",
    "# Time complexity: O(n*log(n))+O(n)\n",
    "# Space Complexity: O(n) "
   ]
  },
  {
   "cell_type": "code",
   "execution_count": 72,
   "id": "82f49c9a",
   "metadata": {},
   "outputs": [
    {
     "name": "stdout",
     "output_type": "stream",
     "text": [
      "The array after removing duplicate elements is \n",
      "1 2 3 "
     ]
    }
   ],
   "source": [
    "# Solution 2: Two pointers\n",
    "''' This is consider only for the sorted array'''\n",
    "\n",
    "def removeDuplicates(arr):\n",
    "    i = 0\n",
    "    for j in range(1, len(arr)):\n",
    "        if arr[i] != arr[j]:\n",
    "            i += 1\n",
    "            arr[i] = arr[j]\n",
    "    return i + 1\n",
    "\n",
    "\n",
    "if __name__ == \"__main__\":\n",
    "    arr = [1, 1, 2, 2, 2, 3, 3]\n",
    "    k = removeDuplicates(arr)\n",
    "    print(\"The array after removing duplicate elements is \")\n",
    "    for i in range(k):\n",
    "        print(arr[i], end=\" \")\n"
   ]
  },
  {
   "cell_type": "markdown",
   "id": "57c57d03",
   "metadata": {},
   "source": [
    "# 6.Indexes of Subarray Sum"
   ]
  },
  {
   "cell_type": "code",
   "execution_count": 1,
   "id": "7674804a",
   "metadata": {},
   "outputs": [
    {
     "name": "stdout",
     "output_type": "stream",
     "text": [
      "[2, 4]\n",
      "[1, 5]\n",
      "[-1]\n"
     ]
    }
   ],
   "source": [
    "# User function Template for python3\n",
    "class Solution:\n",
    "    def subarraySum(self, arr, target):\n",
    "        prefixsum = {0: 0} \n",
    "        curr_sum = 0\n",
    "        \n",
    "        for i, a in enumerate(arr):\n",
    "            curr_sum += a\n",
    "            target_sum = curr_sum - target\n",
    "            \n",
    "            if target_sum in prefixsum:\n",
    "                return [prefixsum[target_sum] + 1, i + 1]\n",
    "                \n",
    "            if curr_sum not in prefixsum:\n",
    "                prefixsum[curr_sum] = i + 1\n",
    "                \n",
    "        return [-1]\n",
    "\n",
    "sol = Solution()\n",
    "print(sol.subarraySum([1, 2, 3, 7, 5], 12))           # Output: [2, 4]\n",
    "print(sol.subarraySum([1, 2, 3, 4, 5, 6, 7, 8, 9, 10], 15))  # Output: [1, 5]\n",
    "print(sol.subarraySum([5, 3, 4], 2))  "
   ]
  },
  {
   "cell_type": "markdown",
   "id": "4f65dc79",
   "metadata": {},
   "source": [
    "# 7.Missing in Array"
   ]
  },
  {
   "cell_type": "markdown",
   "id": "c49ad081",
   "metadata": {},
   "source": [
    "* https://www.youtube.com/watch?v=bYWLJb3vCWY\n",
    "* http://geeksforgeeks.org/problems/missing-number-in-array1416/1?page=1&sortBy=submissions"
   ]
  },
  {
   "cell_type": "code",
   "execution_count": 2,
   "id": "e33cabd8",
   "metadata": {},
   "outputs": [
    {
     "name": "stdout",
     "output_type": "stream",
     "text": [
      "6\n"
     ]
    }
   ],
   "source": [
    "class Solution:\n",
    "    def missingNum(self, arr):\n",
    "        n = len(arr) + 1\n",
    "        total = n * (n + 1) // 2\n",
    "        return total - sum(arr)\n",
    "\n",
    "sol = Solution()\n",
    "print(sol.missingNum([8, 2, 4, 5, 3, 7, 1]))\n"
   ]
  },
  {
   "cell_type": "code",
   "execution_count": null,
   "id": "0732826f",
   "metadata": {},
   "outputs": [],
   "source": []
  },
  {
   "cell_type": "code",
   "execution_count": 8,
   "id": "db73ef8e",
   "metadata": {},
   "outputs": [
    {
     "data": {
      "text/plain": [
       "3"
      ]
     },
     "execution_count": 8,
     "metadata": {},
     "output_type": "execute_result"
    }
   ],
   "source": [
    "def consecutive_ones(arr):\n",
    "    maxi = 0\n",
    "    count = 0\n",
    "    for i in range(1,len(arr)):\n",
    "        if arr[i] == 1:\n",
    "            count += 1\n",
    "            maxi = max(maxi,count)\n",
    "        else:\n",
    "            count = 0\n",
    "    return maxi\n",
    "\n",
    "arr = [0, 1, 1, 0, 1, 1, 1]\n",
    "consecutive_ones(arr)"
   ]
  },
  {
   "cell_type": "markdown",
   "id": "1153e9bd",
   "metadata": {},
   "source": [
    "# 9.Max Consecutive Bit"
   ]
  },
  {
   "cell_type": "markdown",
   "id": "6cdd1b90",
   "metadata": {},
   "source": [
    "* https://www.geeksforgeeks.org/problems/max-consecutive-one/1\n",
    "* https://www.geeksforgeeks.org/dsa/maximum-consecutive-ones-or-zeros-in-a-binary-array/"
   ]
  },
  {
   "cell_type": "code",
   "execution_count": 10,
   "id": "daa41f1b",
   "metadata": {},
   "outputs": [
    {
     "data": {
      "text/plain": [
       "4"
      ]
     },
     "execution_count": 10,
     "metadata": {},
     "output_type": "execute_result"
    }
   ],
   "source": [
    "# [Approach - 1] Using Simple Traversal - O(n) Time and O(1) Space\n",
    "\n",
    "def consecutive_bit(arr):\n",
    "    max1 = 0\n",
    "    count = 0\n",
    "    for i in range(len(arr)):\n",
    "        if arr[i] == arr[i-1]:\n",
    "            count += 1\n",
    "            max1 = max(max1,count)\n",
    "            \n",
    "        else:\n",
    "            count = 1\n",
    "    return max1\n",
    "\n",
    "arr = [0, 1,0, 0, 0, 0, 1]\n",
    "consecutive_bit(arr)"
   ]
  },
  {
   "cell_type": "code",
   "execution_count": 17,
   "id": "adbef3d7",
   "metadata": {},
   "outputs": [
    {
     "data": {
      "text/plain": [
       "4"
      ]
     },
     "execution_count": 17,
     "metadata": {},
     "output_type": "execute_result"
    }
   ],
   "source": [
    "# [Approach - 2] Using Bit Manipulation - O(n) Time and O(1) Space\n",
    "\n",
    "def maxConsecBits(arr):\n",
    "    maxi, count, prev = 0, 0, -1\n",
    "\n",
    "    for i in arr:\n",
    "        if prev ^ i == 0:\n",
    "            count += 1\n",
    "            maxi = max(maxi,count)\n",
    "        else:\n",
    "            count = 1\n",
    "        prev = i\n",
    "    return maxi\n",
    "            \n",
    "            \n",
    "arr = [0, 1,0, 0, 0, 0, 1]\n",
    "maxConsecBits(arr)       "
   ]
  },
  {
   "cell_type": "markdown",
   "id": "198cc923",
   "metadata": {},
   "source": [
    "# 10.Left Rotate the Array by One"
   ]
  },
  {
   "cell_type": "markdown",
   "id": "0f4f2034",
   "metadata": {},
   "source": [
    "* https://takeuforward.org/data-structure/left-rotate-the-array-by-one/\n",
    "* "
   ]
  },
  {
   "cell_type": "code",
   "execution_count": 20,
   "id": "8138fbdc",
   "metadata": {},
   "outputs": [
    {
     "name": "stdout",
     "output_type": "stream",
     "text": [
      "2 3 4 5 1 \n"
     ]
    }
   ],
   "source": [
    "# Solution 1: Brute force Approach\n",
    "\n",
    "def solve(arr, n):\n",
    "    temp = [0] * n\n",
    "    for i in range(1, n):\n",
    "        temp[i - 1] = arr[i]\n",
    "    temp[n - 1] = arr[0]\n",
    "    for i in range(n):\n",
    "        print(temp[i], end=\" \")\n",
    "    print()\n",
    "\n",
    "n = 5\n",
    "arr = [1, 2, 3, 4, 5]\n",
    "solve(arr, n)"
   ]
  },
  {
   "cell_type": "code",
   "execution_count": 22,
   "id": "3bd4e485",
   "metadata": {},
   "outputs": [
    {
     "name": "stdout",
     "output_type": "stream",
     "text": [
      "2 3 4 5 1 "
     ]
    }
   ],
   "source": [
    "# Solution 2:\n",
    "\n",
    "def optimal_solve(arr):\n",
    "    temp = arr[0]\n",
    "    for i in range(len(arr)-1):\n",
    "        arr[i] = arr[i+1]\n",
    "    arr[n-1] = temp\n",
    "    for i in range(len(arr)):\n",
    "        print(arr[i],end=\" \")\n",
    "   \n",
    "arr1 = [1, 2, 3, 4, 5]\n",
    "optimal_solve(arr1)"
   ]
  },
  {
   "cell_type": "markdown",
   "id": "8d18546f",
   "metadata": {},
   "source": [
    "# 11.Rotate array by K elements"
   ]
  },
  {
   "cell_type": "code",
   "execution_count": 27,
   "id": "e47d93a2",
   "metadata": {},
   "outputs": [
    {
     "name": "stdout",
     "output_type": "stream",
     "text": [
      "[6, 7, 1, 2, 3, 4, 5]\n"
     ]
    }
   ],
   "source": [
    "# Solution 01 : Brute force Approach\n",
    "\n",
    "def rotate_to_right(arr, k):\n",
    "    n = len(arr)\n",
    "    if n == 0:\n",
    "        return\n",
    "    k %= n\n",
    "    if k == 0:\n",
    "        return\n",
    "\n",
    "    temp = arr[-k:] \n",
    "\n",
    "    for i in range(n - k - 1, -1, -1):\n",
    "        arr[i + k] = arr[i]\n",
    "\n",
    "    arr[:k] = temp\n",
    "    \n",
    "    \n",
    "arr = [1,2,3,4,5,6,7]\n",
    "rotate_to_right(arr, 2)\n",
    "print(arr)  # [6, 7, 1, 2, 3, 4, 5]\n"
   ]
  },
  {
   "cell_type": "code",
   "execution_count": 32,
   "id": "1ebef7df",
   "metadata": {},
   "outputs": [
    {
     "name": "stdout",
     "output_type": "stream",
     "text": [
      "[3, 4, 5, 6, 7, 1, 2]\n"
     ]
    }
   ],
   "source": [
    "def rotate_to_left(arr,k):\n",
    "    n = len(arr)\n",
    "    if n == 0:\n",
    "        return\n",
    "    k = k % n\n",
    "    if k == 0:\n",
    "        return\n",
    "    temp = arr[:k]\n",
    "    for i in range(n-k):\n",
    "        arr[i] = arr[i+k]\n",
    "    arr[n-k:] = temp\n",
    "    \n",
    "arr = [1,2,3,4,5,6,7]\n",
    "rotate_to_left(arr, 2)\n",
    "print(arr)  "
   ]
  },
  {
   "cell_type": "code",
   "execution_count": 40,
   "id": "2060560c",
   "metadata": {},
   "outputs": [
    {
     "name": "stdout",
     "output_type": "stream",
     "text": [
      "[5, 6, 7, 1, 2, 3, 4]\n"
     ]
    }
   ],
   "source": [
    "# solution 02 : optimal solution using reverse fumction\n",
    "\n",
    "def rotate_right(nums, k):\n",
    "    n = len(nums)\n",
    "    if n == 0:\n",
    "        return\n",
    "    k %= n\n",
    "    if k == 0:\n",
    "        return\n",
    "\n",
    "    def rev(a, l, r):\n",
    "        while l < r:\n",
    "            a[l], a[r] = a[r], a[l]\n",
    "            l += 1; r -= 1\n",
    "\n",
    "    # Reverse whole array, then first k, then remaining n-k\n",
    "    rev(nums, 0, n - 1)\n",
    "    rev(nums, 0, k - 1)\n",
    "    rev(nums, k, n - 1)\n",
    "\n",
    "   \n",
    "nums = [1,2,3,4,5,6,7]\n",
    "rotate_right(nums,3)\n",
    "print(nums)"
   ]
  },
  {
   "cell_type": "code",
   "execution_count": 42,
   "id": "2fc40a1c",
   "metadata": {},
   "outputs": [
    {
     "name": "stdout",
     "output_type": "stream",
     "text": [
      "[4, 5, 6, 7, 1, 2, 3]\n"
     ]
    }
   ],
   "source": [
    "def r_to_l(nums,k):\n",
    "    \n",
    "    n = len(arr)\n",
    "    if n == 0:\n",
    "        return\n",
    "    k = k % n\n",
    "    if k == 0:\n",
    "        return\n",
    "    \n",
    "    def rev(a,l,r):\n",
    "        while l < r:\n",
    "            arr[l] , arr[r] = arr[r] , arr[l]\n",
    "            l += 1;r -= 1\n",
    "       \n",
    "    # Reverse first k, reverse last n-k, then reverse whole array\n",
    "    rev(nums,0,k-1)\n",
    "    rev(nums,k,n-1)\n",
    "    rev(nums,0,n-1)\n",
    "   \n",
    "nums = [1,2,3,4,5,6,7]\n",
    "r_to_l(nums,3)\n",
    "print(arr)"
   ]
  },
  {
   "cell_type": "markdown",
   "id": "9be5b7f3",
   "metadata": {},
   "source": [
    "# 12.Move all Zeros to the end of the array"
   ]
  },
  {
   "cell_type": "code",
   "execution_count": null,
   "id": "6a334f3e",
   "metadata": {},
   "outputs": [],
   "source": [
    "* https://takeuforward.org/data-structure/move-all-zeros-to-the-end-of-the-array/\n",
    "* "
   ]
  },
  {
   "cell_type": "code",
   "execution_count": 6,
   "id": "f02a96c8",
   "metadata": {},
   "outputs": [
    {
     "name": "stdout",
     "output_type": "stream",
     "text": [
      "1 2 3 2 4 5 1 0 0 0 \n"
     ]
    }
   ],
   "source": [
    "# Solution :01 --> Brute Force Approach\n",
    "\n",
    "def move_zero_end(arr):\n",
    "    # macha first declare an empty array\n",
    "    temp = []\n",
    "    n = len(arr)\n",
    "    # Then if i element is != 0 append to new temp array\n",
    "    for i in range(n):\n",
    "        if arr[i] != 0:\n",
    "            temp.append(arr[i])\n",
    "            \n",
    "    nz = len(temp)\n",
    "    # now copy that temp array into original array\n",
    "    for i in range(nz):\n",
    "        arr[i] = temp[i]\n",
    "    #Then for rimaining space fill array 0\n",
    "    for i in range(nz,n):\n",
    "        arr[i] = 0\n",
    "        \n",
    "    return arr\n",
    "\n",
    "if __name__ == \"__main__\":\n",
    "    arr = [1, 0, 2, 3, 2, 0, 0, 4, 5, 1]\n",
    "    ans = move_zero_end(arr)\n",
    "    for it in ans:\n",
    "        print(it,end=\" \")\n",
    "    print()\n",
    "    \n",
    "#  Time Complexity: O(N) + O(X) + O(N-X) ~ O(2*N)\n",
    "#  Space Complexity: O(N)"
   ]
  },
  {
   "cell_type": "code",
   "execution_count": 10,
   "id": "3bea4d03",
   "metadata": {},
   "outputs": [
    {
     "name": "stdout",
     "output_type": "stream",
     "text": [
      "1 2 3 2 4 5 1 0 0 0 \n"
     ]
    }
   ],
   "source": [
    "# Solution 2: Optimal approach using the two pointer\n",
    "\n",
    "# Move all zeros to the end; stable, in-place, O(n) time, O(1) space\n",
    "def move_zero_end(a):\n",
    "    n = len(a)\n",
    "\n",
    "    # find first zero index j\n",
    "    j = -1\n",
    "    for i in range(n):\n",
    "        if a[i] == 0:\n",
    "            j = i\n",
    "            break\n",
    "\n",
    "    # no zeros found -> already done\n",
    "    if j == -1:\n",
    "        return a\n",
    "\n",
    "    # sweep i from j+1; when non-zero, swap with position j and advance j\n",
    "    for i in range(j + 1, n):\n",
    "        if a[i] != 0:\n",
    "            a[i], a[j] = a[j], a[i]\n",
    "            j += 1\n",
    "    return a\n",
    "\n",
    "if __name__ == \"__main__\":\n",
    "    a = [1, 0, 2, 3, 2, 0, 0, 4, 5, 1]\n",
    "    an = move_zero_end(a)\n",
    "    for it in an:\n",
    "        print(it, end=\" \")\n",
    "    print()\n"
   ]
  },
  {
   "cell_type": "code",
   "execution_count": 11,
   "id": "6f5e5bc3",
   "metadata": {},
   "outputs": [
    {
     "name": "stdout",
     "output_type": "stream",
     "text": [
      "1 2 3 2 4 5 1 0 0 0 \n"
     ]
    }
   ],
   "source": [
    "def move_zeroes(a):\n",
    "    k = 0\n",
    "    for i, x in enumerate(a):\n",
    "        if x != 0:\n",
    "            a[k], a[i] = a[i], a[k]\n",
    "            k += 1\n",
    "    return a\n",
    "\n",
    "if __name__ == \"__main__\":\n",
    "    a = [1, 0, 2, 3, 2, 0, 0, 4, 5, 1]\n",
    "    an = move_zeroes(a)\n",
    "    for it in an:\n",
    "        print(it, end=\" \")\n",
    "    print()"
   ]
  },
  {
   "cell_type": "code",
   "execution_count": 12,
   "id": "53b268d6",
   "metadata": {},
   "outputs": [
    {
     "name": "stdout",
     "output_type": "stream",
     "text": [
      "1 2 4 3 5 0 0 0 "
     ]
    }
   ],
   "source": [
    "def pushZerosToEnd(arr):\n",
    "    \n",
    "    count = 0\n",
    "    \n",
    "    for i in range(len(arr)):\n",
    "        if arr[i] != 0:\n",
    "            arr[i], arr[count] = arr[count], arr[i]\n",
    "            count += 1\n",
    "\n",
    "if __name__ == \"__main__\":\n",
    "    arr = [1, 2, 0, 4, 3, 0, 5, 0]\n",
    "    pushZerosToEnd(arr)\n",
    "    for num in arr:\n",
    "        print(num, end=\" \")"
   ]
  },
  {
   "cell_type": "markdown",
   "id": "691fa09e",
   "metadata": {},
   "source": [
    "# 13.Linear Search"
   ]
  },
  {
   "cell_type": "code",
   "execution_count": 19,
   "id": "5c68408e",
   "metadata": {},
   "outputs": [
    {
     "data": {
      "text/plain": [
       "8"
      ]
     },
     "execution_count": 19,
     "metadata": {},
     "output_type": "execute_result"
    }
   ],
   "source": [
    "def ls(arr,target):\n",
    "    for i in arr:\n",
    "        if i == target:\n",
    "            return i\n",
    "    return -1\n",
    "    \n",
    "arr = [1, 2, 8, 4, 3, 0, 5, 0]\n",
    "ls(arr,8)"
   ]
  },
  {
   "cell_type": "markdown",
   "id": "1d856210",
   "metadata": {},
   "source": [
    "# 14.Union of Two Sorted Arrays"
   ]
  },
  {
   "cell_type": "code",
   "execution_count": 2,
   "id": "71008ce5",
   "metadata": {},
   "outputs": [
    {
     "name": "stdout",
     "output_type": "stream",
     "text": [
      "Union of arr1 and arr2 is:\n",
      "1 2 3 4 5 6 7 8 9 10 11 12 "
     ]
    }
   ],
   "source": [
    "# Solution 1: Using Map\n",
    "\n",
    "def find_union(arr1, arr2):\n",
    "    freq = {}\n",
    "    union = []\n",
    "    \n",
    "    for num in arr1:\n",
    "        freq[num] = freq.get(num, 0) + 1\n",
    "    \n",
    "    for num in arr2:\n",
    "        freq[num] = freq.get(num, 0) + 1\n",
    "    \n",
    "    for num in freq:\n",
    "        union.append(num)\n",
    "    \n",
    "    return union\n",
    "\n",
    "arr1 = [1, 2, 3, 4, 5, 6, 7, 8, 9, 10]\n",
    "arr2 = [2, 3, 4, 4, 5, 11, 12]\n",
    "\n",
    "union = find_union(arr1, arr2)\n",
    "\n",
    "print(\"Union of arr1 and arr2 is:\")\n",
    "for num in union:\n",
    "    print(num, end=\" \")\n",
    "    \n",
    "# Time Compleixty : O( (m+n)log(m+n) )\n",
    "# Space Complexity : O(m+n)"
   ]
  },
  {
   "cell_type": "code",
   "execution_count": 3,
   "id": "9c144836",
   "metadata": {},
   "outputs": [
    {
     "name": "stdout",
     "output_type": "stream",
     "text": [
      "Union of arr1 and arr2 is:\n",
      "1 2 3 4 5 6 7 8 9 10 11 12\n"
     ]
    }
   ],
   "source": [
    "# Solution 2: Using set\n",
    "\n",
    "def find_union(arr1, arr2):\n",
    "    s = set()\n",
    "    union = []\n",
    "    \n",
    "    for num in arr1:\n",
    "        s.add(num)\n",
    "    \n",
    "    for num in arr2:\n",
    "        s.add(num)\n",
    "    \n",
    "    for num in s:\n",
    "        union.append(num)\n",
    "    \n",
    "    return union\n",
    "\n",
    "arr1 = [1, 2, 3, 4, 5, 6, 7, 8, 9, 10]\n",
    "arr2 = [2, 3, 4, 4, 5, 11, 12]\n",
    "\n",
    "union = find_union(arr1, arr2)\n",
    "\n",
    "print(\"Union of arr1 and arr2 is:\")\n",
    "print(*union)"
   ]
  },
  {
   "cell_type": "code",
   "execution_count": 10,
   "id": "8b9b59a5",
   "metadata": {},
   "outputs": [
    {
     "name": "stdout",
     "output_type": "stream",
     "text": [
      "Union of arr1 and arr2 is:\n",
      "1 2 3 4 5 6 7 8 9 10 11 12\n"
     ]
    }
   ],
   "source": [
    "# Solution 3 : Using pointer\n",
    "# the solution 1 & 2 is used in both sorted and unsorted array but this solution 3 works in sorted only\n",
    "\n",
    "def union_sorted(a, b):\n",
    "    res = []\n",
    "    i = j = 0\n",
    "    n, m = len(a), len(b)\n",
    "    while i < n and j < m:\n",
    "        if a[i] <= b[j]:\n",
    "            if not res or res[-1] != a[i]:\n",
    "                res.append(a[i])\n",
    "            i += 1\n",
    "        else:\n",
    "            if not res or res[-1] != b[j]:\n",
    "                res.append(b[j])\n",
    "            j += 1\n",
    "    while i < n:\n",
    "        if not res or res[-1] != a[i]:\n",
    "            res.append(a[i])\n",
    "        i += 1\n",
    "    while j < m:\n",
    "        if not res or res[-1] != b[j]:\n",
    "            res.append(b[j])\n",
    "        j += 1\n",
    "    return res\n",
    "\n",
    "\n",
    "\n",
    "arr1 = [1,4, 5, 6, 7, 8, 9, 10]\n",
    "arr2 = [2, 3, 4, 4, 5, 11, 12]\n",
    "\n",
    "union = union_sorted(arr1, arr2)\n",
    "\n",
    "print(\"Union of arr1 and arr2 is:\")\n",
    "print(*union)\n",
    "\n",
    "# Time and space Complexity: O(m+n)"
   ]
  },
  {
   "cell_type": "code",
   "execution_count": null,
   "id": "26737391",
   "metadata": {},
   "outputs": [],
   "source": []
  }
 ],
 "metadata": {
  "kernelspec": {
   "display_name": "Python 3 (ipykernel)",
   "language": "python",
   "name": "python3"
  },
  "language_info": {
   "codemirror_mode": {
    "name": "ipython",
    "version": 3
   },
   "file_extension": ".py",
   "mimetype": "text/x-python",
   "name": "python",
   "nbconvert_exporter": "python",
   "pygments_lexer": "ipython3",
   "version": "3.11.3"
  }
 },
 "nbformat": 4,
 "nbformat_minor": 5
}
