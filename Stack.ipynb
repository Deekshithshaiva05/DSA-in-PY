{
 "cells": [
  {
   "cell_type": "markdown",
   "id": "942a3011",
   "metadata": {},
   "source": [
    "# Stack"
   ]
  },
  {
   "cell_type": "markdown",
   "id": "1e1784b3",
   "metadata": {},
   "source": [
    "###### Implementing the stack in python : There are many ways to implement a stack in python\n",
    "\n"
   ]
  },
  {
   "cell_type": "code",
   "execution_count": 9,
   "id": "4d7af694",
   "metadata": {},
   "outputs": [
    {
     "name": "stdout",
     "output_type": "stream",
     "text": [
      "30\n",
      "20\n",
      "False\n"
     ]
    }
   ],
   "source": [
    "# 1. Using a List(Built-in Approach)\n",
    "\n",
    "class stack:\n",
    "    def __init__(self):\n",
    "        self.stack = []\n",
    "        \n",
    "    def push(self,item):\n",
    "        self.stack.append(item)\n",
    "        \n",
    "    def pop(self):\n",
    "        if not self.is_empty():\n",
    "            return self.stack.pop()\n",
    "        return \"stack is empty\"\n",
    "    \n",
    "    def peek(self):\n",
    "        if not self.is_empty():\n",
    "            return self.stack[-1]\n",
    "        return \"stack is empty\"\n",
    "    \n",
    "    def is_empty(self):\n",
    "        return len(self.stack) == 0\n",
    "    \n",
    "    def size(self):\n",
    "        return len(self.stack)\n",
    "    \n",
    "if __name__ == '__main__':\n",
    "    s = stack()\n",
    "    s.push(10)\n",
    "    s.push(20)\n",
    "    s.push(30)\n",
    "    print(s.pop())\n",
    "    print(s.peek())\n",
    "    print(s.is_empty())\n",
    "    "
   ]
  },
  {
   "cell_type": "code",
   "execution_count": 19,
   "id": "a83107f2",
   "metadata": {},
   "outputs": [
    {
     "name": "stdout",
     "output_type": "stream",
     "text": [
      "10\n",
      "stack is empty\n"
     ]
    }
   ],
   "source": [
    "# 2.Using Collection deque(Recommended for Efficiency)\n",
    "\n",
    "# deque from the collections module provides an optimized way to implement a stack.\n",
    "\n",
    "\n",
    "from collections import deque\n",
    "\n",
    "class stack:\n",
    "    def __init__(self):\n",
    "        self.stack = deque()\n",
    "        \n",
    "    def push(self,item):\n",
    "        self.stack.append(item)\n",
    "        \n",
    "    def pop(self):\n",
    "        if self.stack:\n",
    "            return self.stack.pop()\n",
    "        return \"stack is empty\"\n",
    "    \n",
    "    def peek(self):\n",
    "        if self.stack:\n",
    "            return self.stack[-1]\n",
    "        return \"stack is empty\"\n",
    "    \n",
    "    def is_empty(self):\n",
    "        return not self.stack\n",
    "    \n",
    "    def size(self):\n",
    "        return len(self.stack)\n",
    "    \n",
    "    s = stack()\n",
    "    s.push(10)\n",
    "    print(s.peek())\n",
    "    s.pop()\n",
    "    print(s.peek())"
   ]
  },
  {
   "cell_type": "code",
   "execution_count": 26,
   "id": "90aaf724",
   "metadata": {},
   "outputs": [
    {
     "name": "stdout",
     "output_type": "stream",
     "text": [
      "2\n",
      "Size of the stack is :1\n"
     ]
    }
   ],
   "source": [
    "# 3.Using queue.LifoQueue(Thread-safe)\n",
    "\n",
    "# python provide a thread-safe LifoQueue in the queue module\n",
    "\n",
    "\n",
    "from queue import LifoQueue\n",
    "\n",
    "stack = LifoQueue(maxsize=10)\n",
    "stack.put(1)\n",
    "stack.put(2)\n",
    "#print(stack.qsize())\n",
    "print(stack.get())\n",
    "print(f\"Size of the stack is :{stack.qsize()}\")"
   ]
  },
  {
   "cell_type": "code",
   "execution_count": 3,
   "id": "ad774fd4",
   "metadata": {},
   "outputs": [
    {
     "name": "stdout",
     "output_type": "stream",
     "text": [
      "olleh\n"
     ]
    }
   ],
   "source": [
    "# 1. Reverse a String using Stack\n",
    "\n",
    "def reverse_string(s):\n",
    "    stack = []\n",
    "    for char in s:\n",
    "        stack.append(char)\n",
    "        \n",
    "    reversed_str = \"\"\n",
    "    while stack:\n",
    "        reversed_str += stack.pop()\n",
    "    \n",
    "    return reversed_str\n",
    "\n",
    "print(reverse_string(\"hello\"))"
   ]
  },
  {
   "cell_type": "code",
   "execution_count": 6,
   "id": "ef4fb848",
   "metadata": {},
   "outputs": [
    {
     "name": "stdout",
     "output_type": "stream",
     "text": [
      "True\n",
      "False\n"
     ]
    }
   ],
   "source": [
    "# 2. Check for Balanced Parentheses\n",
    "\n",
    "\n",
    "def is_balanced(expression):\n",
    "    stack = []\n",
    "    pairs = {')': '(', ']': '[', '}': '{'}\n",
    "\n",
    "    for char in expression:\n",
    "        if char in \"({[\":\n",
    "            stack.append(char)  # Push opening brackets\n",
    "        elif char in \")}]\":\n",
    "            if not stack or stack.pop() != pairs[char]:  # Check if top matches\n",
    "                return False\n",
    "\n",
    "    return len(stack) == 0  # If stack is empty, it is balanced\n",
    "\n",
    "# Examples\n",
    "print(is_balanced(\"{[()]}\"))  # Output: True\n",
    "print(is_balanced(\"{[(])}\"))  # Output: False"
   ]
  },
  {
   "cell_type": "code",
   "execution_count": 7,
   "id": "b3e89565",
   "metadata": {},
   "outputs": [
    {
     "name": "stdout",
     "output_type": "stream",
     "text": [
      "Undo: Delete 'o'\n",
      "Redo: Delete 'o'\n"
     ]
    }
   ],
   "source": [
    "# 3. Implement Undo/Redo Functionality\n",
    "\n",
    "class UndoRedo:\n",
    "    def __init__(self):\n",
    "        self.undo_stack = []\n",
    "        self.redo_stack = []\n",
    "\n",
    "    def perform_action(self, action):\n",
    "        self.undo_stack.append(action)  # Push action to undo stack\n",
    "        self.redo_stack.clear()  # Clear redo stack\n",
    "\n",
    "    def undo(self):\n",
    "        if self.undo_stack:\n",
    "            last_action = self.undo_stack.pop()  # Pop from undo stack\n",
    "            self.redo_stack.append(last_action)  # Push to redo stack\n",
    "            return f\"Undo: {last_action}\"\n",
    "        return \"No actions to undo\"\n",
    "\n",
    "    def redo(self):\n",
    "        if self.redo_stack:\n",
    "            last_action = self.redo_stack.pop()  # Pop from redo stack\n",
    "            self.undo_stack.append(last_action)  # Push back to undo stack\n",
    "            return f\"Redo: {last_action}\"\n",
    "        return \"No actions to redo\"\n",
    "\n",
    "# Example\n",
    "editor = UndoRedo()\n",
    "editor.perform_action(\"Type 'Hello'\")\n",
    "editor.perform_action(\"Delete 'o'\")\n",
    "print(editor.undo())  # Output: Undo: Delete 'o'\n",
    "print(editor.redo())  # Output: Redo: Delete 'o'\n"
   ]
  },
  {
   "cell_type": "code",
   "execution_count": 8,
   "id": "86aa54ea",
   "metadata": {},
   "outputs": [
    {
     "name": "stdout",
     "output_type": "stream",
     "text": [
      "25\n"
     ]
    }
   ],
   "source": [
    "def evaluate_postfix(expression):\n",
    "    stack = []\n",
    "    for token in expression.split():\n",
    "        if token.isdigit():\n",
    "            stack.append(int(token))  # Push numbers onto stack\n",
    "        else:\n",
    "            b = stack.pop()\n",
    "            a = stack.pop()\n",
    "            if token == '+':\n",
    "                stack.append(a + b)\n",
    "            elif token == '-':\n",
    "                stack.append(a - b)\n",
    "            elif token == '*':\n",
    "                stack.append(a * b)\n",
    "            elif token == '/':\n",
    "                stack.append(a / b)\n",
    "\n",
    "    return stack.pop()\n",
    "\n",
    "# Example\n",
    "expr = \"2 3 + 5 *\"  # Equivalent to (2 + 3) * 5\n",
    "print(evaluate_postfix(expr))  # Output: 25"
   ]
  },
  {
   "cell_type": "code",
   "execution_count": 9,
   "id": "712beb41",
   "metadata": {},
   "outputs": [
    {
     "name": "stdout",
     "output_type": "stream",
     "text": [
      "github.com\n",
      "google.com\n",
      "github.com\n"
     ]
    }
   ],
   "source": [
    "# 5. Browser Back and Forward Navigation\n",
    "\n",
    "class BrowserHistory:\n",
    "    def __init__(self):\n",
    "        self.back_stack = []\n",
    "        self.forward_stack = []\n",
    "\n",
    "    def visit(self, url):\n",
    "        self.back_stack.append(url)  # Visit new URL\n",
    "        self.forward_stack.clear()  # Clear forward history\n",
    "\n",
    "    def back(self):\n",
    "        if len(self.back_stack) > 1:\n",
    "            self.forward_stack.append(self.back_stack.pop())  # Move to forward stack\n",
    "            return self.back_stack[-1]\n",
    "        return \"No more history\"\n",
    "\n",
    "    def forward(self):\n",
    "        if self.forward_stack:\n",
    "            self.back_stack.append(self.forward_stack.pop())  # Move back to back stack\n",
    "            return self.back_stack[-1]\n",
    "        return \"No forward history\"\n",
    "\n",
    "# Example\n",
    "browser = BrowserHistory()\n",
    "browser.visit(\"google.com\")\n",
    "browser.visit(\"github.com\")\n",
    "browser.visit(\"stackoverflow.com\")\n",
    "print(browser.back())    # Output: github.com\n",
    "print(browser.back())    # Output: google.com\n",
    "print(browser.forward()) # Output: github.com\n"
   ]
  },
  {
   "cell_type": "code",
   "execution_count": null,
   "id": "203ed58c",
   "metadata": {},
   "outputs": [],
   "source": []
  }
 ],
 "metadata": {
  "kernelspec": {
   "display_name": "Python 3 (ipykernel)",
   "language": "python",
   "name": "python3"
  },
  "language_info": {
   "codemirror_mode": {
    "name": "ipython",
    "version": 3
   },
   "file_extension": ".py",
   "mimetype": "text/x-python",
   "name": "python",
   "nbconvert_exporter": "python",
   "pygments_lexer": "ipython3",
   "version": "3.11.3"
  }
 },
 "nbformat": 4,
 "nbformat_minor": 5
}
